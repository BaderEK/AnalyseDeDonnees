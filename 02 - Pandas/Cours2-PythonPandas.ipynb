{
 "cells": [
  {
   "cell_type": "markdown",
   "metadata": {},
   "source": [
    "<center><img src=\"https://polytech.univ-lyon1.fr/uas/polytech/LOGO/UDL_logo_blanc-01%20(2).png\" alt=\"drawing\" style=\"width:100px;\"/></center>\n",
    "\n",
    "# Introduction à Python pour la Data Science\n",
    "\n",
    "## Manipulation de données avec Python"
   ]
  },
  {
   "cell_type": "markdown",
   "metadata": {},
   "source": [
    "### <a href=\"http://pandas.pydata.org/\"><img src=\"https://technopremium.com/blog/wp-content/uploads/2019/07/pandas-2.jpg\" style=\"min-width: 5px; display: inline\" alt=\"Pandas\"/></a> \n",
    "\n",
    "**Résumé**:  Utilisation de Python pour la préparation (*data munging* ou *wrangling* ou trafic) de données pas trop massives: qui tiennent en mémoire une fois réorganisées. Cette étape est abordée par l'initiation aux fonctionnalités de la librairie `pandas` et à la classe `DataFrame`; lire et écrire des fichiers, gérer une table de données et les types des variables, échantillonner, discrétiser, regrouper des modalités, description élémentaires uni et bi-variées; concaténation et jointure de tables."
   ]
  },
  {
   "cell_type": "markdown",
   "metadata": {},
   "source": [
    "## 1 Introduction\n",
    "### 1.1 Objectifs\n",
    "Le *data munging* ou *wrangling* (traduit ici par *trafic*) de données est l'ensemble des opérations permettant de passer de données brutes à une table (*data frame*) correcte et adaptée aux objectifs à atteindre par des  méthodes statistiques d'analyse, exploration, modélisation ou apprentissage. \n",
    "\n",
    "En présence de données complexes, peu ou mal organisées, présentant des trous, trop massives pour tenir en mémoire...  la qualité de cette étape est fondamentale (*garbage in garbage out*) pour la bonne réalisation d'une étude. \n",
    "\n",
    "### 1.2 Croissance du volume\n",
    "Le volume des données et sa croissance occasionnent schématiquement trois situations.\n",
    "1. Le fichier initial des données brutes peut être chargé  intégralement en mémoire moyennant éventuellement de sauter quelques colonnes ou lignes du fichier (cf. section  3.1). C'est la situation courante, tout logiciel statistique comme R peut réaliser les traitements. \n",
    "2. Le fichier initial est très volumineux mais la table (*DataFrame*), qui résulte de quelques  trafics (*munging*) appropriés, tient en mémoire. Cette situations nécessite: lecture, analyse, transformation, ré-écriture, séquentielles du fichier ligne à ligne ou par bloc. Il existe des astuces avec R mais il est préférable d'utiliser des outils plus adaptés. Tout langage de programmation (java, c, perl, ruby...) peut être utilisé pour écrire le ou les programmes réalisant ce travail. Néanmoins Python, et plus précisément la librairie [`pandas`](http://pandas.pydata.org/), offrent un ensemble d'outils efficaces pour accomplir ces tâches sans avoir à ré-inventer la roue et ré-écrire tout un ensemble de fonctionnalités relativement basiques. \n",
    "Remarque : les procédures `univariate` et `freq` et l'étape `data` de SAS sont adaptées car elles ne chargent pas les données en mémoire pour réaliser des traitements rudimentaires. Néanmoins pour tout un tas de raisons, notamment de coût annuel de location, SAS perd régulièrement des parts de marché sur ce créneau. \n",
    "3. Lorsque les données, très massives, sont archivées sur un système de données distribuées (*Hadoop Distributed File System* ou HDFS), trafic et prétraitement des données doivent tenir compte de cet environnement. L'environnement *Spark* et l'API `PySpark` permettant de gérer en python des données distribuées est à favoriser.\n",
    "\n",
    "### 1.3 Quelques problèmes\n",
    "Liste non exhaustive des problèmes pouvant être rencontrés et dont la résolution nécessite simultanément des compétences en Informatique, Statistique, Mathématiques et aussi \"métier\" du domaine de l'étude. \n",
    "-  Identifier les \"individus\" $\\times$ \"variables\" (*instances*$\\times$*features* en langue informatique) de la table à mettre en forme à partir de bases de données variées; *i.e.* logs d'un site web, listes d'incidents, localisations...\n",
    "- Donnés atypiques (*outliers*): correction, suppression, transformation des variables\n",
    "- Variable qualitative avec beaucoup de modalités dont certaines très peu fréquentes: suppression, modalité `autres`, recodage aléatoire, regroupement \"métier\"\n",
    "- Données manquantes: suppressions (ligne ou colonne), imputation de valeurs...\n",
    "- Représentations (splines, Fourier, ondelettes) et recalage (*time warping*) de données fonctionnelles.\n",
    "- Représentation de trajectoires, de chemins sur un graphe (routage des paquets de données dans un réseau, découverte du chemin le plus court pour aller d'une ville à une autre) \n",
    "- Choix d'une distance (quadratique, absolue, géodésique...) entre les objets étudiés.\n",
    "- ...\n",
    "Bien entendu les \"bons\" choix dépendent directement de l'objectif poursuivi et des méthodes mises en oeuvre par la suite. D'où l'importance d'intégrer de façon précoce, dès la planification du recueil des données, les compétences statistiques nécessaires au sein d'une équipe. \n",
    "### 1.4 Fonctionnalités de `pandas`\n",
    "La richesse des fonctionnalités de la librairie `pandas` est une des raisons, si ce n'est la principale,  d'utiliser Python pour extraire, préparer, éventuellement analyser, des données. En voici un bref aperçu. \n",
    "- *Objets*: les classes `Series` et `DataFrame` ou *table de données*.\n",
    "- *Lire, écrire* création et exportation de tables de données à partir de fichiers textes (séparateurs, `.csv`, format fixe, compressés), binaires (HDF5 avec `Pytable`), HTML, XML, JSON, MongoDB, SQL... \n",
    "- *Gestion*  d'une table: sélection des lignes, colonnes, transformations, réorganisation par niveau d'un facteur, discrétisation de variables quantitatives, exclusion ou imputation élémentaire de données manquantes, permutation et échantillonnage aléatoire, variables indicatrices, chaînes de caractères...\n",
    "- *Statistiques* élémentaires  uni et bivariées, tri à plat (nombre de modalités, de valeurs nulles, de valeurs manquantes...), graphiques associés, statistiques par groupe, détection élémentaire de valeurs atypiques...\n",
    "- *Manipulation* de tables: concaténations, fusions, jointures, tri, gestion des types et formats...\n",
    "### 1.5 Références\n",
    "Ce tutoriel élémentaire s'inspire largement du livre de référence (Mc Kinney, 2013) et de la [documentation en ligne](http://pandas.pydata.org/pandas-docs/stable/) à consulter sans modération. Cette documentation inclut également des [tutoriels](http://pandas.pydata.org/pandas-docs/stable/tutorials.html) à exécuter pour compléter et approfondir la première ébauche d'un sujet relativement technique et qui peut prendre des tournures très diverses en fonction de la qualité et des types de données traitées.\n",
    "### 1.6 Exemple\n",
    "Les données choisies pour illustrer ce tutoriel sont issues d'une compétition du site [Kaggle](https://www.kaggle.com/): [Titanic: Machine learnic from Disaster](https://www.kaggle.com/c/titanic-gettingStarted). Le concours est terminé mais les [données](https://www.kaggle.com/c/titanic-gettingStarted/data) sont toujours disponibles sur le site avec des tutoriels utilisant Excel, Python ou R. \n",
    "\n",
    "Une des raisons du drame, qui provoqua la mort de 1502 personnes sur les 2224 passagers et membres d'équipage, fut le manque de canots de sauvetage. Il apparaît que les chances de survie dépendaient de différents facteurs (sexe, âge, classe...). Le but du concours est de construire un modèle de prévision (classification supervisée) de survie en fonction de ces facteurs. Les données sont composées d'un échantillon d'apprentissage (891) et d'un échantillon test (418) chacun décrit par 11 variables dont la première indiquant la survie ou non lors du naufrage. "
   ]
  },
  {
   "cell_type": "markdown",
   "metadata": {},
   "source": [
    "Liste des variables\n",
    "\n",
    "Label  | Intitulé\n",
    "----------|-------------\n",
    "survival   |     Survival (0 = No; 1 = Yes)\n",
    "pclass   |       Passenger Class (1 = 1st; 2 = 2nd; 3 = 3rd)\n",
    "name    |       Name\n",
    "sex     |        Sex\n",
    "age     |        Age\n",
    "sibsp   |        Number of Siblings/Spouses Aboard\n",
    "parch    |       Number of Parents/Children Aboard\n",
    "ticket   |       Ticket Number\n",
    "fare    |        Passenger Fare\n",
    "cabin   |        Cabin\n",
    "embarked |       Port of Embarkation (C = Cherbourg; Q = Queenstown; S = Southampton)"
   ]
  },
  {
   "cell_type": "markdown",
   "metadata": {},
   "source": [
    "## 2 Les classes `Series` et `DataFrame`\n",
    "De même que la librairie `Numpy` introduit le type `array` indispensable à la manipulation de matrices en calcul scientifique, celle `pandas` introduit les classes `Series` (séries chronologiques) et  `DataFrame` ou table de données indispensables en statistique. \n",
    "\n",
    "### 2.1 *Series*\n",
    "La classe `Series` est l'association de deux `arrays` unidimensionnels. Le premier est un ensemble de valeurs indexées par le 2ème qui est souvent une série temporelle.  Ce type est introduit principalement pour des applications en Econométrie et Finance où Python est largement utilisé."
   ]
  },
  {
   "cell_type": "markdown",
   "metadata": {},
   "source": [
    "### 2.2 *DataFrame*\n",
    "Cette classe est proche de celle du même nom dans le langage R, il s'agit d'associer avec le même index de lignes des colonnes ou variables de types différents (entier, réel, booléen, caractère). C'est un tableau bi-dimensionnel avec des index de lignes et de colonnes mais il peut également être vu comme une liste de `Series` partageant le même index. L'index de colonne (noms des variables) est un objet de type `dict` (dictionnaire). C'est la classe qui sera principalement utilisée dans ce tutoriel. "
   ]
  },
  {
   "cell_type": "code",
   "execution_count": 1,
   "metadata": {},
   "outputs": [
    {
     "data": {
      "text/html": [
       "<div>\n",
       "<style scoped>\n",
       "    .dataframe tbody tr th:only-of-type {\n",
       "        vertical-align: middle;\n",
       "    }\n",
       "\n",
       "    .dataframe tbody tr th {\n",
       "        vertical-align: top;\n",
       "    }\n",
       "\n",
       "    .dataframe thead th {\n",
       "        text-align: right;\n",
       "    }\n",
       "</style>\n",
       "<table border=\"1\" class=\"dataframe\">\n",
       "  <thead>\n",
       "    <tr style=\"text-align: right;\">\n",
       "      <th></th>\n",
       "      <th>year</th>\n",
       "      <th>state</th>\n",
       "      <th>pop</th>\n",
       "    </tr>\n",
       "  </thead>\n",
       "  <tbody>\n",
       "    <tr>\n",
       "      <th>0</th>\n",
       "      <td>2000</td>\n",
       "      <td>Ohio</td>\n",
       "      <td>1.5</td>\n",
       "    </tr>\n",
       "    <tr>\n",
       "      <th>1</th>\n",
       "      <td>2001</td>\n",
       "      <td>Ohio</td>\n",
       "      <td>1.7</td>\n",
       "    </tr>\n",
       "    <tr>\n",
       "      <th>2</th>\n",
       "      <td>2002</td>\n",
       "      <td>Ohio</td>\n",
       "      <td>3.6</td>\n",
       "    </tr>\n",
       "    <tr>\n",
       "      <th>3</th>\n",
       "      <td>2001</td>\n",
       "      <td>Nevada</td>\n",
       "      <td>2.4</td>\n",
       "    </tr>\n",
       "    <tr>\n",
       "      <th>4</th>\n",
       "      <td>2002</td>\n",
       "      <td>Nevada</td>\n",
       "      <td>2.9</td>\n",
       "    </tr>\n",
       "  </tbody>\n",
       "</table>\n",
       "</div>"
      ],
      "text/plain": [
       "   year   state  pop\n",
       "0  2000    Ohio  1.5\n",
       "1  2001    Ohio  1.7\n",
       "2  2002    Ohio  3.6\n",
       "3  2001  Nevada  2.4\n",
       "4  2002  Nevada  2.9"
      ]
     },
     "execution_count": 1,
     "metadata": {},
     "output_type": "execute_result"
    }
   ],
   "source": [
    "# Exemple de data frame\n",
    "import pandas as pd\n",
    "data = {\"state\": [\"Ohio\", \"Ohio\", \"Ohio\", \n",
    "       \"Nevada\", \"Nevada\"],\n",
    "     \"year\": [2000, 2001, 2002, 2001, 2002],\n",
    "     \"pop\": [1.5, 1.7, 3.6, 2.4, 2.9]}\n",
    "frame = pd.DataFrame(data)\n",
    "# ordre des colonnes\n",
    "pd.DataFrame(data, columns=[\"year\", \"state\", \"pop\"])"
   ]
  },
  {
   "cell_type": "code",
   "execution_count": 2,
   "metadata": {},
   "outputs": [
    {
     "data": {
      "text/plain": [
       "Index(['state', 'year', 'pop'], dtype='object')"
      ]
     },
     "execution_count": 2,
     "metadata": {},
     "output_type": "execute_result"
    }
   ],
   "source": [
    "# index des lignes et valeurs manquantes (NaN)\n",
    "frame2=pd.DataFrame(data, columns=[\"year\", \"state\", \"pop\", \"debt\"],\n",
    "     index=[\"one\", \"two\", \"three\", \"four\", \"five\"])\n",
    "# liste des colonnes\n",
    "frame.columns"
   ]
  },
  {
   "cell_type": "code",
   "execution_count": 3,
   "metadata": {},
   "outputs": [
    {
     "data": {
      "text/plain": [
       "0      Ohio\n",
       "1      Ohio\n",
       "2      Ohio\n",
       "3    Nevada\n",
       "4    Nevada\n",
       "Name: state, dtype: object"
      ]
     },
     "execution_count": 3,
     "metadata": {},
     "output_type": "execute_result"
    }
   ],
   "source": [
    "# valeurs d'une colonnes\n",
    "frame[\"state\"]"
   ]
  },
  {
   "cell_type": "code",
   "execution_count": 4,
   "metadata": {},
   "outputs": [
    {
     "data": {
      "text/plain": [
       "0    2000\n",
       "1    2001\n",
       "2    2002\n",
       "3    2001\n",
       "4    2002\n",
       "Name: year, dtype: int64"
      ]
     },
     "execution_count": 4,
     "metadata": {},
     "output_type": "execute_result"
    }
   ],
   "source": [
    "frame.year"
   ]
  },
  {
   "cell_type": "code",
   "execution_count": 5,
   "metadata": {},
   "outputs": [
    {
     "data": {
      "text/html": [
       "<div>\n",
       "<style scoped>\n",
       "    .dataframe tbody tr th:only-of-type {\n",
       "        vertical-align: middle;\n",
       "    }\n",
       "\n",
       "    .dataframe tbody tr th {\n",
       "        vertical-align: top;\n",
       "    }\n",
       "\n",
       "    .dataframe thead th {\n",
       "        text-align: right;\n",
       "    }\n",
       "</style>\n",
       "<table border=\"1\" class=\"dataframe\">\n",
       "  <thead>\n",
       "    <tr style=\"text-align: right;\">\n",
       "      <th></th>\n",
       "      <th>year</th>\n",
       "      <th>state</th>\n",
       "      <th>pop</th>\n",
       "      <th>debt</th>\n",
       "    </tr>\n",
       "  </thead>\n",
       "  <tbody>\n",
       "    <tr>\n",
       "      <th>one</th>\n",
       "      <td>2000</td>\n",
       "      <td>Ohio</td>\n",
       "      <td>1.5</td>\n",
       "      <td>16.5</td>\n",
       "    </tr>\n",
       "    <tr>\n",
       "      <th>two</th>\n",
       "      <td>2001</td>\n",
       "      <td>Ohio</td>\n",
       "      <td>1.7</td>\n",
       "      <td>16.5</td>\n",
       "    </tr>\n",
       "    <tr>\n",
       "      <th>three</th>\n",
       "      <td>2002</td>\n",
       "      <td>Ohio</td>\n",
       "      <td>3.6</td>\n",
       "      <td>16.5</td>\n",
       "    </tr>\n",
       "    <tr>\n",
       "      <th>four</th>\n",
       "      <td>2001</td>\n",
       "      <td>Nevada</td>\n",
       "      <td>2.4</td>\n",
       "      <td>16.5</td>\n",
       "    </tr>\n",
       "    <tr>\n",
       "      <th>five</th>\n",
       "      <td>2002</td>\n",
       "      <td>Nevada</td>\n",
       "      <td>2.9</td>\n",
       "      <td>16.5</td>\n",
       "    </tr>\n",
       "  </tbody>\n",
       "</table>\n",
       "</div>"
      ],
      "text/plain": [
       "       year   state  pop  debt\n",
       "one    2000    Ohio  1.5  16.5\n",
       "two    2001    Ohio  1.7  16.5\n",
       "three  2002    Ohio  3.6  16.5\n",
       "four   2001  Nevada  2.4  16.5\n",
       "five   2002  Nevada  2.9  16.5"
      ]
     },
     "execution_count": 5,
     "metadata": {},
     "output_type": "execute_result"
    }
   ],
   "source": [
    "# \"imputation\"\n",
    "frame2[\"debt\"] = 16.5\n",
    "frame2"
   ]
  },
  {
   "cell_type": "code",
   "execution_count": 6,
   "metadata": {},
   "outputs": [
    {
     "data": {
      "text/html": [
       "<div>\n",
       "<style scoped>\n",
       "    .dataframe tbody tr th:only-of-type {\n",
       "        vertical-align: middle;\n",
       "    }\n",
       "\n",
       "    .dataframe tbody tr th {\n",
       "        vertical-align: top;\n",
       "    }\n",
       "\n",
       "    .dataframe thead th {\n",
       "        text-align: right;\n",
       "    }\n",
       "</style>\n",
       "<table border=\"1\" class=\"dataframe\">\n",
       "  <thead>\n",
       "    <tr style=\"text-align: right;\">\n",
       "      <th></th>\n",
       "      <th>year</th>\n",
       "      <th>state</th>\n",
       "      <th>pop</th>\n",
       "      <th>debt</th>\n",
       "      <th>eastern</th>\n",
       "    </tr>\n",
       "  </thead>\n",
       "  <tbody>\n",
       "    <tr>\n",
       "      <th>one</th>\n",
       "      <td>2000</td>\n",
       "      <td>Ohio</td>\n",
       "      <td>1.5</td>\n",
       "      <td>16.5</td>\n",
       "      <td>True</td>\n",
       "    </tr>\n",
       "    <tr>\n",
       "      <th>two</th>\n",
       "      <td>2001</td>\n",
       "      <td>Ohio</td>\n",
       "      <td>1.7</td>\n",
       "      <td>16.5</td>\n",
       "      <td>True</td>\n",
       "    </tr>\n",
       "    <tr>\n",
       "      <th>three</th>\n",
       "      <td>2002</td>\n",
       "      <td>Ohio</td>\n",
       "      <td>3.6</td>\n",
       "      <td>16.5</td>\n",
       "      <td>True</td>\n",
       "    </tr>\n",
       "    <tr>\n",
       "      <th>four</th>\n",
       "      <td>2001</td>\n",
       "      <td>Nevada</td>\n",
       "      <td>2.4</td>\n",
       "      <td>16.5</td>\n",
       "      <td>False</td>\n",
       "    </tr>\n",
       "    <tr>\n",
       "      <th>five</th>\n",
       "      <td>2002</td>\n",
       "      <td>Nevada</td>\n",
       "      <td>2.9</td>\n",
       "      <td>16.5</td>\n",
       "      <td>False</td>\n",
       "    </tr>\n",
       "  </tbody>\n",
       "</table>\n",
       "</div>"
      ],
      "text/plain": [
       "       year   state  pop  debt  eastern\n",
       "one    2000    Ohio  1.5  16.5     True\n",
       "two    2001    Ohio  1.7  16.5     True\n",
       "three  2002    Ohio  3.6  16.5     True\n",
       "four   2001  Nevada  2.4  16.5    False\n",
       "five   2002  Nevada  2.9  16.5    False"
      ]
     },
     "execution_count": 6,
     "metadata": {},
     "output_type": "execute_result"
    }
   ],
   "source": [
    "# créer une  variable\n",
    "frame2[\"eastern\"] = frame2.state == \"Ohio\"\n",
    "frame2"
   ]
  },
  {
   "cell_type": "code",
   "execution_count": 7,
   "metadata": {},
   "outputs": [
    {
     "data": {
      "text/plain": [
       "Index(['year', 'state', 'pop', 'debt', 'eastern'], dtype='object')"
      ]
     },
     "execution_count": 7,
     "metadata": {},
     "output_type": "execute_result"
    }
   ],
   "source": [
    "frame2.columns"
   ]
  },
  {
   "cell_type": "code",
   "execution_count": 8,
   "metadata": {},
   "outputs": [
    {
     "data": {
      "text/plain": [
       "Index(['year', 'state', 'pop', 'debt'], dtype='object')"
      ]
     },
     "execution_count": 8,
     "metadata": {},
     "output_type": "execute_result"
    }
   ],
   "source": [
    "# supprimer une  variable\n",
    "del frame2[u\"eastern\"]\n",
    "frame2.columns"
   ]
  },
  {
   "cell_type": "markdown",
   "metadata": {},
   "source": [
    "### 2.3 Index\n",
    "Les index peuvent être définis par emboîtement et beaucoup d'autres fonctionnalités sur la gestion des index sont décrites par Mac Kinney (2013) (chapitre 5): \n",
    "- `append` nouvel index par concaténation,\n",
    "- `diff` différence ensembliste,\n",
    "- `intersection` intersection ensembliste,\n",
    "- `union` union ensembliste\n",
    "- `isin` vrai si la valeur est dans la liste,\n",
    "- `delete` suppression de l'index $i$,\n",
    "- `drop` suppression d'une valeur d'index, \n",
    "- `is_monotonic` vrai si les valeurs sont croissantes, \n",
    "- `is_unique` vrai si toutes les valeurs sont différentes, \n",
    "- `unique` tableau des valeurs uniques de l'index."
   ]
  },
  {
   "cell_type": "markdown",
   "metadata": {},
   "source": [
    "## 3 Lire écrire des tables de données\n",
    "`Pandas` offre des outils efficaces pour lire écrire des fichiers selon différents formats (csv, texte, fixe, compressé, xml, html, hdf5) ou interagir avec des bases de données SQL, MongoDB, des APIs web. Ce document se contente de décrire les fonctions les plus utiles `read_csv` et `read_table` pour lire des fichiers textes et générer un objet de classe ` DataFrame`. \n",
    "\n",
    "En principe ces fonctions font appel à un code écrit en C dont très rapide à l'exécution sauf pour l'emploi de certaines options (`skip\\_footer, sep`} autre qu'un seul caractère), à éviter, qui provoquent une exécution en Python (`engine=Python`). \n",
    "\n",
    "La réciproque pour l'écriture est obtenue par les commandes `data.to_csv` ou `_table` avec des options similaires. \n",
    "\n",
    "### 3.1 Syntaxe\n",
    "L'exemple de base est donné pour lire un fichier au format `.csv` dont les valeurs sont séparées par des \",\" et dont la première ligne contient le nom des variables.\n",
    "``\n",
    "import pandas as pd\n",
    "data=pd.read_csv(\"fichier.csv\")\n",
    "data=pd.read_table(\"fichier.csv\", sep=\",\")\n",
    "``\n",
    "\n",
    "Il est important de connaître la liste des possibilités et options offertes par cette simple commande. Voici les principales ci-dessous et un lien à la [liste complète](http://pandas.pydata.org/pandas-docs/stable/io.html#io-read-csv-table).\n",
    "- `path` chemin ou non du fichier ou URL.\n",
    "- `sep` délimiteur comme \",\", \";\", \"\\t\" ou \"\\s+\" #  pour un nombre variable d'espaces. \n",
    "- `header` défaut 0, la première ligne contient le nom des variables; si `None` les noms sont générés ou définis par ailleurs.\n",
    "- `index_col` noms ou numéros de colonnes définissant les index de lignes.\n",
    "- `names` si {header=None}, liste des noms des variables. \n",
    "- `nrows` utile pour tester et limiter le nombre de ligne à lire.\n",
    "- `skiprow` liste de lignes à sauter en lecture.\n",
    "- `skip_footer` nombre de lignes à sauter en fin de fichier.\n",
    "- `na_values` définition du ou des codes signalant des valeurs manquantes. Ils peuvent être définis dans un dictionnaire pour associer variables et codes de valeurs manquantes spécifiques.\n",
    "- `usecols` sélectionne une liste des variable à lire pour éviter de lire des champs ou variables volumineuses et inutiles.\n",
    "- `skip_blan_lines` à `True` pour sauter les lignes blanches.\n",
    "- `converters` appliquer une fonction à une colonne ou variable. # {'date':pd.to_datetime}\n",
    "- `day_first` par défaut `False`, pour des dates françaises au format `7/06/2013`.\n",
    "- `chunksize` taille des morceaux à lire itérativement.\n",
    "- `verbose` imprime des informations comme le nombre de valeurs manquantes des variables non numériques.\n",
    "- `encoding` type d'encodage comme \"utf-8\" ou \"latin-1\"\n",
    "- `thousand` séparateur des miliers: \".\" ou \",\".\n",
    "\n",
    "Remarques:\n",
    "- De nombreuses options de gestion des dates et séries ne sont pas citées.\n",
    "- `chunksize` provoque la lecture d'un gros fichiers par morceaux de même taille (nombre de lignes). Des fonctions (comptage, dénombrement...) peuvent ensuite s'appliquer itérativement sur les morceaux.\n"
   ]
  },
  {
   "cell_type": "markdown",
   "metadata": {},
   "source": [
    "### 3.2 Exemple\n",
    "Les données du naufrage du Titanic  illustrent l'utilisation de `pandas`. "
   ]
  },
  {
   "cell_type": "code",
   "execution_count": 9,
   "metadata": {},
   "outputs": [
    {
     "data": {
      "text/html": [
       "<div>\n",
       "<style scoped>\n",
       "    .dataframe tbody tr th:only-of-type {\n",
       "        vertical-align: middle;\n",
       "    }\n",
       "\n",
       "    .dataframe tbody tr th {\n",
       "        vertical-align: top;\n",
       "    }\n",
       "\n",
       "    .dataframe thead th {\n",
       "        text-align: right;\n",
       "    }\n",
       "</style>\n",
       "<table border=\"1\" class=\"dataframe\">\n",
       "  <thead>\n",
       "    <tr style=\"text-align: right;\">\n",
       "      <th></th>\n",
       "      <th>PassengerId</th>\n",
       "      <th>Survived</th>\n",
       "      <th>Pclass</th>\n",
       "      <th>Name</th>\n",
       "      <th>Sex</th>\n",
       "      <th>Age</th>\n",
       "      <th>SibSp</th>\n",
       "      <th>Parch</th>\n",
       "      <th>Ticket</th>\n",
       "      <th>Fare</th>\n",
       "      <th>Cabin</th>\n",
       "      <th>Embarked</th>\n",
       "    </tr>\n",
       "  </thead>\n",
       "  <tbody>\n",
       "    <tr>\n",
       "      <th>0</th>\n",
       "      <td>1</td>\n",
       "      <td>0</td>\n",
       "      <td>3</td>\n",
       "      <td>Braund, Mr. Owen Harris</td>\n",
       "      <td>male</td>\n",
       "      <td>22</td>\n",
       "      <td>1</td>\n",
       "      <td>0</td>\n",
       "      <td>A/5 21171</td>\n",
       "      <td>7.2500</td>\n",
       "      <td>NaN</td>\n",
       "      <td>S</td>\n",
       "    </tr>\n",
       "    <tr>\n",
       "      <th>1</th>\n",
       "      <td>2</td>\n",
       "      <td>1</td>\n",
       "      <td>1</td>\n",
       "      <td>Cumings, Mrs. John Bradley (Florence Briggs Th...</td>\n",
       "      <td>female</td>\n",
       "      <td>38</td>\n",
       "      <td>1</td>\n",
       "      <td>0</td>\n",
       "      <td>PC 17599</td>\n",
       "      <td>71.2833</td>\n",
       "      <td>C85</td>\n",
       "      <td>C</td>\n",
       "    </tr>\n",
       "    <tr>\n",
       "      <th>2</th>\n",
       "      <td>3</td>\n",
       "      <td>1</td>\n",
       "      <td>3</td>\n",
       "      <td>Heikkinen, Miss. Laina</td>\n",
       "      <td>female</td>\n",
       "      <td>26</td>\n",
       "      <td>0</td>\n",
       "      <td>0</td>\n",
       "      <td>STON/O2. 3101282</td>\n",
       "      <td>7.9250</td>\n",
       "      <td>NaN</td>\n",
       "      <td>S</td>\n",
       "    </tr>\n",
       "    <tr>\n",
       "      <th>3</th>\n",
       "      <td>4</td>\n",
       "      <td>1</td>\n",
       "      <td>1</td>\n",
       "      <td>Futrelle, Mrs. Jacques Heath (Lily May Peel)</td>\n",
       "      <td>female</td>\n",
       "      <td>35</td>\n",
       "      <td>1</td>\n",
       "      <td>0</td>\n",
       "      <td>113803</td>\n",
       "      <td>53.1000</td>\n",
       "      <td>C123</td>\n",
       "      <td>S</td>\n",
       "    </tr>\n",
       "    <tr>\n",
       "      <th>4</th>\n",
       "      <td>5</td>\n",
       "      <td>0</td>\n",
       "      <td>3</td>\n",
       "      <td>Allen, Mr. William Henry</td>\n",
       "      <td>male</td>\n",
       "      <td>35</td>\n",
       "      <td>0</td>\n",
       "      <td>0</td>\n",
       "      <td>373450</td>\n",
       "      <td>8.0500</td>\n",
       "      <td>NaN</td>\n",
       "      <td>S</td>\n",
       "    </tr>\n",
       "  </tbody>\n",
       "</table>\n",
       "</div>"
      ],
      "text/plain": [
       "   PassengerId  Survived  Pclass  \\\n",
       "0            1         0       3   \n",
       "1            2         1       1   \n",
       "2            3         1       3   \n",
       "3            4         1       1   \n",
       "4            5         0       3   \n",
       "\n",
       "                                                Name     Sex  Age  SibSp  \\\n",
       "0                            Braund, Mr. Owen Harris    male   22      1   \n",
       "1  Cumings, Mrs. John Bradley (Florence Briggs Th...  female   38      1   \n",
       "2                             Heikkinen, Miss. Laina  female   26      0   \n",
       "3       Futrelle, Mrs. Jacques Heath (Lily May Peel)  female   35      1   \n",
       "4                           Allen, Mr. William Henry    male   35      0   \n",
       "\n",
       "   Parch            Ticket     Fare Cabin Embarked  \n",
       "0      0         A/5 21171   7.2500   NaN        S  \n",
       "1      0          PC 17599  71.2833   C85        C  \n",
       "2      0  STON/O2. 3101282   7.9250   NaN        S  \n",
       "3      0            113803  53.1000  C123        S  \n",
       "4      0            373450   8.0500   NaN        S  "
      ]
     },
     "execution_count": 9,
     "metadata": {},
     "output_type": "execute_result"
    }
   ],
   "source": [
    "# Importations\n",
    "import pandas as pd\n",
    "import numpy as np\n",
    "# tester la lecture\n",
    "df = pd.read_csv('../99 - Datasets/titanic-train.csv',nrows=5)\n",
    "df"
   ]
  },
  {
   "cell_type": "code",
   "execution_count": 10,
   "metadata": {},
   "outputs": [
    {
     "data": {
      "text/html": [
       "<div>\n",
       "<style scoped>\n",
       "    .dataframe tbody tr th:only-of-type {\n",
       "        vertical-align: middle;\n",
       "    }\n",
       "\n",
       "    .dataframe tbody tr th {\n",
       "        vertical-align: top;\n",
       "    }\n",
       "\n",
       "    .dataframe thead th {\n",
       "        text-align: right;\n",
       "    }\n",
       "</style>\n",
       "<table border=\"1\" class=\"dataframe\">\n",
       "  <thead>\n",
       "    <tr style=\"text-align: right;\">\n",
       "      <th></th>\n",
       "      <th>PassengerId</th>\n",
       "      <th>Survived</th>\n",
       "      <th>Pclass</th>\n",
       "      <th>Name</th>\n",
       "      <th>Sex</th>\n",
       "      <th>Age</th>\n",
       "      <th>SibSp</th>\n",
       "      <th>Parch</th>\n",
       "      <th>Ticket</th>\n",
       "      <th>Fare</th>\n",
       "      <th>Cabin</th>\n",
       "      <th>Embarked</th>\n",
       "    </tr>\n",
       "  </thead>\n",
       "  <tbody>\n",
       "    <tr>\n",
       "      <th>0</th>\n",
       "      <td>1</td>\n",
       "      <td>0</td>\n",
       "      <td>3</td>\n",
       "      <td>Braund, Mr. Owen Harris</td>\n",
       "      <td>male</td>\n",
       "      <td>22</td>\n",
       "      <td>1</td>\n",
       "      <td>0</td>\n",
       "      <td>A/5 21171</td>\n",
       "      <td>7.2500</td>\n",
       "      <td>NaN</td>\n",
       "      <td>S</td>\n",
       "    </tr>\n",
       "    <tr>\n",
       "      <th>1</th>\n",
       "      <td>2</td>\n",
       "      <td>1</td>\n",
       "      <td>1</td>\n",
       "      <td>Cumings, Mrs. John Bradley (Florence Briggs Th...</td>\n",
       "      <td>female</td>\n",
       "      <td>38</td>\n",
       "      <td>1</td>\n",
       "      <td>0</td>\n",
       "      <td>PC 17599</td>\n",
       "      <td>71.2833</td>\n",
       "      <td>C85</td>\n",
       "      <td>C</td>\n",
       "    </tr>\n",
       "    <tr>\n",
       "      <th>2</th>\n",
       "      <td>3</td>\n",
       "      <td>1</td>\n",
       "      <td>3</td>\n",
       "      <td>Heikkinen, Miss. Laina</td>\n",
       "      <td>female</td>\n",
       "      <td>26</td>\n",
       "      <td>0</td>\n",
       "      <td>0</td>\n",
       "      <td>STON/O2. 3101282</td>\n",
       "      <td>7.9250</td>\n",
       "      <td>NaN</td>\n",
       "      <td>S</td>\n",
       "    </tr>\n",
       "    <tr>\n",
       "      <th>3</th>\n",
       "      <td>4</td>\n",
       "      <td>1</td>\n",
       "      <td>1</td>\n",
       "      <td>Futrelle, Mrs. Jacques Heath (Lily May Peel)</td>\n",
       "      <td>female</td>\n",
       "      <td>35</td>\n",
       "      <td>1</td>\n",
       "      <td>0</td>\n",
       "      <td>113803</td>\n",
       "      <td>53.1000</td>\n",
       "      <td>C123</td>\n",
       "      <td>S</td>\n",
       "    </tr>\n",
       "    <tr>\n",
       "      <th>4</th>\n",
       "      <td>5</td>\n",
       "      <td>0</td>\n",
       "      <td>3</td>\n",
       "      <td>Allen, Mr. William Henry</td>\n",
       "      <td>male</td>\n",
       "      <td>35</td>\n",
       "      <td>0</td>\n",
       "      <td>0</td>\n",
       "      <td>373450</td>\n",
       "      <td>8.0500</td>\n",
       "      <td>NaN</td>\n",
       "      <td>S</td>\n",
       "    </tr>\n",
       "  </tbody>\n",
       "</table>\n",
       "</div>"
      ],
      "text/plain": [
       "   PassengerId  Survived  Pclass  \\\n",
       "0            1         0       3   \n",
       "1            2         1       1   \n",
       "2            3         1       3   \n",
       "3            4         1       1   \n",
       "4            5         0       3   \n",
       "\n",
       "                                                Name     Sex  Age  SibSp  \\\n",
       "0                            Braund, Mr. Owen Harris    male   22      1   \n",
       "1  Cumings, Mrs. John Bradley (Florence Briggs Th...  female   38      1   \n",
       "2                             Heikkinen, Miss. Laina  female   26      0   \n",
       "3       Futrelle, Mrs. Jacques Heath (Lily May Peel)  female   35      1   \n",
       "4                           Allen, Mr. William Henry    male   35      0   \n",
       "\n",
       "   Parch            Ticket     Fare Cabin Embarked  \n",
       "0      0         A/5 21171   7.2500   NaN        S  \n",
       "1      0          PC 17599  71.2833   C85        C  \n",
       "2      0  STON/O2. 3101282   7.9250   NaN        S  \n",
       "3      0            113803  53.1000  C123        S  \n",
       "4      0            373450   8.0500   NaN        S  "
      ]
     },
     "execution_count": 10,
     "metadata": {},
     "output_type": "execute_result"
    }
   ],
   "source": [
    "df.tail()"
   ]
  },
  {
   "cell_type": "code",
   "execution_count": 11,
   "metadata": {},
   "outputs": [
    {
     "data": {
      "text/html": [
       "<div>\n",
       "<style scoped>\n",
       "    .dataframe tbody tr th:only-of-type {\n",
       "        vertical-align: middle;\n",
       "    }\n",
       "\n",
       "    .dataframe tbody tr th {\n",
       "        vertical-align: top;\n",
       "    }\n",
       "\n",
       "    .dataframe thead th {\n",
       "        text-align: right;\n",
       "    }\n",
       "</style>\n",
       "<table border=\"1\" class=\"dataframe\">\n",
       "  <thead>\n",
       "    <tr style=\"text-align: right;\">\n",
       "      <th></th>\n",
       "      <th>PassengerId</th>\n",
       "      <th>Survived</th>\n",
       "      <th>Pclass</th>\n",
       "      <th>Name</th>\n",
       "      <th>Sex</th>\n",
       "      <th>Age</th>\n",
       "      <th>SibSp</th>\n",
       "      <th>Parch</th>\n",
       "      <th>Ticket</th>\n",
       "      <th>Fare</th>\n",
       "      <th>Cabin</th>\n",
       "      <th>Embarked</th>\n",
       "    </tr>\n",
       "  </thead>\n",
       "  <tbody>\n",
       "    <tr>\n",
       "      <th>0</th>\n",
       "      <td>1</td>\n",
       "      <td>0</td>\n",
       "      <td>3</td>\n",
       "      <td>Braund, Mr. Owen Harris</td>\n",
       "      <td>male</td>\n",
       "      <td>22.0</td>\n",
       "      <td>1</td>\n",
       "      <td>0</td>\n",
       "      <td>A/5 21171</td>\n",
       "      <td>7.2500</td>\n",
       "      <td>NaN</td>\n",
       "      <td>S</td>\n",
       "    </tr>\n",
       "    <tr>\n",
       "      <th>1</th>\n",
       "      <td>2</td>\n",
       "      <td>1</td>\n",
       "      <td>1</td>\n",
       "      <td>Cumings, Mrs. John Bradley (Florence Briggs Th...</td>\n",
       "      <td>female</td>\n",
       "      <td>38.0</td>\n",
       "      <td>1</td>\n",
       "      <td>0</td>\n",
       "      <td>PC 17599</td>\n",
       "      <td>71.2833</td>\n",
       "      <td>C85</td>\n",
       "      <td>C</td>\n",
       "    </tr>\n",
       "    <tr>\n",
       "      <th>2</th>\n",
       "      <td>3</td>\n",
       "      <td>1</td>\n",
       "      <td>3</td>\n",
       "      <td>Heikkinen, Miss. Laina</td>\n",
       "      <td>female</td>\n",
       "      <td>26.0</td>\n",
       "      <td>0</td>\n",
       "      <td>0</td>\n",
       "      <td>STON/O2. 3101282</td>\n",
       "      <td>7.9250</td>\n",
       "      <td>NaN</td>\n",
       "      <td>S</td>\n",
       "    </tr>\n",
       "    <tr>\n",
       "      <th>3</th>\n",
       "      <td>4</td>\n",
       "      <td>1</td>\n",
       "      <td>1</td>\n",
       "      <td>Futrelle, Mrs. Jacques Heath (Lily May Peel)</td>\n",
       "      <td>female</td>\n",
       "      <td>35.0</td>\n",
       "      <td>1</td>\n",
       "      <td>0</td>\n",
       "      <td>113803</td>\n",
       "      <td>53.1000</td>\n",
       "      <td>C123</td>\n",
       "      <td>S</td>\n",
       "    </tr>\n",
       "    <tr>\n",
       "      <th>4</th>\n",
       "      <td>5</td>\n",
       "      <td>0</td>\n",
       "      <td>3</td>\n",
       "      <td>Allen, Mr. William Henry</td>\n",
       "      <td>male</td>\n",
       "      <td>35.0</td>\n",
       "      <td>0</td>\n",
       "      <td>0</td>\n",
       "      <td>373450</td>\n",
       "      <td>8.0500</td>\n",
       "      <td>NaN</td>\n",
       "      <td>S</td>\n",
       "    </tr>\n",
       "  </tbody>\n",
       "</table>\n",
       "</div>"
      ],
      "text/plain": [
       "   PassengerId  Survived  Pclass  \\\n",
       "0            1         0       3   \n",
       "1            2         1       1   \n",
       "2            3         1       3   \n",
       "3            4         1       1   \n",
       "4            5         0       3   \n",
       "\n",
       "                                                Name     Sex   Age  SibSp  \\\n",
       "0                            Braund, Mr. Owen Harris    male  22.0      1   \n",
       "1  Cumings, Mrs. John Bradley (Florence Briggs Th...  female  38.0      1   \n",
       "2                             Heikkinen, Miss. Laina  female  26.0      0   \n",
       "3       Futrelle, Mrs. Jacques Heath (Lily May Peel)  female  35.0      1   \n",
       "4                           Allen, Mr. William Henry    male  35.0      0   \n",
       "\n",
       "   Parch            Ticket     Fare Cabin Embarked  \n",
       "0      0         A/5 21171   7.2500   NaN        S  \n",
       "1      0          PC 17599  71.2833   C85        C  \n",
       "2      0  STON/O2. 3101282   7.9250   NaN        S  \n",
       "3      0            113803  53.1000  C123        S  \n",
       "4      0            373450   8.0500   NaN        S  "
      ]
     },
     "execution_count": 11,
     "metadata": {},
     "output_type": "execute_result"
    }
   ],
   "source": [
    "# tout lire\n",
    "df = pd.read_csv(\"../99 - Datasets/titanic-train.csv\")\n",
    "df.head()"
   ]
  },
  {
   "cell_type": "code",
   "execution_count": 12,
   "metadata": {},
   "outputs": [
    {
     "data": {
      "text/html": [
       "<div>\n",
       "<style scoped>\n",
       "    .dataframe tbody tr th:only-of-type {\n",
       "        vertical-align: middle;\n",
       "    }\n",
       "\n",
       "    .dataframe tbody tr th {\n",
       "        vertical-align: top;\n",
       "    }\n",
       "\n",
       "    .dataframe thead th {\n",
       "        text-align: right;\n",
       "    }\n",
       "</style>\n",
       "<table border=\"1\" class=\"dataframe\">\n",
       "  <thead>\n",
       "    <tr style=\"text-align: right;\">\n",
       "      <th></th>\n",
       "      <th>Survived</th>\n",
       "      <th>Pclass</th>\n",
       "      <th>Sex</th>\n",
       "      <th>Age</th>\n",
       "      <th>SibSp</th>\n",
       "      <th>Parch</th>\n",
       "      <th>Fare</th>\n",
       "      <th>Embarked</th>\n",
       "    </tr>\n",
       "  </thead>\n",
       "  <tbody>\n",
       "    <tr>\n",
       "      <th>0</th>\n",
       "      <td>0</td>\n",
       "      <td>3</td>\n",
       "      <td>male</td>\n",
       "      <td>22</td>\n",
       "      <td>1</td>\n",
       "      <td>0</td>\n",
       "      <td>7.2500</td>\n",
       "      <td>S</td>\n",
       "    </tr>\n",
       "    <tr>\n",
       "      <th>1</th>\n",
       "      <td>1</td>\n",
       "      <td>1</td>\n",
       "      <td>female</td>\n",
       "      <td>38</td>\n",
       "      <td>1</td>\n",
       "      <td>0</td>\n",
       "      <td>71.2833</td>\n",
       "      <td>C</td>\n",
       "    </tr>\n",
       "    <tr>\n",
       "      <th>2</th>\n",
       "      <td>1</td>\n",
       "      <td>3</td>\n",
       "      <td>female</td>\n",
       "      <td>26</td>\n",
       "      <td>0</td>\n",
       "      <td>0</td>\n",
       "      <td>7.9250</td>\n",
       "      <td>S</td>\n",
       "    </tr>\n",
       "    <tr>\n",
       "      <th>3</th>\n",
       "      <td>1</td>\n",
       "      <td>1</td>\n",
       "      <td>female</td>\n",
       "      <td>35</td>\n",
       "      <td>1</td>\n",
       "      <td>0</td>\n",
       "      <td>53.1000</td>\n",
       "      <td>S</td>\n",
       "    </tr>\n",
       "    <tr>\n",
       "      <th>4</th>\n",
       "      <td>0</td>\n",
       "      <td>3</td>\n",
       "      <td>male</td>\n",
       "      <td>35</td>\n",
       "      <td>0</td>\n",
       "      <td>0</td>\n",
       "      <td>8.0500</td>\n",
       "      <td>S</td>\n",
       "    </tr>\n",
       "  </tbody>\n",
       "</table>\n",
       "</div>"
      ],
      "text/plain": [
       "   Survived  Pclass     Sex  Age  SibSp  Parch     Fare Embarked\n",
       "0         0       3    male   22      1      0   7.2500        S\n",
       "1         1       1  female   38      1      0  71.2833        C\n",
       "2         1       3  female   26      0      0   7.9250        S\n",
       "3         1       1  female   35      1      0  53.1000        S\n",
       "4         0       3    male   35      0      0   8.0500        S"
      ]
     },
     "execution_count": 12,
     "metadata": {},
     "output_type": "execute_result"
    }
   ],
   "source": [
    "# Des variables sont inexploitables\n",
    "# Choisir les colonnes utiles\n",
    "df=pd.read_csv(\"../99 - Datasets/titanic-train.csv\",\n",
    "    usecols=[1,2,4,5,6,7,9,11],nrows=5)\n",
    "df.head()"
   ]
  },
  {
   "cell_type": "markdown",
   "metadata": {},
   "source": [
    "À partir de la version 0.15, `pandas`, inclut un type `category` assez proche de celui ` factor` de R. Il devrait normalement être déclaré dans un dictionnaire au moment par exemple de la lecture (`dtype={\"Surv\":pd.Categorical...}`) mais ce n'est pas le cas, c'est donc le type objet qui est déclaré puis modifié. Il est vivement recommandé de bien affecter les bons types à chaque variable ne serait-ce que pour éviter de faire des opérations douteuses, par exemple arithmétiques sur des codes de modalités."
   ]
  },
  {
   "cell_type": "code",
   "execution_count": 13,
   "metadata": {},
   "outputs": [
    {
     "data": {
      "text/html": [
       "<div>\n",
       "<style scoped>\n",
       "    .dataframe tbody tr th:only-of-type {\n",
       "        vertical-align: middle;\n",
       "    }\n",
       "\n",
       "    .dataframe tbody tr th {\n",
       "        vertical-align: top;\n",
       "    }\n",
       "\n",
       "    .dataframe thead th {\n",
       "        text-align: right;\n",
       "    }\n",
       "</style>\n",
       "<table border=\"1\" class=\"dataframe\">\n",
       "  <thead>\n",
       "    <tr style=\"text-align: right;\">\n",
       "      <th></th>\n",
       "      <th>Surv</th>\n",
       "      <th>Classe</th>\n",
       "      <th>Genre</th>\n",
       "      <th>Age</th>\n",
       "      <th>Prix</th>\n",
       "      <th>Port</th>\n",
       "    </tr>\n",
       "  </thead>\n",
       "  <tbody>\n",
       "    <tr>\n",
       "      <th>0</th>\n",
       "      <td>0</td>\n",
       "      <td>3</td>\n",
       "      <td>male</td>\n",
       "      <td>22.0</td>\n",
       "      <td>7.2500</td>\n",
       "      <td>S</td>\n",
       "    </tr>\n",
       "    <tr>\n",
       "      <th>1</th>\n",
       "      <td>1</td>\n",
       "      <td>1</td>\n",
       "      <td>female</td>\n",
       "      <td>38.0</td>\n",
       "      <td>71.2833</td>\n",
       "      <td>C</td>\n",
       "    </tr>\n",
       "    <tr>\n",
       "      <th>2</th>\n",
       "      <td>1</td>\n",
       "      <td>3</td>\n",
       "      <td>female</td>\n",
       "      <td>26.0</td>\n",
       "      <td>7.9250</td>\n",
       "      <td>S</td>\n",
       "    </tr>\n",
       "    <tr>\n",
       "      <th>3</th>\n",
       "      <td>1</td>\n",
       "      <td>1</td>\n",
       "      <td>female</td>\n",
       "      <td>35.0</td>\n",
       "      <td>53.1000</td>\n",
       "      <td>S</td>\n",
       "    </tr>\n",
       "    <tr>\n",
       "      <th>4</th>\n",
       "      <td>0</td>\n",
       "      <td>3</td>\n",
       "      <td>male</td>\n",
       "      <td>35.0</td>\n",
       "      <td>8.0500</td>\n",
       "      <td>S</td>\n",
       "    </tr>\n",
       "  </tbody>\n",
       "</table>\n",
       "</div>"
      ],
      "text/plain": [
       "  Surv Classe   Genre   Age     Prix Port\n",
       "0    0      3    male  22.0   7.2500    S\n",
       "1    1      1  female  38.0  71.2833    C\n",
       "2    1      3  female  26.0   7.9250    S\n",
       "3    1      1  female  35.0  53.1000    S\n",
       "4    0      3    male  35.0   8.0500    S"
      ]
     },
     "execution_count": 13,
     "metadata": {},
     "output_type": "execute_result"
    }
   ],
   "source": [
    "df=pd.read_csv(\"../99 - Datasets/titanic-train.csv\",skiprows=1,header=None,usecols=[1,2,4,5,9,11],\n",
    "  names=[\"Surv\",\"Classe\",\"Genre\",\"Age\",\"Prix\",\"Port\"],dtype={\"Surv\":object,\n",
    "    \"Classe\":object,\"Genre\":object,\"Port\":object})\n",
    "df.head()"
   ]
  },
  {
   "cell_type": "code",
   "execution_count": 14,
   "metadata": {},
   "outputs": [
    {
     "data": {
      "text/plain": [
       "Surv       object\n",
       "Classe     object\n",
       "Genre      object\n",
       "Age       float64\n",
       "Prix      float64\n",
       "Port       object\n",
       "dtype: object"
      ]
     },
     "execution_count": 14,
     "metadata": {},
     "output_type": "execute_result"
    }
   ],
   "source": [
    "df.dtypes"
   ]
  },
  {
   "cell_type": "markdown",
   "metadata": {},
   "source": [
    "Redéfinition des bons types."
   ]
  },
  {
   "cell_type": "code",
   "execution_count": 15,
   "metadata": {},
   "outputs": [
    {
     "data": {
      "text/plain": [
       "Surv      category\n",
       "Classe    category\n",
       "Genre     category\n",
       "Age        float64\n",
       "Prix       float64\n",
       "Port      category\n",
       "dtype: object"
      ]
     },
     "execution_count": 15,
     "metadata": {},
     "output_type": "execute_result"
    }
   ],
   "source": [
    "df[\"Surv\"]=pd.Categorical(df[\"Surv\"],ordered=False)\n",
    "df[\"Classe\"]=pd.Categorical(df[\"Classe\"],ordered=False)\n",
    "df[\"Genre\"]=pd.Categorical(df[\"Genre\"],ordered=False)\n",
    "df[\"Port\"]=pd.Categorical(df[\"Port\"],ordered=False)\n",
    "df.dtypes"
   ]
  },
  {
   "cell_type": "markdown",
   "metadata": {},
   "source": [
    "Remarque: il est également possible de tout lire avant de laisser \"tomber\" les variable inexploitables. C'est le rôle de la commande: \n",
    "\n",
    "`df = df.drop([\"Name\", \"Ticket\", \"Cabin\"], axis=1)`"
   ]
  },
  {
   "cell_type": "markdown",
   "metadata": {},
   "source": [
    "### 3.3 Echantillonnage simple\n",
    "Comme dans R, le type `DataFrame` de Python est chargé en mémoire. Si, malgré les options précédentes permettant de sélectionner, les colonnes, les types des variables... le fichier est encore trop gros, il reste possible, avant de chercher une configuration matérielle lourde et en première approximation, de tirer un échantillon aléatoire simple selon une distribution uniforme. Un tirage stratifié demanderait plus de travail. Cela suppose de connaître le nombre de ligne du fichier ou une valeur inférieure proche."
   ]
  },
  {
   "cell_type": "code",
   "execution_count": 16,
   "metadata": {},
   "outputs": [
    {
     "data": {
      "text/html": [
       "<div>\n",
       "<style scoped>\n",
       "    .dataframe tbody tr th:only-of-type {\n",
       "        vertical-align: middle;\n",
       "    }\n",
       "\n",
       "    .dataframe tbody tr th {\n",
       "        vertical-align: top;\n",
       "    }\n",
       "\n",
       "    .dataframe thead th {\n",
       "        text-align: right;\n",
       "    }\n",
       "</style>\n",
       "<table border=\"1\" class=\"dataframe\">\n",
       "  <thead>\n",
       "    <tr style=\"text-align: right;\">\n",
       "      <th></th>\n",
       "      <th>Surv</th>\n",
       "      <th>Classe</th>\n",
       "      <th>Genre</th>\n",
       "      <th>Age</th>\n",
       "      <th>Prix</th>\n",
       "      <th>Port</th>\n",
       "    </tr>\n",
       "  </thead>\n",
       "  <tbody>\n",
       "    <tr>\n",
       "      <th>0</th>\n",
       "      <td>1</td>\n",
       "      <td>1</td>\n",
       "      <td>female</td>\n",
       "      <td>38.0</td>\n",
       "      <td>71.2833</td>\n",
       "      <td>C</td>\n",
       "    </tr>\n",
       "    <tr>\n",
       "      <th>1</th>\n",
       "      <td>1</td>\n",
       "      <td>3</td>\n",
       "      <td>female</td>\n",
       "      <td>26.0</td>\n",
       "      <td>7.9250</td>\n",
       "      <td>S</td>\n",
       "    </tr>\n",
       "    <tr>\n",
       "      <th>2</th>\n",
       "      <td>0</td>\n",
       "      <td>3</td>\n",
       "      <td>male</td>\n",
       "      <td>NaN</td>\n",
       "      <td>8.4583</td>\n",
       "      <td>Q</td>\n",
       "    </tr>\n",
       "    <tr>\n",
       "      <th>3</th>\n",
       "      <td>0</td>\n",
       "      <td>1</td>\n",
       "      <td>male</td>\n",
       "      <td>54.0</td>\n",
       "      <td>51.8625</td>\n",
       "      <td>S</td>\n",
       "    </tr>\n",
       "    <tr>\n",
       "      <th>4</th>\n",
       "      <td>0</td>\n",
       "      <td>3</td>\n",
       "      <td>male</td>\n",
       "      <td>2.0</td>\n",
       "      <td>21.0750</td>\n",
       "      <td>S</td>\n",
       "    </tr>\n",
       "    <tr>\n",
       "      <th>...</th>\n",
       "      <td>...</td>\n",
       "      <td>...</td>\n",
       "      <td>...</td>\n",
       "      <td>...</td>\n",
       "      <td>...</td>\n",
       "      <td>...</td>\n",
       "    </tr>\n",
       "    <tr>\n",
       "      <th>195</th>\n",
       "      <td>1</td>\n",
       "      <td>2</td>\n",
       "      <td>female</td>\n",
       "      <td>28.0</td>\n",
       "      <td>24.0000</td>\n",
       "      <td>C</td>\n",
       "    </tr>\n",
       "    <tr>\n",
       "      <th>196</th>\n",
       "      <td>0</td>\n",
       "      <td>3</td>\n",
       "      <td>male</td>\n",
       "      <td>20.0</td>\n",
       "      <td>9.8458</td>\n",
       "      <td>S</td>\n",
       "    </tr>\n",
       "    <tr>\n",
       "      <th>197</th>\n",
       "      <td>0</td>\n",
       "      <td>3</td>\n",
       "      <td>male</td>\n",
       "      <td>19.0</td>\n",
       "      <td>7.8958</td>\n",
       "      <td>S</td>\n",
       "    </tr>\n",
       "    <tr>\n",
       "      <th>198</th>\n",
       "      <td>1</td>\n",
       "      <td>1</td>\n",
       "      <td>female</td>\n",
       "      <td>56.0</td>\n",
       "      <td>83.1583</td>\n",
       "      <td>C</td>\n",
       "    </tr>\n",
       "    <tr>\n",
       "      <th>199</th>\n",
       "      <td>1</td>\n",
       "      <td>2</td>\n",
       "      <td>female</td>\n",
       "      <td>25.0</td>\n",
       "      <td>26.0000</td>\n",
       "      <td>S</td>\n",
       "    </tr>\n",
       "  </tbody>\n",
       "</table>\n",
       "<p>200 rows × 6 columns</p>\n",
       "</div>"
      ],
      "text/plain": [
       "     Surv  Classe   Genre   Age     Prix Port\n",
       "0       1       1  female  38.0  71.2833    C\n",
       "1       1       3  female  26.0   7.9250    S\n",
       "2       0       3    male   NaN   8.4583    Q\n",
       "3       0       1    male  54.0  51.8625    S\n",
       "4       0       3    male   2.0  21.0750    S\n",
       "..    ...     ...     ...   ...      ...  ...\n",
       "195     1       2  female  28.0  24.0000    C\n",
       "196     0       3    male  20.0   9.8458    S\n",
       "197     0       3    male  19.0   7.8958    S\n",
       "198     1       1  female  56.0  83.1583    C\n",
       "199     1       2  female  25.0  26.0000    S\n",
       "\n",
       "[200 rows x 6 columns]"
      ]
     },
     "execution_count": 16,
     "metadata": {},
     "output_type": "execute_result"
    }
   ],
   "source": [
    "# pour les données titanic:\n",
    "N=891  # taille du fichier\n",
    "n=200  # taille de l'échantillon\n",
    "lin2skipe=[0] # ne pas lire la première ligne\n",
    "# ne pas lire N-n lignes tirées aléatoirement\n",
    "lin2skipe.extend(np.random.choice(np.arange(1,N+1),\n",
    "    (N-n),replace=False))\n",
    "df_small=pd.read_csv(\"../99 - Datasets/titanic-train.csv\",\n",
    "    skiprows=lin2skipe,header=None, \n",
    "    usecols=[1,2,4,5,9,11],\n",
    "    names=[\"Surv\",\"Classe\",\"Genre\",\"Age\",\n",
    "         \"Prix\",\"Port\"])\n",
    "df_small"
   ]
  },
  {
   "cell_type": "markdown",
   "metadata": {},
   "source": [
    "## 3 Gérer une table de données\n",
    "### 3.1 Discrétisation d'une variable quantitative\n",
    "Pour la discrétisation d'une variable quantitative. Il est d'un bon usage de définir les bornes des classes à des quantiles, plutôt qu'également espacées, afin de construire des classes d'effectifs sensiblement égaux.  Ceci est obtenu par la fonction `qcut`. La fonction `cut` propose par défaut des bornes équi-réparties à moins de fournir une liste de ces bornes."
   ]
  },
  {
   "cell_type": "code",
   "execution_count": 17,
   "metadata": {},
   "outputs": [
    {
     "name": "stdout",
     "output_type": "stream",
     "text": [
      "0      Ag1\n",
      "1      Ag3\n",
      "2      Ag2\n",
      "3      Ag3\n",
      "4      Ag3\n",
      "      ... \n",
      "886    Ag2\n",
      "887    Ag1\n",
      "888    NaN\n",
      "889    Ag2\n",
      "890    Ag2\n",
      "Name: AgeQ, Length: 891, dtype: category\n",
      "Categories (3, object): ['Ag1' < 'Ag2' < 'Ag3']\n"
     ]
    },
    {
     "data": {
      "text/plain": [
       "count     891\n",
       "unique      3\n",
       "top       Pr1\n",
       "freq      308\n",
       "Name: PrixQ, dtype: object"
      ]
     },
     "execution_count": 17,
     "metadata": {},
     "output_type": "execute_result"
    }
   ],
   "source": [
    "df[\"AgeQ\"]=pd.qcut(df.Age,3,labels=[\"Ag1\",\"Ag2\",\n",
    "   \"Ag3\"])\n",
    "\n",
    "print(df[\"AgeQ\"])\n",
    "\n",
    "df[\"PrixQ\"]=pd.qcut(df.Prix,3,labels=[\"Pr1\",\"Pr2\",\n",
    "   \"Pr3\"])\n",
    "df[\"PrixQ\"].describe()"
   ]
  },
  {
   "cell_type": "markdown",
   "metadata": {},
   "source": [
    "### 3.2 Modifier / regrouper des modalités\n",
    "Le recodage des variables qualitatives ou renommage en clair des modalités est obtenu simplement."
   ]
  },
  {
   "cell_type": "code",
   "execution_count": 18,
   "metadata": {
    "tags": []
   },
   "outputs": [],
   "source": [
    "df[\"Surv\"]=df[\"Surv\"].cat.rename_categories(\n",
    "    [\"Vnon\",\"Voui\"])\n",
    "df[\"Classe\"]=df[\"Classe\"].cat.rename_categories(\n",
    "    [\"Cl1\",\"Cl2\",\"Cl3\"])\n",
    "df[\"Genre\"]=df[\"Genre\"].cat.rename_categories(\n",
    "    [\"Gfem\",\"Gmas\"])\n",
    "df[\"Port\"]=df[\"Port\"].cat.rename_categories(\n",
    "    [\"Pc\",\"Pq\",\"Ps\"])"
   ]
  },
  {
   "cell_type": "code",
   "execution_count": 19,
   "metadata": {},
   "outputs": [
    {
     "data": {
      "text/html": [
       "<div>\n",
       "<style scoped>\n",
       "    .dataframe tbody tr th:only-of-type {\n",
       "        vertical-align: middle;\n",
       "    }\n",
       "\n",
       "    .dataframe tbody tr th {\n",
       "        vertical-align: top;\n",
       "    }\n",
       "\n",
       "    .dataframe thead th {\n",
       "        text-align: right;\n",
       "    }\n",
       "</style>\n",
       "<table border=\"1\" class=\"dataframe\">\n",
       "  <thead>\n",
       "    <tr style=\"text-align: right;\">\n",
       "      <th></th>\n",
       "      <th>Surv</th>\n",
       "      <th>Classe</th>\n",
       "      <th>Genre</th>\n",
       "      <th>Age</th>\n",
       "      <th>Prix</th>\n",
       "      <th>Port</th>\n",
       "      <th>AgeQ</th>\n",
       "      <th>PrixQ</th>\n",
       "    </tr>\n",
       "  </thead>\n",
       "  <tbody>\n",
       "    <tr>\n",
       "      <th>0</th>\n",
       "      <td>Vnon</td>\n",
       "      <td>Cl3</td>\n",
       "      <td>Gmas</td>\n",
       "      <td>22.0</td>\n",
       "      <td>7.2500</td>\n",
       "      <td>Ps</td>\n",
       "      <td>Ag1</td>\n",
       "      <td>Pr1</td>\n",
       "    </tr>\n",
       "    <tr>\n",
       "      <th>1</th>\n",
       "      <td>Voui</td>\n",
       "      <td>Cl1</td>\n",
       "      <td>Gfem</td>\n",
       "      <td>38.0</td>\n",
       "      <td>71.2833</td>\n",
       "      <td>Pc</td>\n",
       "      <td>Ag3</td>\n",
       "      <td>Pr3</td>\n",
       "    </tr>\n",
       "    <tr>\n",
       "      <th>2</th>\n",
       "      <td>Voui</td>\n",
       "      <td>Cl3</td>\n",
       "      <td>Gfem</td>\n",
       "      <td>26.0</td>\n",
       "      <td>7.9250</td>\n",
       "      <td>Ps</td>\n",
       "      <td>Ag2</td>\n",
       "      <td>Pr1</td>\n",
       "    </tr>\n",
       "    <tr>\n",
       "      <th>3</th>\n",
       "      <td>Voui</td>\n",
       "      <td>Cl1</td>\n",
       "      <td>Gfem</td>\n",
       "      <td>35.0</td>\n",
       "      <td>53.1000</td>\n",
       "      <td>Ps</td>\n",
       "      <td>Ag3</td>\n",
       "      <td>Pr3</td>\n",
       "    </tr>\n",
       "    <tr>\n",
       "      <th>4</th>\n",
       "      <td>Vnon</td>\n",
       "      <td>Cl3</td>\n",
       "      <td>Gmas</td>\n",
       "      <td>35.0</td>\n",
       "      <td>8.0500</td>\n",
       "      <td>Ps</td>\n",
       "      <td>Ag3</td>\n",
       "      <td>Pr1</td>\n",
       "    </tr>\n",
       "  </tbody>\n",
       "</table>\n",
       "</div>"
      ],
      "text/plain": [
       "   Surv Classe Genre   Age     Prix Port AgeQ PrixQ\n",
       "0  Vnon    Cl3  Gmas  22.0   7.2500   Ps  Ag1   Pr1\n",
       "1  Voui    Cl1  Gfem  38.0  71.2833   Pc  Ag3   Pr3\n",
       "2  Voui    Cl3  Gfem  26.0   7.9250   Ps  Ag2   Pr1\n",
       "3  Voui    Cl1  Gfem  35.0  53.1000   Ps  Ag3   Pr3\n",
       "4  Vnon    Cl3  Gmas  35.0   8.0500   Ps  Ag3   Pr1"
      ]
     },
     "execution_count": 19,
     "metadata": {},
     "output_type": "execute_result"
    }
   ],
   "source": [
    "df.head()"
   ]
  },
  {
   "cell_type": "markdown",
   "metadata": {},
   "source": [
    "Il est possible d'associer recodage et regroupement des modalités en définissant un dictionnaire de transformation."
   ]
  },
  {
   "cell_type": "code",
   "execution_count": 20,
   "metadata": {},
   "outputs": [
    {
     "data": {
      "text/html": [
       "<div>\n",
       "<style scoped>\n",
       "    .dataframe tbody tr th:only-of-type {\n",
       "        vertical-align: middle;\n",
       "    }\n",
       "\n",
       "    .dataframe tbody tr th {\n",
       "        vertical-align: top;\n",
       "    }\n",
       "\n",
       "    .dataframe thead th {\n",
       "        text-align: right;\n",
       "    }\n",
       "</style>\n",
       "<table border=\"1\" class=\"dataframe\">\n",
       "  <thead>\n",
       "    <tr style=\"text-align: right;\">\n",
       "      <th></th>\n",
       "      <th>food</th>\n",
       "      <th>ounces</th>\n",
       "    </tr>\n",
       "  </thead>\n",
       "  <tbody>\n",
       "    <tr>\n",
       "      <th>0</th>\n",
       "      <td>bacon</td>\n",
       "      <td>4.0</td>\n",
       "    </tr>\n",
       "    <tr>\n",
       "      <th>1</th>\n",
       "      <td>pulled pork</td>\n",
       "      <td>3.0</td>\n",
       "    </tr>\n",
       "    <tr>\n",
       "      <th>2</th>\n",
       "      <td>bacon</td>\n",
       "      <td>12.0</td>\n",
       "    </tr>\n",
       "    <tr>\n",
       "      <th>3</th>\n",
       "      <td>Pastrami</td>\n",
       "      <td>6.0</td>\n",
       "    </tr>\n",
       "    <tr>\n",
       "      <th>4</th>\n",
       "      <td>corned beef</td>\n",
       "      <td>7.5</td>\n",
       "    </tr>\n",
       "    <tr>\n",
       "      <th>5</th>\n",
       "      <td>Bacon</td>\n",
       "      <td>8.0</td>\n",
       "    </tr>\n",
       "    <tr>\n",
       "      <th>6</th>\n",
       "      <td>pastrami</td>\n",
       "      <td>3.0</td>\n",
       "    </tr>\n",
       "    <tr>\n",
       "      <th>7</th>\n",
       "      <td>honey ham</td>\n",
       "      <td>5.0</td>\n",
       "    </tr>\n",
       "    <tr>\n",
       "      <th>8</th>\n",
       "      <td>nova lox</td>\n",
       "      <td>6.0</td>\n",
       "    </tr>\n",
       "  </tbody>\n",
       "</table>\n",
       "</div>"
      ],
      "text/plain": [
       "          food  ounces\n",
       "0        bacon     4.0\n",
       "1  pulled pork     3.0\n",
       "2        bacon    12.0\n",
       "3     Pastrami     6.0\n",
       "4  corned beef     7.5\n",
       "5        Bacon     8.0\n",
       "6     pastrami     3.0\n",
       "7    honey ham     5.0\n",
       "8     nova lox     6.0"
      ]
     },
     "execution_count": 20,
     "metadata": {},
     "output_type": "execute_result"
    }
   ],
   "source": [
    "data = pd.DataFrame({\"food\":[\"bacon\",\"pulled pork\", \n",
    "   \"bacon\", \"Pastrami\",\n",
    "   \"corned beef\", \"Bacon\", \"pastrami\", \"honey ham\",\n",
    "   \"nova lox\"],\n",
    "   \"ounces\": [4, 3, 12, 6, 7.5, 8, 3, 5, 6]})\n",
    "data"
   ]
  },
  {
   "cell_type": "code",
   "execution_count": 21,
   "metadata": {},
   "outputs": [
    {
     "data": {
      "text/html": [
       "<div>\n",
       "<style scoped>\n",
       "    .dataframe tbody tr th:only-of-type {\n",
       "        vertical-align: middle;\n",
       "    }\n",
       "\n",
       "    .dataframe tbody tr th {\n",
       "        vertical-align: top;\n",
       "    }\n",
       "\n",
       "    .dataframe thead th {\n",
       "        text-align: right;\n",
       "    }\n",
       "</style>\n",
       "<table border=\"1\" class=\"dataframe\">\n",
       "  <thead>\n",
       "    <tr style=\"text-align: right;\">\n",
       "      <th></th>\n",
       "      <th>food</th>\n",
       "      <th>ounces</th>\n",
       "      <th>animal</th>\n",
       "    </tr>\n",
       "  </thead>\n",
       "  <tbody>\n",
       "    <tr>\n",
       "      <th>0</th>\n",
       "      <td>bacon</td>\n",
       "      <td>4.0</td>\n",
       "      <td>pig</td>\n",
       "    </tr>\n",
       "    <tr>\n",
       "      <th>1</th>\n",
       "      <td>pulled pork</td>\n",
       "      <td>3.0</td>\n",
       "      <td>pig</td>\n",
       "    </tr>\n",
       "    <tr>\n",
       "      <th>2</th>\n",
       "      <td>bacon</td>\n",
       "      <td>12.0</td>\n",
       "      <td>pig</td>\n",
       "    </tr>\n",
       "    <tr>\n",
       "      <th>3</th>\n",
       "      <td>Pastrami</td>\n",
       "      <td>6.0</td>\n",
       "      <td>cow</td>\n",
       "    </tr>\n",
       "    <tr>\n",
       "      <th>4</th>\n",
       "      <td>corned beef</td>\n",
       "      <td>7.5</td>\n",
       "      <td>cow</td>\n",
       "    </tr>\n",
       "    <tr>\n",
       "      <th>5</th>\n",
       "      <td>Bacon</td>\n",
       "      <td>8.0</td>\n",
       "      <td>pig</td>\n",
       "    </tr>\n",
       "    <tr>\n",
       "      <th>6</th>\n",
       "      <td>pastrami</td>\n",
       "      <td>3.0</td>\n",
       "      <td>cow</td>\n",
       "    </tr>\n",
       "    <tr>\n",
       "      <th>7</th>\n",
       "      <td>honey ham</td>\n",
       "      <td>5.0</td>\n",
       "      <td>pig</td>\n",
       "    </tr>\n",
       "    <tr>\n",
       "      <th>8</th>\n",
       "      <td>nova lox</td>\n",
       "      <td>6.0</td>\n",
       "      <td>salmon</td>\n",
       "    </tr>\n",
       "  </tbody>\n",
       "</table>\n",
       "</div>"
      ],
      "text/plain": [
       "          food  ounces  animal\n",
       "0        bacon     4.0     pig\n",
       "1  pulled pork     3.0     pig\n",
       "2        bacon    12.0     pig\n",
       "3     Pastrami     6.0     cow\n",
       "4  corned beef     7.5     cow\n",
       "5        Bacon     8.0     pig\n",
       "6     pastrami     3.0     cow\n",
       "7    honey ham     5.0     pig\n",
       "8     nova lox     6.0  salmon"
      ]
     },
     "execution_count": 21,
     "metadata": {},
     "output_type": "execute_result"
    }
   ],
   "source": [
    "meat_to_animal = {\n",
    "    \"bacon\": \"pig\",\n",
    "    \"pulled pork\": \"pig\",\n",
    "    \"pastrami\": \"cow\",\n",
    "    \"corned beef\": \"cow\",\n",
    "    \"honey ham\": \"pig\",\n",
    "    \"nova lox\": \"salmon\"\n",
    "}\n",
    "# Eviter les mélanges de majuscules minuscules \n",
    "# en mettant tout en minuscule\n",
    "data[\"animal\"] = data[\"food\"].map(\n",
    "    str.lower).map(meat_to_animal)\n",
    "data"
   ]
  },
  {
   "cell_type": "code",
   "execution_count": 22,
   "metadata": {},
   "outputs": [
    {
     "data": {
      "text/plain": [
       "0       pig\n",
       "1       pig\n",
       "2       pig\n",
       "3       cow\n",
       "4       cow\n",
       "5       pig\n",
       "6       cow\n",
       "7       pig\n",
       "8    salmon\n",
       "Name: food, dtype: object"
      ]
     },
     "execution_count": 22,
     "metadata": {},
     "output_type": "execute_result"
    }
   ],
   "source": [
    "data[\"food\"].map(lambda x: meat_to_animal[x.lower()])"
   ]
  },
  {
   "cell_type": "markdown",
   "metadata": {},
   "source": [
    "### 3.3 Variables indicatrices\n",
    "Générer des indicatrices des modalités ou *dummy variables*."
   ]
  },
  {
   "cell_type": "code",
   "execution_count": 23,
   "metadata": {},
   "outputs": [
    {
     "name": "stdout",
     "output_type": "stream",
     "text": [
      "  key  data1\n",
      "0   b      0\n",
      "1   b      1\n",
      "2   a      2\n",
      "3   c      3\n",
      "4   a      4\n",
      "5   b      5\n"
     ]
    },
    {
     "data": {
      "text/html": [
       "<div>\n",
       "<style scoped>\n",
       "    .dataframe tbody tr th:only-of-type {\n",
       "        vertical-align: middle;\n",
       "    }\n",
       "\n",
       "    .dataframe tbody tr th {\n",
       "        vertical-align: top;\n",
       "    }\n",
       "\n",
       "    .dataframe thead th {\n",
       "        text-align: right;\n",
       "    }\n",
       "</style>\n",
       "<table border=\"1\" class=\"dataframe\">\n",
       "  <thead>\n",
       "    <tr style=\"text-align: right;\">\n",
       "      <th></th>\n",
       "      <th>a</th>\n",
       "      <th>b</th>\n",
       "      <th>c</th>\n",
       "    </tr>\n",
       "  </thead>\n",
       "  <tbody>\n",
       "    <tr>\n",
       "      <th>0</th>\n",
       "      <td>0</td>\n",
       "      <td>1</td>\n",
       "      <td>0</td>\n",
       "    </tr>\n",
       "    <tr>\n",
       "      <th>1</th>\n",
       "      <td>0</td>\n",
       "      <td>1</td>\n",
       "      <td>0</td>\n",
       "    </tr>\n",
       "    <tr>\n",
       "      <th>2</th>\n",
       "      <td>1</td>\n",
       "      <td>0</td>\n",
       "      <td>0</td>\n",
       "    </tr>\n",
       "    <tr>\n",
       "      <th>3</th>\n",
       "      <td>0</td>\n",
       "      <td>0</td>\n",
       "      <td>1</td>\n",
       "    </tr>\n",
       "    <tr>\n",
       "      <th>4</th>\n",
       "      <td>1</td>\n",
       "      <td>0</td>\n",
       "      <td>0</td>\n",
       "    </tr>\n",
       "    <tr>\n",
       "      <th>5</th>\n",
       "      <td>0</td>\n",
       "      <td>1</td>\n",
       "      <td>0</td>\n",
       "    </tr>\n",
       "  </tbody>\n",
       "</table>\n",
       "</div>"
      ],
      "text/plain": [
       "   a  b  c\n",
       "0  0  1  0\n",
       "1  0  1  0\n",
       "2  1  0  0\n",
       "3  0  0  1\n",
       "4  1  0  0\n",
       "5  0  1  0"
      ]
     },
     "execution_count": 23,
     "metadata": {},
     "output_type": "execute_result"
    }
   ],
   "source": [
    "import pandas as pd\n",
    "dfs = pd.DataFrame({\"key\": [\"b\", \"b\", \"a\", \"c\",\n",
    "    \"a\", \"b\"],\"data1\": range(6)})\n",
    "print(dfs)\n",
    "pd.get_dummies(dfs[\"key\"])"
   ]
  },
  {
   "cell_type": "code",
   "execution_count": 24,
   "metadata": {},
   "outputs": [
    {
     "data": {
      "text/html": [
       "<div>\n",
       "<style scoped>\n",
       "    .dataframe tbody tr th:only-of-type {\n",
       "        vertical-align: middle;\n",
       "    }\n",
       "\n",
       "    .dataframe tbody tr th {\n",
       "        vertical-align: top;\n",
       "    }\n",
       "\n",
       "    .dataframe thead th {\n",
       "        text-align: right;\n",
       "    }\n",
       "</style>\n",
       "<table border=\"1\" class=\"dataframe\">\n",
       "  <thead>\n",
       "    <tr style=\"text-align: right;\">\n",
       "      <th></th>\n",
       "      <th>data1</th>\n",
       "      <th>key_a</th>\n",
       "      <th>key_b</th>\n",
       "      <th>key_c</th>\n",
       "    </tr>\n",
       "  </thead>\n",
       "  <tbody>\n",
       "    <tr>\n",
       "      <th>0</th>\n",
       "      <td>0</td>\n",
       "      <td>0</td>\n",
       "      <td>1</td>\n",
       "      <td>0</td>\n",
       "    </tr>\n",
       "    <tr>\n",
       "      <th>1</th>\n",
       "      <td>1</td>\n",
       "      <td>0</td>\n",
       "      <td>1</td>\n",
       "      <td>0</td>\n",
       "    </tr>\n",
       "    <tr>\n",
       "      <th>2</th>\n",
       "      <td>2</td>\n",
       "      <td>1</td>\n",
       "      <td>0</td>\n",
       "      <td>0</td>\n",
       "    </tr>\n",
       "    <tr>\n",
       "      <th>3</th>\n",
       "      <td>3</td>\n",
       "      <td>0</td>\n",
       "      <td>0</td>\n",
       "      <td>1</td>\n",
       "    </tr>\n",
       "    <tr>\n",
       "      <th>4</th>\n",
       "      <td>4</td>\n",
       "      <td>1</td>\n",
       "      <td>0</td>\n",
       "      <td>0</td>\n",
       "    </tr>\n",
       "    <tr>\n",
       "      <th>5</th>\n",
       "      <td>5</td>\n",
       "      <td>0</td>\n",
       "      <td>1</td>\n",
       "      <td>0</td>\n",
       "    </tr>\n",
       "  </tbody>\n",
       "</table>\n",
       "</div>"
      ],
      "text/plain": [
       "   data1  key_a  key_b  key_c\n",
       "0      0      0      1      0\n",
       "1      1      0      1      0\n",
       "2      2      1      0      0\n",
       "3      3      0      0      1\n",
       "4      4      1      0      0\n",
       "5      5      0      1      0"
      ]
     },
     "execution_count": 24,
     "metadata": {},
     "output_type": "execute_result"
    }
   ],
   "source": [
    "dummies = pd.get_dummies(dfs['key'], prefix='key')\n",
    "df_with_dummy = dfs[['data1']].join(dummies)\n",
    "df_with_dummy"
   ]
  },
  {
   "cell_type": "markdown",
   "metadata": {},
   "source": [
    "### 3.4 Permutation et tirage aléatoires\n",
    "Permutation aléatoire:"
   ]
  },
  {
   "cell_type": "code",
   "execution_count": 25,
   "metadata": {},
   "outputs": [
    {
     "name": "stdout",
     "output_type": "stream",
     "text": [
      "[2 3 0 1 4]\n",
      "    0   1   2   3\n",
      "0   0   1   2   3\n",
      "1   4   5   6   7\n",
      "2   8   9  10  11\n",
      "3  12  13  14  15\n",
      "4  16  17  18  19\n"
     ]
    },
    {
     "data": {
      "text/html": [
       "<div>\n",
       "<style scoped>\n",
       "    .dataframe tbody tr th:only-of-type {\n",
       "        vertical-align: middle;\n",
       "    }\n",
       "\n",
       "    .dataframe tbody tr th {\n",
       "        vertical-align: top;\n",
       "    }\n",
       "\n",
       "    .dataframe thead th {\n",
       "        text-align: right;\n",
       "    }\n",
       "</style>\n",
       "<table border=\"1\" class=\"dataframe\">\n",
       "  <thead>\n",
       "    <tr style=\"text-align: right;\">\n",
       "      <th></th>\n",
       "      <th>0</th>\n",
       "      <th>1</th>\n",
       "      <th>2</th>\n",
       "      <th>3</th>\n",
       "    </tr>\n",
       "  </thead>\n",
       "  <tbody>\n",
       "    <tr>\n",
       "      <th>2</th>\n",
       "      <td>8</td>\n",
       "      <td>9</td>\n",
       "      <td>10</td>\n",
       "      <td>11</td>\n",
       "    </tr>\n",
       "    <tr>\n",
       "      <th>3</th>\n",
       "      <td>12</td>\n",
       "      <td>13</td>\n",
       "      <td>14</td>\n",
       "      <td>15</td>\n",
       "    </tr>\n",
       "    <tr>\n",
       "      <th>0</th>\n",
       "      <td>0</td>\n",
       "      <td>1</td>\n",
       "      <td>2</td>\n",
       "      <td>3</td>\n",
       "    </tr>\n",
       "    <tr>\n",
       "      <th>1</th>\n",
       "      <td>4</td>\n",
       "      <td>5</td>\n",
       "      <td>6</td>\n",
       "      <td>7</td>\n",
       "    </tr>\n",
       "    <tr>\n",
       "      <th>4</th>\n",
       "      <td>16</td>\n",
       "      <td>17</td>\n",
       "      <td>18</td>\n",
       "      <td>19</td>\n",
       "    </tr>\n",
       "  </tbody>\n",
       "</table>\n",
       "</div>"
      ],
      "text/plain": [
       "    0   1   2   3\n",
       "2   8   9  10  11\n",
       "3  12  13  14  15\n",
       "0   0   1   2   3\n",
       "1   4   5   6   7\n",
       "4  16  17  18  19"
      ]
     },
     "execution_count": 25,
     "metadata": {},
     "output_type": "execute_result"
    }
   ],
   "source": [
    "import numpy as np\n",
    "dfs = pd.DataFrame(np.arange(5 * 4).reshape(5, 4))\n",
    "sampler = np.random.permutation(5)\n",
    "print(sampler)\n",
    "print(dfs)\n",
    "dfs.take(sampler)"
   ]
  },
  {
   "cell_type": "markdown",
   "metadata": {},
   "source": [
    "Tirage aléatoire avec remplacement ou *bootstrap* ; celui sans remplacement est traité section 3.3."
   ]
  },
  {
   "cell_type": "code",
   "execution_count": 26,
   "metadata": {},
   "outputs": [
    {
     "data": {
      "text/plain": [
       "array([ 6,  4, -1,  5, -1,  4,  5,  7,  6,  6])"
      ]
     },
     "execution_count": 26,
     "metadata": {},
     "output_type": "execute_result"
    }
   ],
   "source": [
    "bag = np.array([5, 7, -1, 6, 4])\n",
    "sampler = np.random.randint(0, len(bag), size=10)\n",
    "draws = bag.take(sampler)\n",
    "draws"
   ]
  },
  {
   "cell_type": "markdown",
   "metadata": {},
   "source": [
    "### 3.5 Transformations, opérations\n",
    "Les opérations arithmétiques entre `Series` et `DataFrame` sont possibles au même titre qu'entre `array`. Si les index ne correspondent pas, des valeurs manquantes (NAN) sont créées à moins d'utiliser des méthodes d'arithmétique `flexible` (`add, sub, div, mul`) autorisant la complétion par une valeur par défaut, généralement 0.\n",
    "\n",
    "Une fonction quelconque (`lambda`) peut être appliquée avec une même commande qu'`apply` de R. "
   ]
  },
  {
   "cell_type": "code",
   "execution_count": 27,
   "metadata": {},
   "outputs": [
    {
     "name": "stdout",
     "output_type": "stream",
     "text": [
      "               b         d         e\n",
      "Utah    0.375667  1.540686 -0.657688\n",
      "Ohio   -0.322198 -1.369050  1.186175\n",
      "Texas   0.540281 -0.438577 -0.699944\n",
      "Oregon -0.000096  0.092156  1.377848\n"
     ]
    },
    {
     "data": {
      "text/plain": [
       "Utah      2.198373\n",
       "Ohio      2.555225\n",
       "Texas     1.240225\n",
       "Oregon    1.377944\n",
       "dtype: float64"
      ]
     },
     "execution_count": 27,
     "metadata": {},
     "output_type": "execute_result"
    }
   ],
   "source": [
    "import numpy as np\n",
    "\n",
    "# la table de données\n",
    "frame = pd.DataFrame(np.random.randn(4,3), \n",
    "    columns=list(\"bde\"),\n",
    "    index=[\"Utah\", \"Ohio\", \"Texas\", \"Oregon\"])\n",
    "\n",
    "print(frame)\n",
    "\n",
    "# une fonction\n",
    "f = lambda x: x.max() - x.min()\n",
    "frame.apply(f, axis=1)"
   ]
  },
  {
   "cell_type": "markdown",
   "metadata": {},
   "source": [
    "### 3.6 Tri et rangs\n",
    "Trier une table selon les valeurs d'une variable ou d'un index."
   ]
  },
  {
   "cell_type": "code",
   "execution_count": 28,
   "metadata": {},
   "outputs": [
    {
     "data": {
      "text/html": [
       "<div>\n",
       "<style scoped>\n",
       "    .dataframe tbody tr th:only-of-type {\n",
       "        vertical-align: middle;\n",
       "    }\n",
       "\n",
       "    .dataframe tbody tr th {\n",
       "        vertical-align: top;\n",
       "    }\n",
       "\n",
       "    .dataframe thead th {\n",
       "        text-align: right;\n",
       "    }\n",
       "</style>\n",
       "<table border=\"1\" class=\"dataframe\">\n",
       "  <thead>\n",
       "    <tr style=\"text-align: right;\">\n",
       "      <th></th>\n",
       "      <th>d</th>\n",
       "      <th>a</th>\n",
       "      <th>b</th>\n",
       "      <th>c</th>\n",
       "    </tr>\n",
       "  </thead>\n",
       "  <tbody>\n",
       "    <tr>\n",
       "      <th>one</th>\n",
       "      <td>4</td>\n",
       "      <td>5</td>\n",
       "      <td>6</td>\n",
       "      <td>7</td>\n",
       "    </tr>\n",
       "    <tr>\n",
       "      <th>three</th>\n",
       "      <td>0</td>\n",
       "      <td>1</td>\n",
       "      <td>2</td>\n",
       "      <td>3</td>\n",
       "    </tr>\n",
       "  </tbody>\n",
       "</table>\n",
       "</div>"
      ],
      "text/plain": [
       "       d  a  b  c\n",
       "one    4  5  6  7\n",
       "three  0  1  2  3"
      ]
     },
     "execution_count": 28,
     "metadata": {},
     "output_type": "execute_result"
    }
   ],
   "source": [
    "frame = pd.DataFrame(np.arange(8).reshape((2,4)), \n",
    "        index=[\"three\", \"one\"],\n",
    "        columns=[\"d\", \"a\", \"b\", \"c\"])\n",
    "frame.sort_index()"
   ]
  },
  {
   "cell_type": "code",
   "execution_count": 29,
   "metadata": {},
   "outputs": [
    {
     "data": {
      "text/html": [
       "<div>\n",
       "<style scoped>\n",
       "    .dataframe tbody tr th:only-of-type {\n",
       "        vertical-align: middle;\n",
       "    }\n",
       "\n",
       "    .dataframe tbody tr th {\n",
       "        vertical-align: top;\n",
       "    }\n",
       "\n",
       "    .dataframe thead th {\n",
       "        text-align: right;\n",
       "    }\n",
       "</style>\n",
       "<table border=\"1\" class=\"dataframe\">\n",
       "  <thead>\n",
       "    <tr style=\"text-align: right;\">\n",
       "      <th></th>\n",
       "      <th>a</th>\n",
       "      <th>b</th>\n",
       "      <th>c</th>\n",
       "      <th>d</th>\n",
       "    </tr>\n",
       "  </thead>\n",
       "  <tbody>\n",
       "    <tr>\n",
       "      <th>three</th>\n",
       "      <td>1</td>\n",
       "      <td>2</td>\n",
       "      <td>3</td>\n",
       "      <td>0</td>\n",
       "    </tr>\n",
       "    <tr>\n",
       "      <th>one</th>\n",
       "      <td>5</td>\n",
       "      <td>6</td>\n",
       "      <td>7</td>\n",
       "      <td>4</td>\n",
       "    </tr>\n",
       "  </tbody>\n",
       "</table>\n",
       "</div>"
      ],
      "text/plain": [
       "       a  b  c  d\n",
       "three  1  2  3  0\n",
       "one    5  6  7  4"
      ]
     },
     "execution_count": 29,
     "metadata": {},
     "output_type": "execute_result"
    }
   ],
   "source": [
    "frame.sort_index(axis=1)"
   ]
  },
  {
   "cell_type": "code",
   "execution_count": 30,
   "metadata": {},
   "outputs": [
    {
     "data": {
      "text/html": [
       "<div>\n",
       "<style scoped>\n",
       "    .dataframe tbody tr th:only-of-type {\n",
       "        vertical-align: middle;\n",
       "    }\n",
       "\n",
       "    .dataframe tbody tr th {\n",
       "        vertical-align: top;\n",
       "    }\n",
       "\n",
       "    .dataframe thead th {\n",
       "        text-align: right;\n",
       "    }\n",
       "</style>\n",
       "<table border=\"1\" class=\"dataframe\">\n",
       "  <thead>\n",
       "    <tr style=\"text-align: right;\">\n",
       "      <th></th>\n",
       "      <th>d</th>\n",
       "      <th>c</th>\n",
       "      <th>b</th>\n",
       "      <th>a</th>\n",
       "    </tr>\n",
       "  </thead>\n",
       "  <tbody>\n",
       "    <tr>\n",
       "      <th>three</th>\n",
       "      <td>0</td>\n",
       "      <td>3</td>\n",
       "      <td>2</td>\n",
       "      <td>1</td>\n",
       "    </tr>\n",
       "    <tr>\n",
       "      <th>one</th>\n",
       "      <td>4</td>\n",
       "      <td>7</td>\n",
       "      <td>6</td>\n",
       "      <td>5</td>\n",
       "    </tr>\n",
       "  </tbody>\n",
       "</table>\n",
       "</div>"
      ],
      "text/plain": [
       "       d  c  b  a\n",
       "three  0  3  2  1\n",
       "one    4  7  6  5"
      ]
     },
     "execution_count": 30,
     "metadata": {},
     "output_type": "execute_result"
    }
   ],
   "source": [
    "frame.sort_index(axis=1, ascending=False)"
   ]
  },
  {
   "cell_type": "code",
   "execution_count": 31,
   "metadata": {},
   "outputs": [
    {
     "data": {
      "text/html": [
       "<div>\n",
       "<style scoped>\n",
       "    .dataframe tbody tr th:only-of-type {\n",
       "        vertical-align: middle;\n",
       "    }\n",
       "\n",
       "    .dataframe tbody tr th {\n",
       "        vertical-align: top;\n",
       "    }\n",
       "\n",
       "    .dataframe thead th {\n",
       "        text-align: right;\n",
       "    }\n",
       "</style>\n",
       "<table border=\"1\" class=\"dataframe\">\n",
       "  <thead>\n",
       "    <tr style=\"text-align: right;\">\n",
       "      <th></th>\n",
       "      <th>d</th>\n",
       "      <th>a</th>\n",
       "      <th>b</th>\n",
       "      <th>c</th>\n",
       "    </tr>\n",
       "  </thead>\n",
       "  <tbody>\n",
       "    <tr>\n",
       "      <th>three</th>\n",
       "      <td>0</td>\n",
       "      <td>1</td>\n",
       "      <td>2</td>\n",
       "      <td>3</td>\n",
       "    </tr>\n",
       "    <tr>\n",
       "      <th>one</th>\n",
       "      <td>4</td>\n",
       "      <td>5</td>\n",
       "      <td>6</td>\n",
       "      <td>7</td>\n",
       "    </tr>\n",
       "  </tbody>\n",
       "</table>\n",
       "</div>"
      ],
      "text/plain": [
       "       d  a  b  c\n",
       "three  0  1  2  3\n",
       "one    4  5  6  7"
      ]
     },
     "execution_count": 31,
     "metadata": {},
     "output_type": "execute_result"
    }
   ],
   "source": [
    "frame.sort_values(by=\"b\")"
   ]
  },
  {
   "cell_type": "markdown",
   "metadata": {},
   "source": [
    "La commande `rank` remplace les valeurs par leur rang dans l'ordre des lignes ou des colonnes."
   ]
  },
  {
   "cell_type": "code",
   "execution_count": 32,
   "metadata": {},
   "outputs": [
    {
     "name": "stdout",
     "output_type": "stream",
     "text": [
      "     b  a    c\n",
      "0  4.3  1 -2.0\n",
      "1  7.0  0  5.0\n",
      "2 -3.0  1  8.0\n",
      "3  2.0  0 -2.5\n"
     ]
    },
    {
     "data": {
      "text/html": [
       "<div>\n",
       "<style scoped>\n",
       "    .dataframe tbody tr th:only-of-type {\n",
       "        vertical-align: middle;\n",
       "    }\n",
       "\n",
       "    .dataframe tbody tr th {\n",
       "        vertical-align: top;\n",
       "    }\n",
       "\n",
       "    .dataframe thead th {\n",
       "        text-align: right;\n",
       "    }\n",
       "</style>\n",
       "<table border=\"1\" class=\"dataframe\">\n",
       "  <thead>\n",
       "    <tr style=\"text-align: right;\">\n",
       "      <th></th>\n",
       "      <th>b</th>\n",
       "      <th>a</th>\n",
       "      <th>c</th>\n",
       "    </tr>\n",
       "  </thead>\n",
       "  <tbody>\n",
       "    <tr>\n",
       "      <th>0</th>\n",
       "      <td>3.0</td>\n",
       "      <td>2.0</td>\n",
       "      <td>1.0</td>\n",
       "    </tr>\n",
       "    <tr>\n",
       "      <th>1</th>\n",
       "      <td>3.0</td>\n",
       "      <td>1.0</td>\n",
       "      <td>2.0</td>\n",
       "    </tr>\n",
       "    <tr>\n",
       "      <th>2</th>\n",
       "      <td>1.0</td>\n",
       "      <td>2.0</td>\n",
       "      <td>3.0</td>\n",
       "    </tr>\n",
       "    <tr>\n",
       "      <th>3</th>\n",
       "      <td>3.0</td>\n",
       "      <td>2.0</td>\n",
       "      <td>1.0</td>\n",
       "    </tr>\n",
       "  </tbody>\n",
       "</table>\n",
       "</div>"
      ],
      "text/plain": [
       "     b    a    c\n",
       "0  3.0  2.0  1.0\n",
       "1  3.0  1.0  2.0\n",
       "2  1.0  2.0  3.0\n",
       "3  3.0  2.0  1.0"
      ]
     },
     "execution_count": 32,
     "metadata": {},
     "output_type": "execute_result"
    }
   ],
   "source": [
    "frame = pd.DataFrame({\"b\": [4.3, 7, -3, 2], \n",
    "    \"a\": [1, 0, 1, 0],\"c\": [-2, 5, 8, -2.5]})\n",
    "\n",
    "print(frame)\n",
    "\n",
    "frame.rank(axis=1)"
   ]
  },
  {
   "cell_type": "code",
   "execution_count": 33,
   "metadata": {},
   "outputs": [
    {
     "data": {
      "text/html": [
       "<div>\n",
       "<style scoped>\n",
       "    .dataframe tbody tr th:only-of-type {\n",
       "        vertical-align: middle;\n",
       "    }\n",
       "\n",
       "    .dataframe tbody tr th {\n",
       "        vertical-align: top;\n",
       "    }\n",
       "\n",
       "    .dataframe thead th {\n",
       "        text-align: right;\n",
       "    }\n",
       "</style>\n",
       "<table border=\"1\" class=\"dataframe\">\n",
       "  <thead>\n",
       "    <tr style=\"text-align: right;\">\n",
       "      <th></th>\n",
       "      <th>b</th>\n",
       "      <th>a</th>\n",
       "      <th>c</th>\n",
       "    </tr>\n",
       "  </thead>\n",
       "  <tbody>\n",
       "    <tr>\n",
       "      <th>0</th>\n",
       "      <td>3.0</td>\n",
       "      <td>2.0</td>\n",
       "      <td>2.0</td>\n",
       "    </tr>\n",
       "    <tr>\n",
       "      <th>1</th>\n",
       "      <td>4.0</td>\n",
       "      <td>1.0</td>\n",
       "      <td>3.0</td>\n",
       "    </tr>\n",
       "    <tr>\n",
       "      <th>2</th>\n",
       "      <td>1.0</td>\n",
       "      <td>2.0</td>\n",
       "      <td>4.0</td>\n",
       "    </tr>\n",
       "    <tr>\n",
       "      <th>3</th>\n",
       "      <td>2.0</td>\n",
       "      <td>1.0</td>\n",
       "      <td>1.0</td>\n",
       "    </tr>\n",
       "  </tbody>\n",
       "</table>\n",
       "</div>"
      ],
      "text/plain": [
       "     b    a    c\n",
       "0  3.0  2.0  2.0\n",
       "1  4.0  1.0  3.0\n",
       "2  1.0  2.0  4.0\n",
       "3  2.0  1.0  1.0"
      ]
     },
     "execution_count": 33,
     "metadata": {},
     "output_type": "execute_result"
    }
   ],
   "source": [
    "frame.rank(axis=0, method='dense')"
   ]
  },
  {
   "cell_type": "markdown",
   "metadata": {},
   "source": [
    "## 4 Statistiques descriptives élémentaires\n",
    "Continuer l'étude des données sur le naufrage du Titanic. Les commandes ci-dessous permettent des premiers diagnostics sur la qualité des données.\n",
    "### 4.1 Description univariée"
   ]
  },
  {
   "cell_type": "code",
   "execution_count": 34,
   "metadata": {},
   "outputs": [
    {
     "data": {
      "text/plain": [
       "Surv      category\n",
       "Classe    category\n",
       "Genre     category\n",
       "Age        float64\n",
       "Prix       float64\n",
       "Port      category\n",
       "AgeQ      category\n",
       "PrixQ     category\n",
       "dtype: object"
      ]
     },
     "execution_count": 34,
     "metadata": {},
     "output_type": "execute_result"
    }
   ],
   "source": [
    "df.dtypes"
   ]
  },
  {
   "cell_type": "code",
   "execution_count": 35,
   "metadata": {},
   "outputs": [
    {
     "data": {
      "text/html": [
       "<div>\n",
       "<style scoped>\n",
       "    .dataframe tbody tr th:only-of-type {\n",
       "        vertical-align: middle;\n",
       "    }\n",
       "\n",
       "    .dataframe tbody tr th {\n",
       "        vertical-align: top;\n",
       "    }\n",
       "\n",
       "    .dataframe thead th {\n",
       "        text-align: right;\n",
       "    }\n",
       "</style>\n",
       "<table border=\"1\" class=\"dataframe\">\n",
       "  <thead>\n",
       "    <tr style=\"text-align: right;\">\n",
       "      <th></th>\n",
       "      <th>Age</th>\n",
       "      <th>Prix</th>\n",
       "    </tr>\n",
       "  </thead>\n",
       "  <tbody>\n",
       "    <tr>\n",
       "      <th>count</th>\n",
       "      <td>714.000000</td>\n",
       "      <td>891.000000</td>\n",
       "    </tr>\n",
       "    <tr>\n",
       "      <th>mean</th>\n",
       "      <td>29.699118</td>\n",
       "      <td>32.204208</td>\n",
       "    </tr>\n",
       "    <tr>\n",
       "      <th>std</th>\n",
       "      <td>14.526497</td>\n",
       "      <td>49.693429</td>\n",
       "    </tr>\n",
       "    <tr>\n",
       "      <th>min</th>\n",
       "      <td>0.420000</td>\n",
       "      <td>0.000000</td>\n",
       "    </tr>\n",
       "    <tr>\n",
       "      <th>25%</th>\n",
       "      <td>20.125000</td>\n",
       "      <td>7.910400</td>\n",
       "    </tr>\n",
       "    <tr>\n",
       "      <th>50%</th>\n",
       "      <td>28.000000</td>\n",
       "      <td>14.454200</td>\n",
       "    </tr>\n",
       "    <tr>\n",
       "      <th>75%</th>\n",
       "      <td>38.000000</td>\n",
       "      <td>31.000000</td>\n",
       "    </tr>\n",
       "    <tr>\n",
       "      <th>max</th>\n",
       "      <td>80.000000</td>\n",
       "      <td>512.329200</td>\n",
       "    </tr>\n",
       "  </tbody>\n",
       "</table>\n",
       "</div>"
      ],
      "text/plain": [
       "              Age        Prix\n",
       "count  714.000000  891.000000\n",
       "mean    29.699118   32.204208\n",
       "std     14.526497   49.693429\n",
       "min      0.420000    0.000000\n",
       "25%     20.125000    7.910400\n",
       "50%     28.000000   14.454200\n",
       "75%     38.000000   31.000000\n",
       "max     80.000000  512.329200"
      ]
     },
     "execution_count": 35,
     "metadata": {},
     "output_type": "execute_result"
    }
   ],
   "source": [
    "df.describe()"
   ]
  },
  {
   "cell_type": "code",
   "execution_count": 36,
   "metadata": {},
   "outputs": [
    {
     "data": {
      "text/html": [
       "<div>\n",
       "<style scoped>\n",
       "    .dataframe tbody tr th:only-of-type {\n",
       "        vertical-align: middle;\n",
       "    }\n",
       "\n",
       "    .dataframe tbody tr th {\n",
       "        vertical-align: top;\n",
       "    }\n",
       "\n",
       "    .dataframe thead th {\n",
       "        text-align: right;\n",
       "    }\n",
       "</style>\n",
       "<table border=\"1\" class=\"dataframe\">\n",
       "  <thead>\n",
       "    <tr style=\"text-align: right;\">\n",
       "      <th></th>\n",
       "      <th>count</th>\n",
       "      <th>mean</th>\n",
       "      <th>std</th>\n",
       "      <th>min</th>\n",
       "      <th>25%</th>\n",
       "      <th>50%</th>\n",
       "      <th>75%</th>\n",
       "      <th>max</th>\n",
       "    </tr>\n",
       "  </thead>\n",
       "  <tbody>\n",
       "    <tr>\n",
       "      <th>Age</th>\n",
       "      <td>714.0</td>\n",
       "      <td>29.699118</td>\n",
       "      <td>14.526497</td>\n",
       "      <td>0.42</td>\n",
       "      <td>20.1250</td>\n",
       "      <td>28.0000</td>\n",
       "      <td>38.0</td>\n",
       "      <td>80.0000</td>\n",
       "    </tr>\n",
       "    <tr>\n",
       "      <th>Prix</th>\n",
       "      <td>891.0</td>\n",
       "      <td>32.204208</td>\n",
       "      <td>49.693429</td>\n",
       "      <td>0.00</td>\n",
       "      <td>7.9104</td>\n",
       "      <td>14.4542</td>\n",
       "      <td>31.0</td>\n",
       "      <td>512.3292</td>\n",
       "    </tr>\n",
       "  </tbody>\n",
       "</table>\n",
       "</div>"
      ],
      "text/plain": [
       "      count       mean        std   min      25%      50%   75%       max\n",
       "Age   714.0  29.699118  14.526497  0.42  20.1250  28.0000  38.0   80.0000\n",
       "Prix  891.0  32.204208  49.693429  0.00   7.9104  14.4542  31.0  512.3292"
      ]
     },
     "execution_count": 36,
     "metadata": {},
     "output_type": "execute_result"
    }
   ],
   "source": [
    "df.describe().transpose()"
   ]
  },
  {
   "cell_type": "code",
   "execution_count": 37,
   "metadata": {},
   "outputs": [
    {
     "data": {
      "text/html": [
       "<div>\n",
       "<style scoped>\n",
       "    .dataframe tbody tr th:only-of-type {\n",
       "        vertical-align: middle;\n",
       "    }\n",
       "\n",
       "    .dataframe tbody tr th {\n",
       "        vertical-align: top;\n",
       "    }\n",
       "\n",
       "    .dataframe thead th {\n",
       "        text-align: right;\n",
       "    }\n",
       "</style>\n",
       "<table border=\"1\" class=\"dataframe\">\n",
       "  <thead>\n",
       "    <tr style=\"text-align: right;\">\n",
       "      <th></th>\n",
       "      <th>Surv</th>\n",
       "      <th>Classe</th>\n",
       "      <th>Genre</th>\n",
       "      <th>Age</th>\n",
       "      <th>Prix</th>\n",
       "      <th>Port</th>\n",
       "      <th>AgeQ</th>\n",
       "      <th>PrixQ</th>\n",
       "    </tr>\n",
       "  </thead>\n",
       "  <tbody>\n",
       "    <tr>\n",
       "      <th>0</th>\n",
       "      <td>Vnon</td>\n",
       "      <td>Cl3</td>\n",
       "      <td>Gmas</td>\n",
       "      <td>22.0</td>\n",
       "      <td>7.2500</td>\n",
       "      <td>Ps</td>\n",
       "      <td>Ag1</td>\n",
       "      <td>Pr1</td>\n",
       "    </tr>\n",
       "    <tr>\n",
       "      <th>1</th>\n",
       "      <td>Voui</td>\n",
       "      <td>Cl1</td>\n",
       "      <td>Gfem</td>\n",
       "      <td>38.0</td>\n",
       "      <td>71.2833</td>\n",
       "      <td>Pc</td>\n",
       "      <td>Ag3</td>\n",
       "      <td>Pr3</td>\n",
       "    </tr>\n",
       "    <tr>\n",
       "      <th>2</th>\n",
       "      <td>Voui</td>\n",
       "      <td>Cl3</td>\n",
       "      <td>Gfem</td>\n",
       "      <td>26.0</td>\n",
       "      <td>7.9250</td>\n",
       "      <td>Ps</td>\n",
       "      <td>Ag2</td>\n",
       "      <td>Pr1</td>\n",
       "    </tr>\n",
       "    <tr>\n",
       "      <th>3</th>\n",
       "      <td>Voui</td>\n",
       "      <td>Cl1</td>\n",
       "      <td>Gfem</td>\n",
       "      <td>35.0</td>\n",
       "      <td>53.1000</td>\n",
       "      <td>Ps</td>\n",
       "      <td>Ag3</td>\n",
       "      <td>Pr3</td>\n",
       "    </tr>\n",
       "    <tr>\n",
       "      <th>4</th>\n",
       "      <td>Vnon</td>\n",
       "      <td>Cl3</td>\n",
       "      <td>Gmas</td>\n",
       "      <td>35.0</td>\n",
       "      <td>8.0500</td>\n",
       "      <td>Ps</td>\n",
       "      <td>Ag3</td>\n",
       "      <td>Pr1</td>\n",
       "    </tr>\n",
       "  </tbody>\n",
       "</table>\n",
       "</div>"
      ],
      "text/plain": [
       "   Surv Classe Genre   Age     Prix Port AgeQ PrixQ\n",
       "0  Vnon    Cl3  Gmas  22.0   7.2500   Ps  Ag1   Pr1\n",
       "1  Voui    Cl1  Gfem  38.0  71.2833   Pc  Ag3   Pr3\n",
       "2  Voui    Cl3  Gfem  26.0   7.9250   Ps  Ag2   Pr1\n",
       "3  Voui    Cl1  Gfem  35.0  53.1000   Ps  Ag3   Pr3\n",
       "4  Vnon    Cl3  Gmas  35.0   8.0500   Ps  Ag3   Pr1"
      ]
     },
     "execution_count": 37,
     "metadata": {},
     "output_type": "execute_result"
    }
   ],
   "source": [
    "df.head()"
   ]
  },
  {
   "cell_type": "code",
   "execution_count": 38,
   "metadata": {
    "tags": []
   },
   "outputs": [],
   "source": [
    "import matplotlib.pyplot as plt\n",
    "%matplotlib inline"
   ]
  },
  {
   "cell_type": "code",
   "execution_count": 39,
   "metadata": {},
   "outputs": [
    {
     "data": {
      "image/png": "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",
      "text/plain": [
       "<Figure size 432x288 with 1 Axes>"
      ]
     },
     "metadata": {
      "needs_background": "light"
     },
     "output_type": "display_data"
    }
   ],
   "source": [
    "df[\"Age\"].hist()\n",
    "plt.show()"
   ]
  },
  {
   "cell_type": "code",
   "execution_count": 40,
   "metadata": {},
   "outputs": [
    {
     "data": {
      "image/png": "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",
      "text/plain": [
       "<Figure size 432x288 with 1 Axes>"
      ]
     },
     "metadata": {
      "needs_background": "light"
     },
     "output_type": "display_data"
    }
   ],
   "source": [
    "df[\"Age\"].plot(kind=\"box\")\n",
    "plt.show()"
   ]
  },
  {
   "cell_type": "code",
   "execution_count": 41,
   "metadata": {},
   "outputs": [
    {
     "data": {
      "image/png": "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",
      "text/plain": [
       "<Figure size 432x288 with 1 Axes>"
      ]
     },
     "metadata": {
      "needs_background": "light"
     },
     "output_type": "display_data"
    }
   ],
   "source": [
    "df[\"Prix\"].plot(kind=\"hist\")\n",
    "plt.show()"
   ]
  },
  {
   "cell_type": "code",
   "execution_count": 42,
   "metadata": {},
   "outputs": [
    {
     "data": {
      "text/plain": [
       "Vnon    549\n",
       "Voui    342\n",
       "Name: Surv, dtype: int64"
      ]
     },
     "execution_count": 42,
     "metadata": {},
     "output_type": "execute_result"
    }
   ],
   "source": [
    "# qualitatif\n",
    "df[\"Surv\"].value_counts()"
   ]
  },
  {
   "cell_type": "code",
   "execution_count": 43,
   "metadata": {},
   "outputs": [
    {
     "data": {
      "text/plain": [
       "Cl3    491\n",
       "Cl1    216\n",
       "Cl2    184\n",
       "Name: Classe, dtype: int64"
      ]
     },
     "execution_count": 43,
     "metadata": {},
     "output_type": "execute_result"
    }
   ],
   "source": [
    "df[\"Classe\"].value_counts()"
   ]
  },
  {
   "cell_type": "code",
   "execution_count": 44,
   "metadata": {},
   "outputs": [
    {
     "data": {
      "text/plain": [
       "Gmas    577\n",
       "Gfem    314\n",
       "Name: Genre, dtype: int64"
      ]
     },
     "execution_count": 44,
     "metadata": {},
     "output_type": "execute_result"
    }
   ],
   "source": [
    "df[\"Genre\"].value_counts()"
   ]
  },
  {
   "cell_type": "code",
   "execution_count": 45,
   "metadata": {},
   "outputs": [
    {
     "data": {
      "text/plain": [
       "Ps    644\n",
       "Pc    168\n",
       "Pq     77\n",
       "Name: Port, dtype: int64"
      ]
     },
     "execution_count": 45,
     "metadata": {},
     "output_type": "execute_result"
    }
   ],
   "source": [
    "df[\"Port\"].value_counts()"
   ]
  },
  {
   "cell_type": "markdown",
   "metadata": {},
   "source": [
    "### 4.2 Description bivariée"
   ]
  },
  {
   "cell_type": "code",
   "execution_count": 46,
   "metadata": {},
   "outputs": [
    {
     "data": {
      "image/png": "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",
      "text/plain": [
       "<Figure size 432x288 with 1 Axes>"
      ]
     },
     "metadata": {
      "needs_background": "light"
     },
     "output_type": "display_data"
    }
   ],
   "source": [
    "df.plot(kind=\"scatter\",x=\"Age\",y=\"Prix\")\n",
    "plt.show()"
   ]
  },
  {
   "cell_type": "code",
   "execution_count": 47,
   "metadata": {},
   "outputs": [
    {
     "data": {
      "text/html": [
       "<div>\n",
       "<style scoped>\n",
       "    .dataframe tbody tr th:only-of-type {\n",
       "        vertical-align: middle;\n",
       "    }\n",
       "\n",
       "    .dataframe tbody tr th {\n",
       "        vertical-align: top;\n",
       "    }\n",
       "\n",
       "    .dataframe thead th {\n",
       "        text-align: right;\n",
       "    }\n",
       "</style>\n",
       "<table border=\"1\" class=\"dataframe\">\n",
       "  <thead>\n",
       "    <tr style=\"text-align: right;\">\n",
       "      <th></th>\n",
       "      <th>Genre</th>\n",
       "      <th>Classe</th>\n",
       "      <th>Age</th>\n",
       "      <th>Surv</th>\n",
       "    </tr>\n",
       "  </thead>\n",
       "  <tbody>\n",
       "    <tr>\n",
       "      <th>33</th>\n",
       "      <td>Gmas</td>\n",
       "      <td>Cl2</td>\n",
       "      <td>66.0</td>\n",
       "      <td>Vnon</td>\n",
       "    </tr>\n",
       "    <tr>\n",
       "      <th>54</th>\n",
       "      <td>Gmas</td>\n",
       "      <td>Cl1</td>\n",
       "      <td>65.0</td>\n",
       "      <td>Vnon</td>\n",
       "    </tr>\n",
       "    <tr>\n",
       "      <th>96</th>\n",
       "      <td>Gmas</td>\n",
       "      <td>Cl1</td>\n",
       "      <td>71.0</td>\n",
       "      <td>Vnon</td>\n",
       "    </tr>\n",
       "    <tr>\n",
       "      <th>116</th>\n",
       "      <td>Gmas</td>\n",
       "      <td>Cl3</td>\n",
       "      <td>70.5</td>\n",
       "      <td>Vnon</td>\n",
       "    </tr>\n",
       "    <tr>\n",
       "      <th>170</th>\n",
       "      <td>Gmas</td>\n",
       "      <td>Cl1</td>\n",
       "      <td>61.0</td>\n",
       "      <td>Vnon</td>\n",
       "    </tr>\n",
       "    <tr>\n",
       "      <th>252</th>\n",
       "      <td>Gmas</td>\n",
       "      <td>Cl1</td>\n",
       "      <td>62.0</td>\n",
       "      <td>Vnon</td>\n",
       "    </tr>\n",
       "    <tr>\n",
       "      <th>275</th>\n",
       "      <td>Gfem</td>\n",
       "      <td>Cl1</td>\n",
       "      <td>63.0</td>\n",
       "      <td>Voui</td>\n",
       "    </tr>\n",
       "    <tr>\n",
       "      <th>280</th>\n",
       "      <td>Gmas</td>\n",
       "      <td>Cl3</td>\n",
       "      <td>65.0</td>\n",
       "      <td>Vnon</td>\n",
       "    </tr>\n",
       "    <tr>\n",
       "      <th>326</th>\n",
       "      <td>Gmas</td>\n",
       "      <td>Cl3</td>\n",
       "      <td>61.0</td>\n",
       "      <td>Vnon</td>\n",
       "    </tr>\n",
       "    <tr>\n",
       "      <th>438</th>\n",
       "      <td>Gmas</td>\n",
       "      <td>Cl1</td>\n",
       "      <td>64.0</td>\n",
       "      <td>Vnon</td>\n",
       "    </tr>\n",
       "    <tr>\n",
       "      <th>456</th>\n",
       "      <td>Gmas</td>\n",
       "      <td>Cl1</td>\n",
       "      <td>65.0</td>\n",
       "      <td>Vnon</td>\n",
       "    </tr>\n",
       "    <tr>\n",
       "      <th>483</th>\n",
       "      <td>Gfem</td>\n",
       "      <td>Cl3</td>\n",
       "      <td>63.0</td>\n",
       "      <td>Voui</td>\n",
       "    </tr>\n",
       "    <tr>\n",
       "      <th>493</th>\n",
       "      <td>Gmas</td>\n",
       "      <td>Cl1</td>\n",
       "      <td>71.0</td>\n",
       "      <td>Vnon</td>\n",
       "    </tr>\n",
       "    <tr>\n",
       "      <th>545</th>\n",
       "      <td>Gmas</td>\n",
       "      <td>Cl1</td>\n",
       "      <td>64.0</td>\n",
       "      <td>Vnon</td>\n",
       "    </tr>\n",
       "    <tr>\n",
       "      <th>555</th>\n",
       "      <td>Gmas</td>\n",
       "      <td>Cl1</td>\n",
       "      <td>62.0</td>\n",
       "      <td>Vnon</td>\n",
       "    </tr>\n",
       "    <tr>\n",
       "      <th>570</th>\n",
       "      <td>Gmas</td>\n",
       "      <td>Cl2</td>\n",
       "      <td>62.0</td>\n",
       "      <td>Voui</td>\n",
       "    </tr>\n",
       "    <tr>\n",
       "      <th>625</th>\n",
       "      <td>Gmas</td>\n",
       "      <td>Cl1</td>\n",
       "      <td>61.0</td>\n",
       "      <td>Vnon</td>\n",
       "    </tr>\n",
       "    <tr>\n",
       "      <th>630</th>\n",
       "      <td>Gmas</td>\n",
       "      <td>Cl1</td>\n",
       "      <td>80.0</td>\n",
       "      <td>Voui</td>\n",
       "    </tr>\n",
       "    <tr>\n",
       "      <th>672</th>\n",
       "      <td>Gmas</td>\n",
       "      <td>Cl2</td>\n",
       "      <td>70.0</td>\n",
       "      <td>Vnon</td>\n",
       "    </tr>\n",
       "    <tr>\n",
       "      <th>745</th>\n",
       "      <td>Gmas</td>\n",
       "      <td>Cl1</td>\n",
       "      <td>70.0</td>\n",
       "      <td>Vnon</td>\n",
       "    </tr>\n",
       "    <tr>\n",
       "      <th>829</th>\n",
       "      <td>Gfem</td>\n",
       "      <td>Cl1</td>\n",
       "      <td>62.0</td>\n",
       "      <td>Voui</td>\n",
       "    </tr>\n",
       "    <tr>\n",
       "      <th>851</th>\n",
       "      <td>Gmas</td>\n",
       "      <td>Cl3</td>\n",
       "      <td>74.0</td>\n",
       "      <td>Vnon</td>\n",
       "    </tr>\n",
       "  </tbody>\n",
       "</table>\n",
       "</div>"
      ],
      "text/plain": [
       "    Genre Classe   Age  Surv\n",
       "33   Gmas    Cl2  66.0  Vnon\n",
       "54   Gmas    Cl1  65.0  Vnon\n",
       "96   Gmas    Cl1  71.0  Vnon\n",
       "116  Gmas    Cl3  70.5  Vnon\n",
       "170  Gmas    Cl1  61.0  Vnon\n",
       "252  Gmas    Cl1  62.0  Vnon\n",
       "275  Gfem    Cl1  63.0  Voui\n",
       "280  Gmas    Cl3  65.0  Vnon\n",
       "326  Gmas    Cl3  61.0  Vnon\n",
       "438  Gmas    Cl1  64.0  Vnon\n",
       "456  Gmas    Cl1  65.0  Vnon\n",
       "483  Gfem    Cl3  63.0  Voui\n",
       "493  Gmas    Cl1  71.0  Vnon\n",
       "545  Gmas    Cl1  64.0  Vnon\n",
       "555  Gmas    Cl1  62.0  Vnon\n",
       "570  Gmas    Cl2  62.0  Voui\n",
       "625  Gmas    Cl1  61.0  Vnon\n",
       "630  Gmas    Cl1  80.0  Voui\n",
       "672  Gmas    Cl2  70.0  Vnon\n",
       "745  Gmas    Cl1  70.0  Vnon\n",
       "829  Gfem    Cl1  62.0  Voui\n",
       "851  Gmas    Cl3  74.0  Vnon"
      ]
     },
     "execution_count": 47,
     "metadata": {},
     "output_type": "execute_result"
    }
   ],
   "source": [
    "# afficher une sélection\n",
    "df[df[\"Age\"]>60][[\"Genre\",\"Classe\",\"Age\",\"Surv\"]]"
   ]
  },
  {
   "cell_type": "code",
   "execution_count": 48,
   "metadata": {},
   "outputs": [
    {
     "data": {
      "image/png": "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",
      "text/plain": [
       "<Figure size 432x288 with 1 Axes>"
      ]
     },
     "metadata": {
      "needs_background": "light"
     },
     "output_type": "display_data"
    }
   ],
   "source": [
    "df.boxplot(column=\"Age\",by=\"Classe\")\n",
    "plt.show()"
   ]
  },
  {
   "cell_type": "code",
   "execution_count": 49,
   "metadata": {},
   "outputs": [
    {
     "data": {
      "image/png": "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",
      "text/plain": [
       "<Figure size 432x288 with 1 Axes>"
      ]
     },
     "metadata": {
      "needs_background": "light"
     },
     "output_type": "display_data"
    }
   ],
   "source": [
    "df.boxplot(column=\"Prix\",by=\"Surv\")\n",
    "plt.show()"
   ]
  },
  {
   "cell_type": "code",
   "execution_count": 50,
   "metadata": {},
   "outputs": [
    {
     "name": "stdout",
     "output_type": "stream",
     "text": [
      "Classe  Cl1  Cl2  Cl3\n",
      "Surv                 \n",
      "Vnon     80   97  372\n",
      "Voui    136   87  119\n"
     ]
    }
   ],
   "source": [
    "# table de contingence\n",
    "table=pd.crosstab(df[\"Surv\"],df[\"Classe\"])\n",
    "print(table)"
   ]
  },
  {
   "cell_type": "code",
   "execution_count": 51,
   "metadata": {},
   "outputs": [
    {
     "data": {
      "image/png": "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",
      "text/plain": [
       "<Figure size 432x288 with 3 Axes>"
      ]
     },
     "metadata": {
      "needs_background": "light"
     },
     "output_type": "display_data"
    }
   ],
   "source": [
    "# Mosaic plot\n",
    "from statsmodels.graphics.mosaicplot import mosaic\n",
    "mosaic(df,[\"Classe\",\"Genre\"])\n",
    "plt.show()"
   ]
  },
  {
   "cell_type": "code",
   "execution_count": 52,
   "metadata": {},
   "outputs": [
    {
     "data": {
      "image/png": "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",
      "text/plain": [
       "<Figure size 432x288 with 3 Axes>"
      ]
     },
     "metadata": {
      "needs_background": "light"
     },
     "output_type": "display_data"
    }
   ],
   "source": [
    "mosaic(df,[\"Surv\",\"Classe\"])\n",
    "plt.show()"
   ]
  },
  {
   "cell_type": "markdown",
   "metadata": {},
   "source": [
    "### 4.3 Imputation de données manquantes\n",
    "La gestion des données manquantes est souvent un point délicat. De nombreuses stratégies ont été élaborées, les principales sont décrites dans une [vignette](http://wikistat.fr/pdf/st-m-app-idm.pdf). Nous ne décrivons ici que les plus élémentaires à [mettre en oeuvre](https://pandas.pydata.org/docs/user_guide/missing_data.html?highlight=missing%20data%20handling#) avec `pandas`.\n",
    "\n",
    "Il est ainsi facile de supprimer toutes les observations présentant des données manquantes lorsque celles-ci sont peu nombreuses et majoritairement regroupées sur certaines lignes ou colonnes.\n",
    "\n",
    "``\n",
    "df = df.dropna(axis=0)\n",
    "``\n",
    "``\n",
    "df = df.dropna(axis=1)\n",
    "``\n",
    "\n",
    "`Pandas` permet également de faire le choix pour une variable qualitative de considérer `np.nan` comme une modalité spécifique ou d'ignorer l'observation correspondante.\n",
    "\n",
    "Autres stratégies:\n",
    "* Cas quantitatif: une valeur manquante est imputée par la moyenne ou la médiane.\n",
    "*  Cas d'une série chronologique: imputation par la valeur précédente ou suivante ou par interpolation linéaire, polynomiale ou encore lissage spline.\n",
    "* Cas qualitatif: modalité la plus fréquente ou répartition aléatoire selon les fréquences observées des modalités.\n",
    "\n",
    "La variable âge contient de nombreuses données manquantes. La fonction `fillna` présente plusieurs options d'imputation."
   ]
  },
  {
   "cell_type": "code",
   "execution_count": 53,
   "metadata": {},
   "outputs": [
    {
     "name": "stderr",
     "output_type": "stream",
     "text": [
      "C:\\Users\\belkh\\AppData\\Local\\Temp\\ipykernel_12880\\3016684198.py:2: FutureWarning: Dropping of nuisance columns in DataFrame reductions (with 'numeric_only=None') is deprecated; in a future version this will raise TypeError.  Select only valid columns before calling the reduction.\n",
      "  df=df.fillna(df.median())\n"
     ]
    },
    {
     "data": {
      "text/html": [
       "<div>\n",
       "<style scoped>\n",
       "    .dataframe tbody tr th:only-of-type {\n",
       "        vertical-align: middle;\n",
       "    }\n",
       "\n",
       "    .dataframe tbody tr th {\n",
       "        vertical-align: top;\n",
       "    }\n",
       "\n",
       "    .dataframe thead th {\n",
       "        text-align: right;\n",
       "    }\n",
       "</style>\n",
       "<table border=\"1\" class=\"dataframe\">\n",
       "  <thead>\n",
       "    <tr style=\"text-align: right;\">\n",
       "      <th></th>\n",
       "      <th>Age</th>\n",
       "      <th>Prix</th>\n",
       "    </tr>\n",
       "  </thead>\n",
       "  <tbody>\n",
       "    <tr>\n",
       "      <th>count</th>\n",
       "      <td>891.000000</td>\n",
       "      <td>891.000000</td>\n",
       "    </tr>\n",
       "    <tr>\n",
       "      <th>mean</th>\n",
       "      <td>29.361582</td>\n",
       "      <td>32.204208</td>\n",
       "    </tr>\n",
       "    <tr>\n",
       "      <th>std</th>\n",
       "      <td>13.019697</td>\n",
       "      <td>49.693429</td>\n",
       "    </tr>\n",
       "    <tr>\n",
       "      <th>min</th>\n",
       "      <td>0.420000</td>\n",
       "      <td>0.000000</td>\n",
       "    </tr>\n",
       "    <tr>\n",
       "      <th>25%</th>\n",
       "      <td>22.000000</td>\n",
       "      <td>7.910400</td>\n",
       "    </tr>\n",
       "    <tr>\n",
       "      <th>50%</th>\n",
       "      <td>28.000000</td>\n",
       "      <td>14.454200</td>\n",
       "    </tr>\n",
       "    <tr>\n",
       "      <th>75%</th>\n",
       "      <td>35.000000</td>\n",
       "      <td>31.000000</td>\n",
       "    </tr>\n",
       "    <tr>\n",
       "      <th>max</th>\n",
       "      <td>80.000000</td>\n",
       "      <td>512.329200</td>\n",
       "    </tr>\n",
       "  </tbody>\n",
       "</table>\n",
       "</div>"
      ],
      "text/plain": [
       "              Age        Prix\n",
       "count  891.000000  891.000000\n",
       "mean    29.361582   32.204208\n",
       "std     13.019697   49.693429\n",
       "min      0.420000    0.000000\n",
       "25%     22.000000    7.910400\n",
       "50%     28.000000   14.454200\n",
       "75%     35.000000   31.000000\n",
       "max     80.000000  512.329200"
      ]
     },
     "execution_count": 53,
     "metadata": {},
     "output_type": "execute_result"
    }
   ],
   "source": [
    "# Remplacement par la médiane d'une variable quantitative\n",
    "df=df.fillna(df.median())\n",
    "df.describe()"
   ]
  },
  {
   "cell_type": "code",
   "execution_count": 54,
   "metadata": {},
   "outputs": [
    {
     "name": "stdout",
     "output_type": "stream",
     "text": [
      "<class 'pandas.core.frame.DataFrame'>\n",
      "RangeIndex: 891 entries, 0 to 890\n",
      "Data columns (total 8 columns):\n",
      " #   Column  Non-Null Count  Dtype   \n",
      "---  ------  --------------  -----   \n",
      " 0   Surv    891 non-null    category\n",
      " 1   Classe  891 non-null    category\n",
      " 2   Genre   891 non-null    category\n",
      " 3   Age     891 non-null    float64 \n",
      " 4   Prix    891 non-null    float64 \n",
      " 5   Port    889 non-null    category\n",
      " 6   AgeQ    714 non-null    category\n",
      " 7   PrixQ   891 non-null    category\n",
      "dtypes: category(6), float64(2)\n",
      "memory usage: 20.0 KB\n",
      "<class 'pandas.core.frame.DataFrame'>\n",
      "RangeIndex: 891 entries, 0 to 890\n",
      "Data columns (total 8 columns):\n",
      " #   Column  Non-Null Count  Dtype   \n",
      "---  ------  --------------  -----   \n",
      " 0   Surv    891 non-null    category\n",
      " 1   Classe  891 non-null    category\n",
      " 2   Genre   891 non-null    category\n",
      " 3   Age     891 non-null    float64 \n",
      " 4   Prix    891 non-null    float64 \n",
      " 5   Port    891 non-null    category\n",
      " 6   AgeQ    891 non-null    category\n",
      " 7   PrixQ   891 non-null    category\n",
      "dtypes: category(6), float64(2)\n",
      "memory usage: 20.0 KB\n"
     ]
    }
   ],
   "source": [
    "# par la modalité \"médiane\" de AgeQ\n",
    "df.info()\n",
    "df.AgeQ=df[\"AgeQ\"].fillna(\"Ag2\")\n",
    "# par le port le plus fréquent\n",
    "df[\"Port\"].value_counts()\n",
    "df.Port=df[\"Port\"].fillna(\"Ps\")\n",
    "df.info()"
   ]
  },
  {
   "cell_type": "markdown",
   "metadata": {},
   "source": [
    "Ces imputations sont pour le moins très rudimentaires et d'autres sont à privilégier pour des modélisations  plus soignées mais ces méthodes font généralement appel à R.\n",
    "\n",
    "D'autres fonctions (Mac Kinney, 2013) sont proposées pour supprimer les duplicatas (`drop\\_duplicates`), modifier les dimensions, traquer des atypiques unidimensionnels selon un modèle gaussien ou par rapport à des quantiles."
   ]
  },
  {
   "cell_type": "markdown",
   "metadata": {},
   "source": [
    "## 5 Manipuler des tables de données\n",
    "### 5.1 Jointure\n",
    "Il s'agit de \"jointer\" deux tables partageant la même clef ou encore de concaténer horizontalement les lignes  en faisant correspondre les valeurs d'une variable clef qui peuvent ne pas être uniques."
   ]
  },
  {
   "cell_type": "code",
   "execution_count": 55,
   "metadata": {},
   "outputs": [
    {
     "data": {
      "text/html": [
       "<div>\n",
       "<style scoped>\n",
       "    .dataframe tbody tr th:only-of-type {\n",
       "        vertical-align: middle;\n",
       "    }\n",
       "\n",
       "    .dataframe tbody tr th {\n",
       "        vertical-align: top;\n",
       "    }\n",
       "\n",
       "    .dataframe thead th {\n",
       "        text-align: right;\n",
       "    }\n",
       "</style>\n",
       "<table border=\"1\" class=\"dataframe\">\n",
       "  <thead>\n",
       "    <tr style=\"text-align: right;\">\n",
       "      <th></th>\n",
       "      <th>key</th>\n",
       "      <th>data1</th>\n",
       "      <th>data2</th>\n",
       "    </tr>\n",
       "  </thead>\n",
       "  <tbody>\n",
       "    <tr>\n",
       "      <th>0</th>\n",
       "      <td>b</td>\n",
       "      <td>0</td>\n",
       "      <td>1</td>\n",
       "    </tr>\n",
       "    <tr>\n",
       "      <th>1</th>\n",
       "      <td>b</td>\n",
       "      <td>1</td>\n",
       "      <td>1</td>\n",
       "    </tr>\n",
       "    <tr>\n",
       "      <th>2</th>\n",
       "      <td>b</td>\n",
       "      <td>6</td>\n",
       "      <td>1</td>\n",
       "    </tr>\n",
       "    <tr>\n",
       "      <th>3</th>\n",
       "      <td>a</td>\n",
       "      <td>2</td>\n",
       "      <td>0</td>\n",
       "    </tr>\n",
       "    <tr>\n",
       "      <th>4</th>\n",
       "      <td>a</td>\n",
       "      <td>4</td>\n",
       "      <td>0</td>\n",
       "    </tr>\n",
       "    <tr>\n",
       "      <th>5</th>\n",
       "      <td>a</td>\n",
       "      <td>5</td>\n",
       "      <td>0</td>\n",
       "    </tr>\n",
       "  </tbody>\n",
       "</table>\n",
       "</div>"
      ],
      "text/plain": [
       "  key  data1  data2\n",
       "0   b      0      1\n",
       "1   b      1      1\n",
       "2   b      6      1\n",
       "3   a      2      0\n",
       "4   a      4      0\n",
       "5   a      5      0"
      ]
     },
     "execution_count": 55,
     "metadata": {},
     "output_type": "execute_result"
    }
   ],
   "source": [
    "# tables\n",
    "df1 = pd.DataFrame({\"key\": [\"b\", \"b\", \"a\", \"c\", \n",
    "     \"a\",\"a\", \"b\"],\"data1\": range(7)})\n",
    "df2 = pd.DataFrame({\"key\": [\"a\", \"b\", \"d\"],\n",
    "    \"data2\": range(3)})\n",
    "pd.merge(df1,df2,on=\"key\")"
   ]
  },
  {
   "cell_type": "markdown",
   "metadata": {},
   "source": [
    "La gestion des clefs manquantes est en option: entre autres, ne pas introduire de ligne (ci-dessus), insérer des valeurs manquantes ci-dessous. "
   ]
  },
  {
   "cell_type": "code",
   "execution_count": 56,
   "metadata": {},
   "outputs": [
    {
     "data": {
      "text/html": [
       "<div>\n",
       "<style scoped>\n",
       "    .dataframe tbody tr th:only-of-type {\n",
       "        vertical-align: middle;\n",
       "    }\n",
       "\n",
       "    .dataframe tbody tr th {\n",
       "        vertical-align: top;\n",
       "    }\n",
       "\n",
       "    .dataframe thead th {\n",
       "        text-align: right;\n",
       "    }\n",
       "</style>\n",
       "<table border=\"1\" class=\"dataframe\">\n",
       "  <thead>\n",
       "    <tr style=\"text-align: right;\">\n",
       "      <th></th>\n",
       "      <th>key</th>\n",
       "      <th>data1</th>\n",
       "      <th>data2</th>\n",
       "    </tr>\n",
       "  </thead>\n",
       "  <tbody>\n",
       "    <tr>\n",
       "      <th>0</th>\n",
       "      <td>b</td>\n",
       "      <td>0.0</td>\n",
       "      <td>1.0</td>\n",
       "    </tr>\n",
       "    <tr>\n",
       "      <th>1</th>\n",
       "      <td>b</td>\n",
       "      <td>1.0</td>\n",
       "      <td>1.0</td>\n",
       "    </tr>\n",
       "    <tr>\n",
       "      <th>2</th>\n",
       "      <td>b</td>\n",
       "      <td>6.0</td>\n",
       "      <td>1.0</td>\n",
       "    </tr>\n",
       "    <tr>\n",
       "      <th>3</th>\n",
       "      <td>a</td>\n",
       "      <td>2.0</td>\n",
       "      <td>0.0</td>\n",
       "    </tr>\n",
       "    <tr>\n",
       "      <th>4</th>\n",
       "      <td>a</td>\n",
       "      <td>4.0</td>\n",
       "      <td>0.0</td>\n",
       "    </tr>\n",
       "    <tr>\n",
       "      <th>5</th>\n",
       "      <td>a</td>\n",
       "      <td>5.0</td>\n",
       "      <td>0.0</td>\n",
       "    </tr>\n",
       "    <tr>\n",
       "      <th>6</th>\n",
       "      <td>c</td>\n",
       "      <td>3.0</td>\n",
       "      <td>NaN</td>\n",
       "    </tr>\n",
       "    <tr>\n",
       "      <th>7</th>\n",
       "      <td>d</td>\n",
       "      <td>NaN</td>\n",
       "      <td>2.0</td>\n",
       "    </tr>\n",
       "  </tbody>\n",
       "</table>\n",
       "</div>"
      ],
      "text/plain": [
       "  key  data1  data2\n",
       "0   b    0.0    1.0\n",
       "1   b    1.0    1.0\n",
       "2   b    6.0    1.0\n",
       "3   a    2.0    0.0\n",
       "4   a    4.0    0.0\n",
       "5   a    5.0    0.0\n",
       "6   c    3.0    NaN\n",
       "7   d    NaN    2.0"
      ]
     },
     "execution_count": 56,
     "metadata": {},
     "output_type": "execute_result"
    }
   ],
   "source": [
    "# valeurs manquantes\n",
    "pd.merge(df1,df2,on=\"key\", how=\"outer\")"
   ]
  },
  {
   "cell_type": "markdown",
   "metadata": {},
   "source": [
    "### 5.2 Concaténation selon un axe\n",
    "Concaténation verticale (axis=0) ou horizontales (axis=1) de tables. La concaténation horizontale est similaire à la jointure (option `outer`)."
   ]
  },
  {
   "cell_type": "code",
   "execution_count": 57,
   "metadata": {},
   "outputs": [
    {
     "data": {
      "text/html": [
       "<div>\n",
       "<style scoped>\n",
       "    .dataframe tbody tr th:only-of-type {\n",
       "        vertical-align: middle;\n",
       "    }\n",
       "\n",
       "    .dataframe tbody tr th {\n",
       "        vertical-align: top;\n",
       "    }\n",
       "\n",
       "    .dataframe thead th {\n",
       "        text-align: right;\n",
       "    }\n",
       "</style>\n",
       "<table border=\"1\" class=\"dataframe\">\n",
       "  <thead>\n",
       "    <tr style=\"text-align: right;\">\n",
       "      <th></th>\n",
       "      <th>key</th>\n",
       "      <th>var</th>\n",
       "    </tr>\n",
       "  </thead>\n",
       "  <tbody>\n",
       "    <tr>\n",
       "      <th>0</th>\n",
       "      <td>b</td>\n",
       "      <td>0</td>\n",
       "    </tr>\n",
       "    <tr>\n",
       "      <th>1</th>\n",
       "      <td>b</td>\n",
       "      <td>1</td>\n",
       "    </tr>\n",
       "    <tr>\n",
       "      <th>2</th>\n",
       "      <td>a</td>\n",
       "      <td>2</td>\n",
       "    </tr>\n",
       "    <tr>\n",
       "      <th>3</th>\n",
       "      <td>c</td>\n",
       "      <td>3</td>\n",
       "    </tr>\n",
       "    <tr>\n",
       "      <th>4</th>\n",
       "      <td>a</td>\n",
       "      <td>4</td>\n",
       "    </tr>\n",
       "    <tr>\n",
       "      <th>5</th>\n",
       "      <td>a</td>\n",
       "      <td>5</td>\n",
       "    </tr>\n",
       "    <tr>\n",
       "      <th>6</th>\n",
       "      <td>b</td>\n",
       "      <td>6</td>\n",
       "    </tr>\n",
       "    <tr>\n",
       "      <th>0</th>\n",
       "      <td>a</td>\n",
       "      <td>0</td>\n",
       "    </tr>\n",
       "    <tr>\n",
       "      <th>1</th>\n",
       "      <td>b</td>\n",
       "      <td>1</td>\n",
       "    </tr>\n",
       "    <tr>\n",
       "      <th>2</th>\n",
       "      <td>d</td>\n",
       "      <td>2</td>\n",
       "    </tr>\n",
       "  </tbody>\n",
       "</table>\n",
       "</div>"
      ],
      "text/plain": [
       "  key  var\n",
       "0   b    0\n",
       "1   b    1\n",
       "2   a    2\n",
       "3   c    3\n",
       "4   a    4\n",
       "5   a    5\n",
       "6   b    6\n",
       "0   a    0\n",
       "1   b    1\n",
       "2   d    2"
      ]
     },
     "execution_count": 57,
     "metadata": {},
     "output_type": "execute_result"
    }
   ],
   "source": [
    "# tables\n",
    "df1 = pd.DataFrame({\"key\": [\"b\", \"b\", \"a\", \"c\", \n",
    "    \"a\", \"a\", \"b\"],\"var\": range(7)})\n",
    "df2 = pd.DataFrame({\"key\": [\"a\", \"b\", \"d\"],\n",
    "    \"var\": range(3)})\n",
    "# concaténation verticales\n",
    "pd.concat([df1,df2],axis=0)"
   ]
  },
  {
   "cell_type": "code",
   "execution_count": 58,
   "metadata": {},
   "outputs": [
    {
     "data": {
      "text/html": [
       "<div>\n",
       "<style scoped>\n",
       "    .dataframe tbody tr th:only-of-type {\n",
       "        vertical-align: middle;\n",
       "    }\n",
       "\n",
       "    .dataframe tbody tr th {\n",
       "        vertical-align: top;\n",
       "    }\n",
       "\n",
       "    .dataframe thead th {\n",
       "        text-align: right;\n",
       "    }\n",
       "</style>\n",
       "<table border=\"1\" class=\"dataframe\">\n",
       "  <thead>\n",
       "    <tr style=\"text-align: right;\">\n",
       "      <th></th>\n",
       "      <th>key</th>\n",
       "      <th>var</th>\n",
       "      <th>key</th>\n",
       "      <th>var</th>\n",
       "    </tr>\n",
       "  </thead>\n",
       "  <tbody>\n",
       "    <tr>\n",
       "      <th>0</th>\n",
       "      <td>b</td>\n",
       "      <td>0</td>\n",
       "      <td>a</td>\n",
       "      <td>0.0</td>\n",
       "    </tr>\n",
       "    <tr>\n",
       "      <th>1</th>\n",
       "      <td>b</td>\n",
       "      <td>1</td>\n",
       "      <td>b</td>\n",
       "      <td>1.0</td>\n",
       "    </tr>\n",
       "    <tr>\n",
       "      <th>2</th>\n",
       "      <td>a</td>\n",
       "      <td>2</td>\n",
       "      <td>d</td>\n",
       "      <td>2.0</td>\n",
       "    </tr>\n",
       "    <tr>\n",
       "      <th>3</th>\n",
       "      <td>c</td>\n",
       "      <td>3</td>\n",
       "      <td>NaN</td>\n",
       "      <td>NaN</td>\n",
       "    </tr>\n",
       "    <tr>\n",
       "      <th>4</th>\n",
       "      <td>a</td>\n",
       "      <td>4</td>\n",
       "      <td>NaN</td>\n",
       "      <td>NaN</td>\n",
       "    </tr>\n",
       "    <tr>\n",
       "      <th>5</th>\n",
       "      <td>a</td>\n",
       "      <td>5</td>\n",
       "      <td>NaN</td>\n",
       "      <td>NaN</td>\n",
       "    </tr>\n",
       "    <tr>\n",
       "      <th>6</th>\n",
       "      <td>b</td>\n",
       "      <td>6</td>\n",
       "      <td>NaN</td>\n",
       "      <td>NaN</td>\n",
       "    </tr>\n",
       "  </tbody>\n",
       "</table>\n",
       "</div>"
      ],
      "text/plain": [
       "  key  var  key  var\n",
       "0   b    0    a  0.0\n",
       "1   b    1    b  1.0\n",
       "2   a    2    d  2.0\n",
       "3   c    3  NaN  NaN\n",
       "4   a    4  NaN  NaN\n",
       "5   a    5  NaN  NaN\n",
       "6   b    6  NaN  NaN"
      ]
     },
     "execution_count": 58,
     "metadata": {},
     "output_type": "execute_result"
    }
   ],
   "source": [
    "# concaténation horizontale\n",
    "pd.concat([df1,df2],axis=1)"
   ]
  },
  {
   "cell_type": "markdown",
   "metadata": {},
   "source": [
    "## 6 Trafic séquentiel de gros fichiers\n",
    "Étape suivante associée de la croissance du volume: les fichiers des données brutes ne tiennent pas en mémoire.  Il \"suffit\" d'intégrer ou enchâsser les étapes des sections précédentes dans la lecture séquentielle d'un gros fichier. En apparence, simple d'un point de vue méthodologique, cette étape peut consommer beaucoup de temps par tests et remises en cause incessantes des choix de sélection, transformation, recodage... des variables. Il est crucial de se doter d'outils efficaces. \n",
    "\n",
    "Il s'agit donc de lire les données par morceau (nombre fixé de lignes) ou ligne à ligne, traiter chaque morceau, le ré-écrire dans un fichier de format binaire plutôt que texte; le choix du format HDF5 semble le plus efficace du point de vue technique et pour servir d'interface à d'autres environnements: C, java, Matlab... et R car une librairie ({\\tt rhdf5} de Bioconductor) gère ce format.\n",
    "\n",
    "La procédure est comparable à une étape `Data` de SAS, qui lit/écrit les tables ligne à ligne.\n",
    "\n",
    "Deux librairies: `h5py` et `PyTables` gèrent le format HDF5 en Python. Pour simplifier la tâche, `pandas` intègre une classe `HDFStore` utilisant `PyTables` qui doit donc être installée. \n",
    "\n",
    "**Attention**: ce format n'est pas adapté à une gestion *parallélisée*, notamment en écriture. \n",
    "\n",
    "\n",
    "### 6.1 Lecture séquentielle\n",
    "L'exemple est ici donné pour lire un fichier texte mais beaucoup d'autres formats (excel, hdf, sql, json, msgpack, html, gbq, stata, clipboard, pickle) sont connus de `pandas`."
   ]
  },
  {
   "cell_type": "code",
   "execution_count": 59,
   "metadata": {},
   "outputs": [
    {
     "data": {
      "text/html": [
       "<div>\n",
       "<style scoped>\n",
       "    .dataframe tbody tr th:only-of-type {\n",
       "        vertical-align: middle;\n",
       "    }\n",
       "\n",
       "    .dataframe tbody tr th {\n",
       "        vertical-align: top;\n",
       "    }\n",
       "\n",
       "    .dataframe thead th {\n",
       "        text-align: right;\n",
       "    }\n",
       "</style>\n",
       "<table border=\"1\" class=\"dataframe\">\n",
       "  <thead>\n",
       "    <tr style=\"text-align: right;\">\n",
       "      <th></th>\n",
       "      <th>Surv</th>\n",
       "      <th>Classe</th>\n",
       "      <th>Genre</th>\n",
       "      <th>Age</th>\n",
       "      <th>Prix</th>\n",
       "      <th>Port</th>\n",
       "    </tr>\n",
       "  </thead>\n",
       "  <tbody>\n",
       "    <tr>\n",
       "      <th>800</th>\n",
       "      <td>0</td>\n",
       "      <td>2</td>\n",
       "      <td>male</td>\n",
       "      <td>34.00</td>\n",
       "      <td>13.0000</td>\n",
       "      <td>S</td>\n",
       "    </tr>\n",
       "    <tr>\n",
       "      <th>801</th>\n",
       "      <td>1</td>\n",
       "      <td>2</td>\n",
       "      <td>female</td>\n",
       "      <td>31.00</td>\n",
       "      <td>26.2500</td>\n",
       "      <td>S</td>\n",
       "    </tr>\n",
       "    <tr>\n",
       "      <th>802</th>\n",
       "      <td>1</td>\n",
       "      <td>1</td>\n",
       "      <td>male</td>\n",
       "      <td>11.00</td>\n",
       "      <td>120.0000</td>\n",
       "      <td>S</td>\n",
       "    </tr>\n",
       "    <tr>\n",
       "      <th>803</th>\n",
       "      <td>1</td>\n",
       "      <td>3</td>\n",
       "      <td>male</td>\n",
       "      <td>0.42</td>\n",
       "      <td>8.5167</td>\n",
       "      <td>C</td>\n",
       "    </tr>\n",
       "    <tr>\n",
       "      <th>804</th>\n",
       "      <td>1</td>\n",
       "      <td>3</td>\n",
       "      <td>male</td>\n",
       "      <td>27.00</td>\n",
       "      <td>6.9750</td>\n",
       "      <td>S</td>\n",
       "    </tr>\n",
       "  </tbody>\n",
       "</table>\n",
       "</div>"
      ],
      "text/plain": [
       "    Surv Classe   Genre    Age      Prix Port\n",
       "800    0      2    male  34.00   13.0000    S\n",
       "801    1      2  female  31.00   26.2500    S\n",
       "802    1      1    male  11.00  120.0000    S\n",
       "803    1      3    male   0.42    8.5167    C\n",
       "804    1      3    male  27.00    6.9750    S"
      ]
     },
     "execution_count": 59,
     "metadata": {},
     "output_type": "execute_result"
    }
   ],
   "source": [
    "# importations\n",
    "import pandas as pd\n",
    "import numpy as np\n",
    "# lire tout le fichier par morceaux\n",
    "# avec l'option chunksize\n",
    "Partition=pd.read_csv(\"../99 - Datasets/titanic-train.csv\",skiprows=1,\n",
    "  header=None,usecols=[1,2,4,5,9,11],\n",
    "  names=[\"Surv\",\"Classe\",\"Genre\",\"Age\",\n",
    "    \"Prix\",\"Port\"],dtype={\"Surv\":object,\n",
    "    \"Classe\":object,\"Genre\":object,\"Port\":object},\n",
    "    chunksize=100)\n",
    "# ouverture du fichier HDF5\n",
    "stock=pd.HDFStore(\"../99 - Datasets/titan.h5\")\n",
    "# boucle de lecture\n",
    "for Part in Partition:\n",
    "    # \"nettoyage\" préliminaire des données\n",
    "    # Part=Part.drop([\"Name\",\"Ticket\",\"Cabin\"],axis=1)\n",
    "    # ... autres opérations\n",
    "    # création de la table \"df\" dans \"stock\" puis\n",
    "    # extension de celle-ci par chaque \"Part\"\n",
    "    stock.append(\"df\",Part)\n",
    "# dernier morceau lu et ajouté\n",
    "Part.head()"
   ]
  },
  {
   "cell_type": "code",
   "execution_count": 60,
   "metadata": {},
   "outputs": [
    {
     "data": {
      "text/plain": [
       "/df/table (Table(891,)) ''\n",
       "  description := {\n",
       "  \"index\": Int64Col(shape=(), dflt=0, pos=0),\n",
       "  \"values_block_0\": Float64Col(shape=(2,), dflt=0.0, pos=1),\n",
       "  \"values_block_1\": StringCol(itemsize=6, shape=(4,), dflt=b'', pos=2)}\n",
       "  byteorder := 'little'\n",
       "  chunkshape := (1365,)\n",
       "  autoindex := True\n",
       "  colindexes := {\n",
       "    \"index\": Index(6, medium, shuffle, zlib(1)).is_csi=False}"
      ]
     },
     "execution_count": 60,
     "metadata": {},
     "output_type": "execute_result"
    }
   ],
   "source": [
    "stock.get_storer('df').table"
   ]
  },
  {
   "cell_type": "code",
   "execution_count": 61,
   "metadata": {},
   "outputs": [
    {
     "data": {
      "text/html": [
       "<div>\n",
       "<style scoped>\n",
       "    .dataframe tbody tr th:only-of-type {\n",
       "        vertical-align: middle;\n",
       "    }\n",
       "\n",
       "    .dataframe tbody tr th {\n",
       "        vertical-align: top;\n",
       "    }\n",
       "\n",
       "    .dataframe thead th {\n",
       "        text-align: right;\n",
       "    }\n",
       "</style>\n",
       "<table border=\"1\" class=\"dataframe\">\n",
       "  <thead>\n",
       "    <tr style=\"text-align: right;\">\n",
       "      <th></th>\n",
       "      <th>int32</th>\n",
       "      <th>int64</th>\n",
       "      <th>float</th>\n",
       "      <th>string</th>\n",
       "    </tr>\n",
       "  </thead>\n",
       "  <tbody>\n",
       "    <tr>\n",
       "      <th>0</th>\n",
       "      <td>746358</td>\n",
       "      <td>626146300</td>\n",
       "      <td>0.051599</td>\n",
       "      <td>PPPPPPPPPP</td>\n",
       "    </tr>\n",
       "    <tr>\n",
       "      <th>1</th>\n",
       "      <td>253787</td>\n",
       "      <td>5381383950</td>\n",
       "      <td>0.095296</td>\n",
       "      <td>FFFFFFFFFF</td>\n",
       "    </tr>\n",
       "    <tr>\n",
       "      <th>2</th>\n",
       "      <td>918284</td>\n",
       "      <td>1772819490</td>\n",
       "      <td>0.417962</td>\n",
       "      <td>DDDDDDDDDD</td>\n",
       "    </tr>\n",
       "    <tr>\n",
       "      <th>3</th>\n",
       "      <td>126895</td>\n",
       "      <td>1191426420</td>\n",
       "      <td>0.221873</td>\n",
       "      <td>LLLLLLLLLL</td>\n",
       "    </tr>\n",
       "    <tr>\n",
       "      <th>4</th>\n",
       "      <td>44986</td>\n",
       "      <td>9121817520</td>\n",
       "      <td>0.179571</td>\n",
       "      <td>YYYYYYYYYY</td>\n",
       "    </tr>\n",
       "  </tbody>\n",
       "</table>\n",
       "</div>"
      ],
      "text/plain": [
       "    int32       int64     float      string\n",
       "0  746358   626146300  0.051599  PPPPPPPPPP\n",
       "1  253787  5381383950  0.095296  FFFFFFFFFF\n",
       "2  918284  1772819490  0.417962  DDDDDDDDDD\n",
       "3  126895  1191426420  0.221873  LLLLLLLLLL\n",
       "4   44986  9121817520  0.179571  YYYYYYYYYY"
      ]
     },
     "execution_count": 61,
     "metadata": {},
     "output_type": "execute_result"
    }
   ],
   "source": [
    "import string\n",
    "import numpy as np\n",
    "import pandas as pd\n",
    "\n",
    "df = pd.DataFrame({\n",
    "     'int32':    np.random.randint(0, 10**6, 10),\n",
    "     'int64':    np.random.randint(10**7, 10**9, 10).astype(np.int64)*10,\n",
    "     'float':    np.random.rand(10),\n",
    "     'string':   np.random.choice([c*10 for c in string.ascii_uppercase], 10),\n",
    "     })\n",
    "df.head()"
   ]
  },
  {
   "cell_type": "code",
   "execution_count": 62,
   "metadata": {},
   "outputs": [
    {
     "name": "stdout",
     "output_type": "stream",
     "text": [
      "CPU times: total: 5.42 s\n",
      "Wall time: 5.42 s\n"
     ]
    }
   ],
   "source": [
    "%%time \n",
    "df = pd.concat([df] * 10**5, ignore_index=True)"
   ]
  },
  {
   "cell_type": "code",
   "execution_count": 63,
   "metadata": {},
   "outputs": [
    {
     "data": {
      "text/plain": [
       "82.96980285644531"
      ]
     },
     "execution_count": 63,
     "metadata": {},
     "output_type": "execute_result"
    }
   ],
   "source": [
    "import sys \n",
    "\n",
    "sys.getsizeof(df) / 1024 / 1024"
   ]
  },
  {
   "cell_type": "code",
   "execution_count": 64,
   "metadata": {},
   "outputs": [],
   "source": [
    "store = pd.HDFStore('./example.h5')"
   ]
  },
  {
   "cell_type": "code",
   "execution_count": 65,
   "metadata": {},
   "outputs": [],
   "source": [
    "store.append('store_key', df, data_columns=['int32','int64','string'])"
   ]
  },
  {
   "cell_type": "code",
   "execution_count": 66,
   "metadata": {},
   "outputs": [
    {
     "data": {
      "text/plain": [
       "/store_key/table (Table(1000000,)) ''\n",
       "  description := {\n",
       "  \"index\": Int64Col(shape=(), dflt=0, pos=0),\n",
       "  \"values_block_0\": Float64Col(shape=(1,), dflt=0.0, pos=1),\n",
       "  \"int32\": Int32Col(shape=(), dflt=0, pos=2),\n",
       "  \"int64\": Int64Col(shape=(), dflt=0, pos=3),\n",
       "  \"string\": StringCol(itemsize=10, shape=(), dflt=b'', pos=4)}\n",
       "  byteorder := 'little'\n",
       "  chunkshape := (3449,)\n",
       "  autoindex := True\n",
       "  colindexes := {\n",
       "    \"index\": Index(6, medium, shuffle, zlib(1)).is_csi=False,\n",
       "    \"int32\": Index(6, medium, shuffle, zlib(1)).is_csi=False,\n",
       "    \"int64\": Index(6, medium, shuffle, zlib(1)).is_csi=False,\n",
       "    \"string\": Index(6, medium, shuffle, zlib(1)).is_csi=False}"
      ]
     },
     "execution_count": 66,
     "metadata": {},
     "output_type": "execute_result"
    }
   ],
   "source": [
    "store.get_storer('store_key').table"
   ]
  },
  {
   "cell_type": "code",
   "execution_count": 67,
   "metadata": {},
   "outputs": [
    {
     "data": {
      "text/plain": [
       "{\n",
       "    \"index\": Index(6, medium, shuffle, zlib(1)).is_csi=False,\n",
       "    \"int32\": Index(6, medium, shuffle, zlib(1)).is_csi=False,\n",
       "    \"int64\": Index(6, medium, shuffle, zlib(1)).is_csi=False,\n",
       "    \"string\": Index(6, medium, shuffle, zlib(1)).is_csi=False}"
      ]
     },
     "execution_count": 67,
     "metadata": {},
     "output_type": "execute_result"
    }
   ],
   "source": [
    "store.get_storer('store_key').table.colindexes"
   ]
  },
  {
   "cell_type": "code",
   "execution_count": 68,
   "metadata": {},
   "outputs": [],
   "source": [
    "store.close()"
   ]
  },
  {
   "cell_type": "markdown",
   "metadata": {},
   "source": [
    "**Attention** aux types implicites des variables. Si, par exemple, une donnée manquante n'apparaît pas dans une colonne du 1er morceau mais dans le 2ème, cela peut engendrer un conflit de type. Expliciter systématiquement les types et noms des variables dans un dictionnaire en paramètre."
   ]
  },
  {
   "cell_type": "markdown",
   "metadata": {},
   "source": [
    "### 6.4 Echanges entre R et Python\n",
    "Les données ayant été préparées, nettoyées, le transfert de la table dans R permet de déployer toute la richesse des librairies développées dans cet environnement plus familier au statisticien. Il est possible d'appeler des commandes R à partir de Python avec la librairie  `rpy2` et  réciproquement d'appeler des commandes Python de R avec la librairie `rpython`. \n",
    "\n",
    "La librairie `rpy2` définit la commande `load_data` qui charge un `data.frame` de R dans un `DataFrame` tandis que celle `convert_to_r_dataframe` génère un objet R.\n",
    "\n",
    "Le plus efficace mais sans doute pas le plus simple, consisterait à lire directement, à partir de R, le fichier intermédiaire précédent au format binaire HDF5 en utilisant la librairie ` rhdf5` de Bioconductor. Cette démarche pose des problèmes pour la gestions des variables qualitatives et plus généralement celle de la classe `DataFrame`. Une alternative simple consiste à construire un fichier intermédiaire au format classique `.csv`. "
   ]
  },
  {
   "cell_type": "markdown",
   "metadata": {},
   "source": [
    "## 7 Accès aux données stockées en base (SGBD)\n",
    "\n",
    "A partir de Python, il est aussi possible de lire les données stockées dans des bases de données de type SQL (Oracle, SQL Server, PostgreSQL, ...) ou NoSQL (MongoDB, ...).\n",
    "\n",
    "### 7.1 Connection à la base \n",
    "\n",
    "Chaque base dispose, en général, d'une librairie permettant de les accès depuis Python. Pour l'exemple, nous pouvons nous connecter à base de données PostgreSQL.\n",
    "\n",
    "La librairie nécessaire est `Psycopg2` ; l'installation dans l'environnement se fait via la commande : \n",
    "- pip install psycopg2-binary\n",
    "\n",
    "Pour se connecter à la base, les paramètres à renseigner sont les suivants :\n",
    "- Serveur (host)\n",
    "- Port\n",
    "- Utilisateur (User)\n",
    "- Mot de Pase (Password)\n",
    "\n",
    "On peut tout rassembler dans un dictionnaire python."
   ]
  },
  {
   "cell_type": "code",
   "execution_count": 69,
   "metadata": {},
   "outputs": [
    {
     "name": "stdout",
     "output_type": "stream",
     "text": [
      "Collecting psycopg2-binary\n",
      "  Downloading psycopg2_binary-2.9.3-cp39-cp39-win_amd64.whl (1.2 MB)\n",
      "Installing collected packages: psycopg2-binary\n"
     ]
    },
    {
     "name": "stderr",
     "output_type": "stream",
     "text": [
      "ERROR: Could not install packages due to an OSError: [WinError 5] Accès refusé: 'C:\\\\ProgramData\\\\Anaconda3\\\\Lib\\\\site-packages\\\\psycopg2'\n",
      "Consider using the `--user` option or check the permissions.\n",
      "\n"
     ]
    }
   ],
   "source": [
    "!pip install psycopg2-binary"
   ]
  },
  {
   "cell_type": "code",
   "execution_count": 70,
   "metadata": {},
   "outputs": [],
   "source": [
    "pg_config = {\n",
    "    'host': 'datascience.ovh',\n",
    "    'port': '5432',\n",
    "    'database': 'datascience',\n",
    "    'username': 'polytech',\n",
    "    'password': 'read2022!'\n",
    "}"
   ]
  },
  {
   "cell_type": "markdown",
   "metadata": {},
   "source": [
    "Les opérations pour se connecter à la base se résument ainsi :\n",
    "- import de la librairie\n",
    "- connection à la base\n",
    "- enchainement des ordres SQL\n",
    "- déconnexion de la base"
   ]
  },
  {
   "cell_type": "code",
   "execution_count": 71,
   "metadata": {},
   "outputs": [
    {
     "ename": "ModuleNotFoundError",
     "evalue": "No module named 'psycopg2'",
     "output_type": "error",
     "traceback": [
      "\u001b[1;31m---------------------------------------------------------------------------\u001b[0m",
      "\u001b[1;31mModuleNotFoundError\u001b[0m                       Traceback (most recent call last)",
      "\u001b[1;32mc:\\Users\\belkh\\Documents\\Cours\\Analyse de données\\AnalyseDeDonnees\\02 - Pandas\\Cours2-PythonPandas.ipynb Cell 105'\u001b[0m in \u001b[0;36m<cell line: 1>\u001b[1;34m()\u001b[0m\n\u001b[1;32m----> <a href='vscode-notebook-cell:/c%3A/Users/belkh/Documents/Cours/Analyse%20de%20donn%C3%A9es/AnalyseDeDonnees/02%20-%20Pandas/Cours2-PythonPandas.ipynb#ch0000104?line=0'>1</a>\u001b[0m \u001b[39mimport\u001b[39;00m \u001b[39mpsycopg2\u001b[39;00m\n\u001b[0;32m      <a href='vscode-notebook-cell:/c%3A/Users/belkh/Documents/Cours/Analyse%20de%20donn%C3%A9es/AnalyseDeDonnees/02%20-%20Pandas/Cours2-PythonPandas.ipynb#ch0000104?line=2'>3</a>\u001b[0m \u001b[39m# Connection à la base\u001b[39;00m\n\u001b[0;32m      <a href='vscode-notebook-cell:/c%3A/Users/belkh/Documents/Cours/Analyse%20de%20donn%C3%A9es/AnalyseDeDonnees/02%20-%20Pandas/Cours2-PythonPandas.ipynb#ch0000104?line=3'>4</a>\u001b[0m conn \u001b[39m=\u001b[39m psycopg2\u001b[39m.\u001b[39mconnect(host\u001b[39m=\u001b[39mpg_config[\u001b[39m'\u001b[39m\u001b[39mhost\u001b[39m\u001b[39m'\u001b[39m], \n\u001b[0;32m      <a href='vscode-notebook-cell:/c%3A/Users/belkh/Documents/Cours/Analyse%20de%20donn%C3%A9es/AnalyseDeDonnees/02%20-%20Pandas/Cours2-PythonPandas.ipynb#ch0000104?line=4'>5</a>\u001b[0m                         port\u001b[39m=\u001b[39mpg_config[\u001b[39m'\u001b[39m\u001b[39mport\u001b[39m\u001b[39m'\u001b[39m], \n\u001b[0;32m      <a href='vscode-notebook-cell:/c%3A/Users/belkh/Documents/Cours/Analyse%20de%20donn%C3%A9es/AnalyseDeDonnees/02%20-%20Pandas/Cours2-PythonPandas.ipynb#ch0000104?line=5'>6</a>\u001b[0m                         database\u001b[39m=\u001b[39mpg_config[\u001b[39m'\u001b[39m\u001b[39mdatabase\u001b[39m\u001b[39m'\u001b[39m], \n\u001b[0;32m      <a href='vscode-notebook-cell:/c%3A/Users/belkh/Documents/Cours/Analyse%20de%20donn%C3%A9es/AnalyseDeDonnees/02%20-%20Pandas/Cours2-PythonPandas.ipynb#ch0000104?line=6'>7</a>\u001b[0m                         user\u001b[39m=\u001b[39mpg_config[\u001b[39m'\u001b[39m\u001b[39musername\u001b[39m\u001b[39m'\u001b[39m],\n\u001b[0;32m      <a href='vscode-notebook-cell:/c%3A/Users/belkh/Documents/Cours/Analyse%20de%20donn%C3%A9es/AnalyseDeDonnees/02%20-%20Pandas/Cours2-PythonPandas.ipynb#ch0000104?line=7'>8</a>\u001b[0m                         password\u001b[39m=\u001b[39mpg_config[\u001b[39m'\u001b[39m\u001b[39mpassword\u001b[39m\u001b[39m'\u001b[39m])\n",
      "\u001b[1;31mModuleNotFoundError\u001b[0m: No module named 'psycopg2'"
     ]
    }
   ],
   "source": [
    "import psycopg2\n",
    "\n",
    "# Connection à la base\n",
    "conn = psycopg2.connect(host=pg_config['host'], \n",
    "                        port=pg_config['port'], \n",
    "                        database=pg_config['database'], \n",
    "                        user=pg_config['username'],\n",
    "                        password=pg_config['password'])\n",
    "\n",
    "# Ouverture d'un curseur\n",
    "cur = conn.cursor()\n",
    "\n",
    "# Execution d'une commande SQL\n",
    "cur.execute(\"SELECT version();\")\n",
    "\n",
    "# Affichage du résultat\n",
    "cur.fetchone()"
   ]
  },
  {
   "cell_type": "code",
   "execution_count": null,
   "metadata": {},
   "outputs": [],
   "source": [
    "# Fermeture du curseur\n",
    "cur.close()\n",
    "\n",
    "# Fermeture de la connection\n",
    "conn.close()"
   ]
  },
  {
   "cell_type": "markdown",
   "metadata": {},
   "source": [
    "## 7.2 Utilisation de la librairie SQLAlchemy\n",
    "\n",
    "La solution précédente de connection à la base est très spécifique à la base de données PostgreSQL. \n",
    "\n",
    "Pour rendre la manipulation de données plus générique, il est possible de passer par une solution d'abstraction. Pour Python, la librairie SQLAlchemy est une des possibilités.\n",
    "\n",
    "Son installation se fait via la commande classique : \n",
    "- pip install sqlalchemy\n",
    "\n",
    "On construit la connection à la base en utilisant le dictionnaire précédent."
   ]
  },
  {
   "cell_type": "code",
   "execution_count": null,
   "metadata": {},
   "outputs": [],
   "source": [
    "pg_connection_string = \"postgresql://{0}:{1}@{2}:{3}/{4}\".format(\n",
    "# pg_connection_string = \"postgres+psycop2://{0}:{1}@{2}:{3}/{4}\".format(\n",
    "pg_config['username'],\n",
    "pg_config['password'],\n",
    "pg_config['host'],\n",
    "pg_config['port'],\n",
    "pg_config['database'])"
   ]
  },
  {
   "cell_type": "markdown",
   "metadata": {},
   "source": [
    "On importe la librairie, on se connecte et la requête suivante `SELECT version()` est envoyée."
   ]
  },
  {
   "cell_type": "code",
   "execution_count": null,
   "metadata": {},
   "outputs": [],
   "source": [
    "import sqlalchemy\n",
    "from sqlalchemy import create_engine\n",
    "from sqlalchemy import text\n",
    "\n",
    "sqlalchemy.__version__\n",
    "\n"
   ]
  },
  {
   "cell_type": "code",
   "execution_count": null,
   "metadata": {},
   "outputs": [],
   "source": [
    "requete = 'SELECT version()'\n",
    "\n",
    "engine = create_engine(pg_connection_string, echo=False)\n",
    "\n",
    "with engine.connect() as conn:\n",
    "   result = conn.execute(text(requete))\n",
    "   print(result.fetchall())"
   ]
  },
  {
   "cell_type": "markdown",
   "metadata": {},
   "source": [
    "Reste à établir le lien avec Pandas...\n",
    "\n",
    "Pour ce faire, écrivons une requête d'extraction des données."
   ]
  },
  {
   "cell_type": "code",
   "execution_count": null,
   "metadata": {},
   "outputs": [],
   "source": [
    "customer = 'SELECT \"C_CUSTKEY\", \"C_MKTSEGMENT\" FROM customer LIMIT 10'"
   ]
  },
  {
   "cell_type": "markdown",
   "metadata": {},
   "source": [
    "On envoie la requête au moteur de base de données."
   ]
  },
  {
   "cell_type": "code",
   "execution_count": null,
   "metadata": {},
   "outputs": [],
   "source": [
    "import pandas as pd\n",
    "import pandas.io.sql as sql\n",
    "\n",
    "engine = create_engine(pg_connection_string, echo=False)\n",
    "\n",
    "df_customer = pd.read_sql(customer, con=engine)"
   ]
  },
  {
   "cell_type": "code",
   "execution_count": null,
   "metadata": {},
   "outputs": [],
   "source": [
    "df_customer"
   ]
  },
  {
   "cell_type": "code",
   "execution_count": null,
   "metadata": {},
   "outputs": [],
   "source": [
    "df_customer.shape"
   ]
  },
  {
   "cell_type": "markdown",
   "metadata": {},
   "source": [
    "## Références\n",
    "\n",
    "**Mac Kinney W.** (2013). *Python for Data Analysis*, O’Reilly."
   ]
  },
  {
   "cell_type": "markdown",
   "metadata": {},
   "source": [
    "## Enseignant\n",
    "Patrice Mazel - patrice.mazel@protonmail.com - 3A MAM 2021/2022"
   ]
  }
 ],
 "metadata": {
  "hide_input": false,
  "interpreter": {
   "hash": "ad2bdc8ecc057115af97d19610ffacc2b4e99fae6737bb82f5d7fb13d2f2c186"
  },
  "kernelspec": {
   "display_name": "Python 3.9.12 ('base')",
   "language": "python",
   "name": "python3"
  },
  "language_info": {
   "codemirror_mode": {
    "name": "ipython",
    "version": 3
   },
   "file_extension": ".py",
   "mimetype": "text/x-python",
   "name": "python",
   "nbconvert_exporter": "python",
   "pygments_lexer": "ipython3",
<<<<<<< HEAD
   "version": "3.9.12"
=======
<<<<<<< HEAD
   "version": "3.9.10"
=======
   "version": "3.9.7"
>>>>>>> hedi
>>>>>>> ca9dd9db13781c079d324aca83d48b98abec1309
  },
  "toc": {
   "nav_menu": {
    "height": "512px",
    "width": "252px"
   },
   "number_sections": true,
   "sideBar": true,
   "skip_h1_title": false,
   "toc_cell": false,
   "toc_position": {},
   "toc_section_display": "block",
   "toc_window_display": false
  }
 },
 "nbformat": 4,
 "nbformat_minor": 4
}
