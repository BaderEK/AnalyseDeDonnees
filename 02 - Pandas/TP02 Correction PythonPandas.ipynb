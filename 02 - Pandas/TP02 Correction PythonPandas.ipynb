{
 "cells": [
  {
   "cell_type": "markdown",
   "metadata": {},
   "source": [
    "<center><img src=\"https://polytech.univ-lyon1.fr/uas/polytech/LOGO/UDL_logo_blanc-01%20(2).png\" alt=\"drawing\" style=\"width:100px;\"/></center>\n",
    "\n",
    "# Introduction à Python pour la Data Science\n",
    "\n",
    "## Exercices de Data Manipulation"
   ]
  },
  {
   "cell_type": "markdown",
   "metadata": {},
   "source": [
    "Importer la librairie Pandas(import)."
   ]
  },
  {
   "cell_type": "code",
   "execution_count": 1,
   "metadata": {},
   "outputs": [],
   "source": [
    "import pandas as pd"
   ]
  },
  {
   "cell_type": "markdown",
   "metadata": {},
   "source": [
    "## Exercice 1"
   ]
  },
  {
   "cell_type": "markdown",
   "metadata": {},
   "source": [
    "### Question 1\n",
    "Importer le fichier«Produits.xlsx» dans un Data.frame (read_excel) (voir http://pandas.pydata.org/pandas-docs/stable/generated/pandas.read_excel.html ). \n"
   ]
  },
  {
   "cell_type": "code",
   "execution_count": 2,
   "metadata": {},
   "outputs": [
    {
     "data": {
      "text/html": [
       "<div>\n",
       "<style scoped>\n",
       "    .dataframe tbody tr th:only-of-type {\n",
       "        vertical-align: middle;\n",
       "    }\n",
       "\n",
       "    .dataframe tbody tr th {\n",
       "        vertical-align: top;\n",
       "    }\n",
       "\n",
       "    .dataframe thead th {\n",
       "        text-align: right;\n",
       "    }\n",
       "</style>\n",
       "<table border=\"1\" class=\"dataframe\">\n",
       "  <thead>\n",
       "    <tr style=\"text-align: right;\">\n",
       "      <th></th>\n",
       "      <th>Nom</th>\n",
       "      <th>Categorie</th>\n",
       "      <th>Origine</th>\n",
       "      <th>Ville</th>\n",
       "      <th>Prix</th>\n",
       "      <th>Stock</th>\n",
       "      <th>Valeur</th>\n",
       "    </tr>\n",
       "  </thead>\n",
       "  <tbody>\n",
       "    <tr>\n",
       "      <th>26</th>\n",
       "      <td>Ikura</td>\n",
       "      <td>Poissons et fruits de mer</td>\n",
       "      <td>Exterieur</td>\n",
       "      <td>Paris</td>\n",
       "      <td>155.0</td>\n",
       "      <td>0</td>\n",
       "      <td>0.0</td>\n",
       "    </tr>\n",
       "    <tr>\n",
       "      <th>57</th>\n",
       "      <td>Sasquatch Ale</td>\n",
       "      <td>Boissons</td>\n",
       "      <td>CEE</td>\n",
       "      <td>Lyon</td>\n",
       "      <td>70.0</td>\n",
       "      <td>15</td>\n",
       "      <td>1050.0</td>\n",
       "    </tr>\n",
       "    <tr>\n",
       "      <th>28</th>\n",
       "      <td>Ipoh Coffee</td>\n",
       "      <td>Boissons</td>\n",
       "      <td>Exterieur</td>\n",
       "      <td>Paris</td>\n",
       "      <td>230.0</td>\n",
       "      <td>25</td>\n",
       "      <td>5750.0</td>\n",
       "    </tr>\n",
       "    <tr>\n",
       "      <th>67</th>\n",
       "      <td>Teatime Chocolate Biscuits</td>\n",
       "      <td>Desserts</td>\n",
       "      <td>Exterieur</td>\n",
       "      <td>Lyon</td>\n",
       "      <td>46.0</td>\n",
       "      <td>5</td>\n",
       "      <td>230.0</td>\n",
       "    </tr>\n",
       "    <tr>\n",
       "      <th>66</th>\n",
       "      <td>Tarte au sucre</td>\n",
       "      <td>Desserts</td>\n",
       "      <td>Exterieur</td>\n",
       "      <td>Paris</td>\n",
       "      <td>246.5</td>\n",
       "      <td>0</td>\n",
       "      <td>0.0</td>\n",
       "    </tr>\n",
       "  </tbody>\n",
       "</table>\n",
       "</div>"
      ],
      "text/plain": [
       "                           Nom                  Categorie    Origine  Ville  \\\n",
       "26                       Ikura  Poissons et fruits de mer  Exterieur  Paris   \n",
       "57               Sasquatch Ale                   Boissons        CEE   Lyon   \n",
       "28                 Ipoh Coffee                   Boissons  Exterieur  Paris   \n",
       "67  Teatime Chocolate Biscuits                   Desserts  Exterieur   Lyon   \n",
       "66              Tarte au sucre                   Desserts  Exterieur  Paris   \n",
       "\n",
       "     Prix  Stock  Valeur  \n",
       "26  155.0      0     0.0  \n",
       "57   70.0     15  1050.0  \n",
       "28  230.0     25  5750.0  \n",
       "67   46.0      5   230.0  \n",
       "66  246.5      0     0.0  "
      ]
     },
     "execution_count": 2,
     "metadata": {},
     "output_type": "execute_result"
    }
   ],
   "source": [
    "data = pd.read_excel('../Data/Produits.xlsx')\n",
    "data.sample(5)"
   ]
  },
  {
   "cell_type": "markdown",
   "metadata": {},
   "source": [
    "### Question 2\n",
    "\n",
    "Afficher les informations concernant l’ensemble de données importé (info). \n",
    "\n",
    "Combien y a-t-il d’observations et de variables dans le fichier ?"
   ]
  },
  {
   "cell_type": "code",
   "execution_count": 3,
   "metadata": {},
   "outputs": [
    {
     "name": "stdout",
     "output_type": "stream",
     "text": [
      "<class 'pandas.core.frame.DataFrame'>\n",
      "RangeIndex: 77 entries, 0 to 76\n",
      "Data columns (total 7 columns):\n",
      " #   Column     Non-Null Count  Dtype  \n",
      "---  ------     --------------  -----  \n",
      " 0   Nom        77 non-null     object \n",
      " 1   Categorie  77 non-null     object \n",
      " 2   Origine    77 non-null     object \n",
      " 3   Ville      77 non-null     object \n",
      " 4   Prix       77 non-null     float64\n",
      " 5   Stock      77 non-null     int64  \n",
      " 6   Valeur     77 non-null     float64\n",
      "dtypes: float64(2), int64(1), object(4)\n",
      "memory usage: 4.3+ KB\n"
     ]
    }
   ],
   "source": [
    "data.info()"
   ]
  },
  {
   "cell_type": "markdown",
   "metadata": {},
   "source": [
    "Il y a 77 observations et 7 variables dans le fichier."
   ]
  },
  {
   "cell_type": "markdown",
   "metadata": {},
   "source": [
    "### Question 3\n",
    "\n",
    "Afficher les 10 premières lignes des données (head)."
   ]
  },
  {
   "cell_type": "code",
   "execution_count": 4,
   "metadata": {},
   "outputs": [
    {
     "data": {
      "text/html": [
       "<div>\n",
       "<style scoped>\n",
       "    .dataframe tbody tr th:only-of-type {\n",
       "        vertical-align: middle;\n",
       "    }\n",
       "\n",
       "    .dataframe tbody tr th {\n",
       "        vertical-align: top;\n",
       "    }\n",
       "\n",
       "    .dataframe thead th {\n",
       "        text-align: right;\n",
       "    }\n",
       "</style>\n",
       "<table border=\"1\" class=\"dataframe\">\n",
       "  <thead>\n",
       "    <tr style=\"text-align: right;\">\n",
       "      <th></th>\n",
       "      <th>Nom</th>\n",
       "      <th>Categorie</th>\n",
       "      <th>Origine</th>\n",
       "      <th>Ville</th>\n",
       "      <th>Prix</th>\n",
       "      <th>Stock</th>\n",
       "      <th>Valeur</th>\n",
       "    </tr>\n",
       "  </thead>\n",
       "  <tbody>\n",
       "    <tr>\n",
       "      <th>0</th>\n",
       "      <td>Alice Mutton</td>\n",
       "      <td>Viandes</td>\n",
       "      <td>CEE</td>\n",
       "      <td>Lyon</td>\n",
       "      <td>195.00</td>\n",
       "      <td>0</td>\n",
       "      <td>0.0</td>\n",
       "    </tr>\n",
       "    <tr>\n",
       "      <th>1</th>\n",
       "      <td>Aniseed Syrup</td>\n",
       "      <td>Condiments</td>\n",
       "      <td>Exterieur</td>\n",
       "      <td>Paris</td>\n",
       "      <td>50.00</td>\n",
       "      <td>25</td>\n",
       "      <td>1250.0</td>\n",
       "    </tr>\n",
       "    <tr>\n",
       "      <th>2</th>\n",
       "      <td>Boston Crab Meat</td>\n",
       "      <td>Poissons et fruits de mer</td>\n",
       "      <td>Exterieur</td>\n",
       "      <td>Paris</td>\n",
       "      <td>92.00</td>\n",
       "      <td>30</td>\n",
       "      <td>2760.0</td>\n",
       "    </tr>\n",
       "    <tr>\n",
       "      <th>3</th>\n",
       "      <td>Camembert Pierrot</td>\n",
       "      <td>Produits laitiers</td>\n",
       "      <td>Exterieur</td>\n",
       "      <td>Paris</td>\n",
       "      <td>170.00</td>\n",
       "      <td>0</td>\n",
       "      <td>0.0</td>\n",
       "    </tr>\n",
       "    <tr>\n",
       "      <th>4</th>\n",
       "      <td>Carnarvon Tigers</td>\n",
       "      <td>Poissons et fruits de mer</td>\n",
       "      <td>Exterieur</td>\n",
       "      <td>Lyon</td>\n",
       "      <td>312.50</td>\n",
       "      <td>0</td>\n",
       "      <td>0.0</td>\n",
       "    </tr>\n",
       "    <tr>\n",
       "      <th>5</th>\n",
       "      <td>Chai</td>\n",
       "      <td>Boissons</td>\n",
       "      <td>CEE</td>\n",
       "      <td>Lyon</td>\n",
       "      <td>90.00</td>\n",
       "      <td>10</td>\n",
       "      <td>900.0</td>\n",
       "    </tr>\n",
       "    <tr>\n",
       "      <th>6</th>\n",
       "      <td>Chang</td>\n",
       "      <td>Boissons</td>\n",
       "      <td>Exterieur</td>\n",
       "      <td>Lyon</td>\n",
       "      <td>95.00</td>\n",
       "      <td>25</td>\n",
       "      <td>2375.0</td>\n",
       "    </tr>\n",
       "    <tr>\n",
       "      <th>7</th>\n",
       "      <td>Chartreuse verte</td>\n",
       "      <td>Boissons</td>\n",
       "      <td>Exterieur</td>\n",
       "      <td>Lyon</td>\n",
       "      <td>90.00</td>\n",
       "      <td>5</td>\n",
       "      <td>450.0</td>\n",
       "    </tr>\n",
       "    <tr>\n",
       "      <th>8</th>\n",
       "      <td>Chef Antons Cajun Seasoning</td>\n",
       "      <td>Condiments</td>\n",
       "      <td>CEE</td>\n",
       "      <td>Lyon</td>\n",
       "      <td>110.00</td>\n",
       "      <td>0</td>\n",
       "      <td>0.0</td>\n",
       "    </tr>\n",
       "    <tr>\n",
       "      <th>9</th>\n",
       "      <td>Chef Antons Gumbo Mix</td>\n",
       "      <td>Condiments</td>\n",
       "      <td>CEE</td>\n",
       "      <td>Paris</td>\n",
       "      <td>106.75</td>\n",
       "      <td>0</td>\n",
       "      <td>0.0</td>\n",
       "    </tr>\n",
       "  </tbody>\n",
       "</table>\n",
       "</div>"
      ],
      "text/plain": [
       "                           Nom                  Categorie    Origine  Ville  \\\n",
       "0                 Alice Mutton                    Viandes        CEE   Lyon   \n",
       "1                Aniseed Syrup                 Condiments  Exterieur  Paris   \n",
       "2             Boston Crab Meat  Poissons et fruits de mer  Exterieur  Paris   \n",
       "3            Camembert Pierrot          Produits laitiers  Exterieur  Paris   \n",
       "4             Carnarvon Tigers  Poissons et fruits de mer  Exterieur   Lyon   \n",
       "5                         Chai                   Boissons        CEE   Lyon   \n",
       "6                        Chang                   Boissons  Exterieur   Lyon   \n",
       "7             Chartreuse verte                   Boissons  Exterieur   Lyon   \n",
       "8  Chef Antons Cajun Seasoning                 Condiments        CEE   Lyon   \n",
       "9        Chef Antons Gumbo Mix                 Condiments        CEE  Paris   \n",
       "\n",
       "     Prix  Stock  Valeur  \n",
       "0  195.00      0     0.0  \n",
       "1   50.00     25  1250.0  \n",
       "2   92.00     30  2760.0  \n",
       "3  170.00      0     0.0  \n",
       "4  312.50      0     0.0  \n",
       "5   90.00     10   900.0  \n",
       "6   95.00     25  2375.0  \n",
       "7   90.00      5   450.0  \n",
       "8  110.00      0     0.0  \n",
       "9  106.75      0     0.0  "
      ]
     },
     "execution_count": 4,
     "metadata": {},
     "output_type": "execute_result"
    }
   ],
   "source": [
    "data.head(10)"
   ]
  },
  {
   "cell_type": "markdown",
   "metadata": {},
   "source": [
    "### Question 4\n",
    "\n",
    "Extraire le Nom, Catégorie, Origine et Prix des produits, pour :\n",
    "- Catégorie= boissons\n",
    "- Catégorie= boissons et prix >100\n",
    "- Catégorie= boissons et origine=CEE et prix > 100\n",
    "- Catégorie= boissons ou catégorie = condiments\n",
    "- Catégorie= boissons et origine = CEE OU catégorie = condiment\n",
    "- Catégorie= viande ET origine = CEE OU catégorie = condiment ET origine = extérieur\n",
    "- prix > 70 et prix <=100\n",
    "- Lister les aliments dont le prix est compris entre 100 et 200, et qui sont des «viandes»\n",
    "- Lister les 15 produits les moins chers\n",
    "- Calculer la moyenne de prix des boissons distribuées à Lyon(pivot_table)\n",
    "- Quels sont les 5 produits les moins chers vendus à Lyon?"
   ]
  },
  {
   "cell_type": "code",
   "execution_count": 5,
   "metadata": {},
   "outputs": [
    {
     "data": {
      "text/html": [
       "<div>\n",
       "<style scoped>\n",
       "    .dataframe tbody tr th:only-of-type {\n",
       "        vertical-align: middle;\n",
       "    }\n",
       "\n",
       "    .dataframe tbody tr th {\n",
       "        vertical-align: top;\n",
       "    }\n",
       "\n",
       "    .dataframe thead th {\n",
       "        text-align: right;\n",
       "    }\n",
       "</style>\n",
       "<table border=\"1\" class=\"dataframe\">\n",
       "  <thead>\n",
       "    <tr style=\"text-align: right;\">\n",
       "      <th></th>\n",
       "      <th>Nom</th>\n",
       "      <th>Categorie</th>\n",
       "      <th>Origine</th>\n",
       "      <th>Prix</th>\n",
       "    </tr>\n",
       "  </thead>\n",
       "  <tbody>\n",
       "    <tr>\n",
       "      <th>5</th>\n",
       "      <td>Chai</td>\n",
       "      <td>Boissons</td>\n",
       "      <td>CEE</td>\n",
       "      <td>90.00</td>\n",
       "    </tr>\n",
       "    <tr>\n",
       "      <th>6</th>\n",
       "      <td>Chang</td>\n",
       "      <td>Boissons</td>\n",
       "      <td>Exterieur</td>\n",
       "      <td>95.00</td>\n",
       "    </tr>\n",
       "    <tr>\n",
       "      <th>7</th>\n",
       "      <td>Chartreuse verte</td>\n",
       "      <td>Boissons</td>\n",
       "      <td>Exterieur</td>\n",
       "      <td>90.00</td>\n",
       "    </tr>\n",
       "    <tr>\n",
       "      <th>11</th>\n",
       "      <td>Côte de Blaye</td>\n",
       "      <td>Boissons</td>\n",
       "      <td>CEE</td>\n",
       "      <td>1317.50</td>\n",
       "    </tr>\n",
       "    <tr>\n",
       "      <th>21</th>\n",
       "      <td>Guarana Fantastica</td>\n",
       "      <td>Boissons</td>\n",
       "      <td>Exterieur</td>\n",
       "      <td>22.50</td>\n",
       "    </tr>\n",
       "    <tr>\n",
       "      <th>28</th>\n",
       "      <td>Ipoh Coffee</td>\n",
       "      <td>Boissons</td>\n",
       "      <td>Exterieur</td>\n",
       "      <td>230.00</td>\n",
       "    </tr>\n",
       "    <tr>\n",
       "      <th>31</th>\n",
       "      <td>Lakkalikoori</td>\n",
       "      <td>Boissons</td>\n",
       "      <td>CEE</td>\n",
       "      <td>90.00</td>\n",
       "    </tr>\n",
       "    <tr>\n",
       "      <th>32</th>\n",
       "      <td>Laughing Lumberjack Lager</td>\n",
       "      <td>Boissons</td>\n",
       "      <td>CEE</td>\n",
       "      <td>70.00</td>\n",
       "    </tr>\n",
       "    <tr>\n",
       "      <th>45</th>\n",
       "      <td>Outback Lager</td>\n",
       "      <td>Boissons</td>\n",
       "      <td>Exterieur</td>\n",
       "      <td>75.00</td>\n",
       "    </tr>\n",
       "    <tr>\n",
       "      <th>53</th>\n",
       "      <td>Rhonbrau Klosterbier</td>\n",
       "      <td>Boissons</td>\n",
       "      <td>CEE</td>\n",
       "      <td>38.75</td>\n",
       "    </tr>\n",
       "    <tr>\n",
       "      <th>57</th>\n",
       "      <td>Sasquatch Ale</td>\n",
       "      <td>Boissons</td>\n",
       "      <td>CEE</td>\n",
       "      <td>70.00</td>\n",
       "    </tr>\n",
       "    <tr>\n",
       "      <th>65</th>\n",
       "      <td>Steeleye Stout</td>\n",
       "      <td>Boissons</td>\n",
       "      <td>Exterieur</td>\n",
       "      <td>90.00</td>\n",
       "    </tr>\n",
       "  </tbody>\n",
       "</table>\n",
       "</div>"
      ],
      "text/plain": [
       "                          Nom Categorie    Origine     Prix\n",
       "5                        Chai  Boissons        CEE    90.00\n",
       "6                       Chang  Boissons  Exterieur    95.00\n",
       "7            Chartreuse verte  Boissons  Exterieur    90.00\n",
       "11              Côte de Blaye  Boissons        CEE  1317.50\n",
       "21         Guarana Fantastica  Boissons  Exterieur    22.50\n",
       "28                Ipoh Coffee  Boissons  Exterieur   230.00\n",
       "31               Lakkalikoori  Boissons        CEE    90.00\n",
       "32  Laughing Lumberjack Lager  Boissons        CEE    70.00\n",
       "45              Outback Lager  Boissons  Exterieur    75.00\n",
       "53       Rhonbrau Klosterbier  Boissons        CEE    38.75\n",
       "57              Sasquatch Ale  Boissons        CEE    70.00\n",
       "65             Steeleye Stout  Boissons  Exterieur    90.00"
      ]
     },
     "execution_count": 5,
     "metadata": {},
     "output_type": "execute_result"
    }
   ],
   "source": [
    "# Catégorie= boissons\n",
    "data[data[\"Categorie\"]==\"Boissons\"][[\"Nom\",\"Categorie\",\"Origine\",\"Prix\"]]"
   ]
  },
  {
   "cell_type": "code",
   "execution_count": 6,
   "metadata": {},
   "outputs": [
    {
     "data": {
      "text/html": [
       "<div>\n",
       "<style scoped>\n",
       "    .dataframe tbody tr th:only-of-type {\n",
       "        vertical-align: middle;\n",
       "    }\n",
       "\n",
       "    .dataframe tbody tr th {\n",
       "        vertical-align: top;\n",
       "    }\n",
       "\n",
       "    .dataframe thead th {\n",
       "        text-align: right;\n",
       "    }\n",
       "</style>\n",
       "<table border=\"1\" class=\"dataframe\">\n",
       "  <thead>\n",
       "    <tr style=\"text-align: right;\">\n",
       "      <th></th>\n",
       "      <th>Nom</th>\n",
       "      <th>Categorie</th>\n",
       "      <th>Origine</th>\n",
       "      <th>Prix</th>\n",
       "    </tr>\n",
       "  </thead>\n",
       "  <tbody>\n",
       "    <tr>\n",
       "      <th>11</th>\n",
       "      <td>Côte de Blaye</td>\n",
       "      <td>Boissons</td>\n",
       "      <td>CEE</td>\n",
       "      <td>1317.5</td>\n",
       "    </tr>\n",
       "    <tr>\n",
       "      <th>28</th>\n",
       "      <td>Ipoh Coffee</td>\n",
       "      <td>Boissons</td>\n",
       "      <td>Exterieur</td>\n",
       "      <td>230.0</td>\n",
       "    </tr>\n",
       "  </tbody>\n",
       "</table>\n",
       "</div>"
      ],
      "text/plain": [
       "              Nom Categorie    Origine    Prix\n",
       "11  Côte de Blaye  Boissons        CEE  1317.5\n",
       "28    Ipoh Coffee  Boissons  Exterieur   230.0"
      ]
     },
     "execution_count": 6,
     "metadata": {},
     "output_type": "execute_result"
    }
   ],
   "source": [
    "# Catégorie= boissons et prix >100\n",
    "data[(data[\"Categorie\"]==\"Boissons\")&(data[\"Prix\"]>100)][[\"Nom\",\"Categorie\",\"Origine\",\"Prix\"]]"
   ]
  },
  {
   "cell_type": "code",
   "execution_count": 7,
   "metadata": {},
   "outputs": [
    {
     "name": "stderr",
     "output_type": "stream",
     "text": [
      "C:\\Users\\pmaze\\AppData\\Local\\Temp/ipykernel_25716/3277458682.py:2: UserWarning: Boolean Series key will be reindexed to match DataFrame index.\n",
      "  data[data[\"Categorie\"]==\"Boissons\"][data[\"Prix\"]>100][data[\"Origine\"]==\"CEE\"][[\"Nom\",\"Categorie\",\"Origine\",\"Prix\"]]\n",
      "C:\\Users\\pmaze\\AppData\\Local\\Temp/ipykernel_25716/3277458682.py:10: UserWarning: Boolean Series key will be reindexed to match DataFrame index.\n",
      "  data[data[\"Prix\"]>70][data[\"Prix\"]<=100][[\"Nom\",\"Categorie\",\"Origine\",\"Prix\"]]\n"
     ]
    },
    {
     "data": {
      "text/html": [
       "<div>\n",
       "<style scoped>\n",
       "    .dataframe tbody tr th:only-of-type {\n",
       "        vertical-align: middle;\n",
       "    }\n",
       "\n",
       "    .dataframe tbody tr th {\n",
       "        vertical-align: top;\n",
       "    }\n",
       "\n",
       "    .dataframe thead th {\n",
       "        text-align: right;\n",
       "    }\n",
       "</style>\n",
       "<table border=\"1\" class=\"dataframe\">\n",
       "  <thead>\n",
       "    <tr style=\"text-align: right;\">\n",
       "      <th></th>\n",
       "      <th>Nom</th>\n",
       "      <th>Categorie</th>\n",
       "      <th>Origine</th>\n",
       "      <th>Prix</th>\n",
       "    </tr>\n",
       "  </thead>\n",
       "  <tbody>\n",
       "    <tr>\n",
       "      <th>2</th>\n",
       "      <td>Boston Crab Meat</td>\n",
       "      <td>Poissons et fruits de mer</td>\n",
       "      <td>Exterieur</td>\n",
       "      <td>92.00</td>\n",
       "    </tr>\n",
       "    <tr>\n",
       "      <th>5</th>\n",
       "      <td>Chai</td>\n",
       "      <td>Boissons</td>\n",
       "      <td>CEE</td>\n",
       "      <td>90.00</td>\n",
       "    </tr>\n",
       "    <tr>\n",
       "      <th>6</th>\n",
       "      <td>Chang</td>\n",
       "      <td>Boissons</td>\n",
       "      <td>Exterieur</td>\n",
       "      <td>95.00</td>\n",
       "    </tr>\n",
       "    <tr>\n",
       "      <th>7</th>\n",
       "      <td>Chartreuse verte</td>\n",
       "      <td>Boissons</td>\n",
       "      <td>Exterieur</td>\n",
       "      <td>90.00</td>\n",
       "    </tr>\n",
       "    <tr>\n",
       "      <th>16</th>\n",
       "      <td>Genen Shouyu</td>\n",
       "      <td>Condiments</td>\n",
       "      <td>CEE</td>\n",
       "      <td>77.50</td>\n",
       "    </tr>\n",
       "    <tr>\n",
       "      <th>23</th>\n",
       "      <td>Gula Malacca</td>\n",
       "      <td>Condiments</td>\n",
       "      <td>CEE</td>\n",
       "      <td>97.25</td>\n",
       "    </tr>\n",
       "    <tr>\n",
       "      <th>27</th>\n",
       "      <td>Inlagd Sill</td>\n",
       "      <td>Poissons et fruits de mer</td>\n",
       "      <td>Exterieur</td>\n",
       "      <td>95.00</td>\n",
       "    </tr>\n",
       "    <tr>\n",
       "      <th>31</th>\n",
       "      <td>Lakkalikoori</td>\n",
       "      <td>Boissons</td>\n",
       "      <td>CEE</td>\n",
       "      <td>90.00</td>\n",
       "    </tr>\n",
       "    <tr>\n",
       "      <th>35</th>\n",
       "      <td>Louisiana Hot Spiced Okra</td>\n",
       "      <td>Condiments</td>\n",
       "      <td>CEE</td>\n",
       "      <td>85.00</td>\n",
       "    </tr>\n",
       "    <tr>\n",
       "      <th>38</th>\n",
       "      <td>Maxilaku</td>\n",
       "      <td>Desserts</td>\n",
       "      <td>CEE</td>\n",
       "      <td>100.00</td>\n",
       "    </tr>\n",
       "    <tr>\n",
       "      <th>45</th>\n",
       "      <td>Outback Lager</td>\n",
       "      <td>Boissons</td>\n",
       "      <td>Exterieur</td>\n",
       "      <td>75.00</td>\n",
       "    </tr>\n",
       "    <tr>\n",
       "      <th>47</th>\n",
       "      <td>Pavlova</td>\n",
       "      <td>Desserts</td>\n",
       "      <td>CEE</td>\n",
       "      <td>87.25</td>\n",
       "    </tr>\n",
       "    <tr>\n",
       "      <th>52</th>\n",
       "      <td>Ravioli Angelo</td>\n",
       "      <td>Pates et cereales</td>\n",
       "      <td>Exterieur</td>\n",
       "      <td>97.50</td>\n",
       "    </tr>\n",
       "    <tr>\n",
       "      <th>54</th>\n",
       "      <td>Rod Kaviar</td>\n",
       "      <td>Poissons et fruits de mer</td>\n",
       "      <td>CEE</td>\n",
       "      <td>75.00</td>\n",
       "    </tr>\n",
       "    <tr>\n",
       "      <th>65</th>\n",
       "      <td>Steeleye Stout</td>\n",
       "      <td>Boissons</td>\n",
       "      <td>Exterieur</td>\n",
       "      <td>90.00</td>\n",
       "    </tr>\n",
       "    <tr>\n",
       "      <th>73</th>\n",
       "      <td>Valkoinen suklaa</td>\n",
       "      <td>Desserts</td>\n",
       "      <td>CEE</td>\n",
       "      <td>81.25</td>\n",
       "    </tr>\n",
       "  </tbody>\n",
       "</table>\n",
       "</div>"
      ],
      "text/plain": [
       "                          Nom                  Categorie    Origine    Prix\n",
       "2            Boston Crab Meat  Poissons et fruits de mer  Exterieur   92.00\n",
       "5                        Chai                   Boissons        CEE   90.00\n",
       "6                       Chang                   Boissons  Exterieur   95.00\n",
       "7            Chartreuse verte                   Boissons  Exterieur   90.00\n",
       "16               Genen Shouyu                 Condiments        CEE   77.50\n",
       "23               Gula Malacca                 Condiments        CEE   97.25\n",
       "27                Inlagd Sill  Poissons et fruits de mer  Exterieur   95.00\n",
       "31               Lakkalikoori                   Boissons        CEE   90.00\n",
       "35  Louisiana Hot Spiced Okra                 Condiments        CEE   85.00\n",
       "38                   Maxilaku                   Desserts        CEE  100.00\n",
       "45              Outback Lager                   Boissons  Exterieur   75.00\n",
       "47                    Pavlova                   Desserts        CEE   87.25\n",
       "52             Ravioli Angelo          Pates et cereales  Exterieur   97.50\n",
       "54                 Rod Kaviar  Poissons et fruits de mer        CEE   75.00\n",
       "65             Steeleye Stout                   Boissons  Exterieur   90.00\n",
       "73           Valkoinen suklaa                   Desserts        CEE   81.25"
      ]
     },
     "execution_count": 7,
     "metadata": {},
     "output_type": "execute_result"
    }
   ],
   "source": [
    "# Catégorie= boissons et origine=CEE et prix > 100\n",
    "data[data[\"Categorie\"]==\"Boissons\"][data[\"Prix\"]>100][data[\"Origine\"]==\"CEE\"][[\"Nom\",\"Categorie\",\"Origine\",\"Prix\"]]\n",
    "# Catégorie= boissons ou catégorie = condiments\n",
    "data[(data[\"Categorie\"]==\"Boissons\") | (data[\"Categorie\"]==\"Condiments\")][[\"Nom\",\"Categorie\",\"Origine\",\"Prix\"]]\n",
    "# Catégorie= boissons et origine = CEE OU catégorie = condiment\n",
    "data[(data[\"Categorie\"]==\"Boissons\")&(data[\"Origine\"]==\"CEE\")|(data[\"Categorie\"]==\"Condiments\")][[\"Nom\",\"Categorie\",\"Origine\",\"Prix\"]]\n",
    "# Catégorie= viande ET origine = CEE OU catégorie = condiment ET origine = extérieur\n",
    "data[(data[\"Categorie\"]==\"Viandes\")&(data[\"Origine\"]==\"CEE\") | (data[\"Categorie\"]==\"Condiments\")&(data[\"Origine\"]==\"Exterieur\")][[\"Nom\",\"Categorie\",\"Origine\",\"Prix\"]]\n",
    "# prix > 70 et prix <=100\n",
    "data[data[\"Prix\"]>70][data[\"Prix\"]<=100][[\"Nom\",\"Categorie\",\"Origine\",\"Prix\"]]"
   ]
  },
  {
   "cell_type": "code",
   "execution_count": 8,
   "metadata": {},
   "outputs": [
    {
     "data": {
      "text/plain": [
       "15                           Geitost\n",
       "21                Guarana Fantastica\n",
       "30                             Konbu\n",
       "13                          Filo Mix\n",
       "70                         Tourtiere\n",
       "53              Rhonbrau Klosterbier\n",
       "71                          Tunnbrod\n",
       "67        Teatime Chocolate Biscuits\n",
       "55                       Røgede sild\n",
       "76                     Zaanse koeken\n",
       "29    Jacks New England Clam Chowder\n",
       "33                     Longlife Tofu\n",
       "1                      Aniseed Syrup\n",
       "62                Sir Rodneys Scones\n",
       "64                         Spegesild\n",
       "Name: Nom, dtype: object"
      ]
     },
     "execution_count": 8,
     "metadata": {},
     "output_type": "execute_result"
    }
   ],
   "source": [
    "# Lister les aliments dont le prix est compris entre 100 et 200, et qui sont des «viandes»\n",
    "data[\"Nom\"][data[\"Categorie\"]==\"Viandes\"][data[\"Prix\"]>=100][data[\"Prix\"]<=200]\n",
    "# Lister les 15 produits les moins chers\n",
    "data.sort_values(\"Prix\").head(15)[\"Nom\"]"
   ]
  },
  {
   "cell_type": "code",
   "execution_count": 9,
   "metadata": {},
   "outputs": [
    {
     "data": {
      "text/html": [
       "<div>\n",
       "<style scoped>\n",
       "    .dataframe tbody tr th:only-of-type {\n",
       "        vertical-align: middle;\n",
       "    }\n",
       "\n",
       "    .dataframe tbody tr th {\n",
       "        vertical-align: top;\n",
       "    }\n",
       "\n",
       "    .dataframe thead th {\n",
       "        text-align: right;\n",
       "    }\n",
       "</style>\n",
       "<table border=\"1\" class=\"dataframe\">\n",
       "  <thead>\n",
       "    <tr style=\"text-align: right;\">\n",
       "      <th></th>\n",
       "      <th></th>\n",
       "      <th>Prix</th>\n",
       "    </tr>\n",
       "    <tr>\n",
       "      <th>Categorie</th>\n",
       "      <th>Ville</th>\n",
       "      <th></th>\n",
       "    </tr>\n",
       "  </thead>\n",
       "  <tbody>\n",
       "    <tr>\n",
       "      <th>Boissons</th>\n",
       "      <th>Lyon</th>\n",
       "      <td>76.944444</td>\n",
       "    </tr>\n",
       "  </tbody>\n",
       "</table>\n",
       "</div>"
      ],
      "text/plain": [
       "                      Prix\n",
       "Categorie Ville           \n",
       "Boissons  Lyon   76.944444"
      ]
     },
     "execution_count": 9,
     "metadata": {},
     "output_type": "execute_result"
    }
   ],
   "source": [
    "# Calculer la moyenne de prix des boissons distribuées à Lyon(pivot_table)\n",
    "import numpy as np\n",
    "\n",
    "pd.pivot_table(data[(data[\"Categorie\"]==\"Boissons\")& (data[\"Ville\"]==\"Lyon\")], index=[\"Categorie\", \"Ville\"], values=[\"Prix\"], aggfunc=np.mean)"
   ]
  },
  {
   "cell_type": "code",
   "execution_count": 8,
   "metadata": {},
   "outputs": [
    {
     "data": {
      "text/plain": [
       "15                       Geitost\n",
       "21            Guarana Fantastica\n",
       "30                         Konbu\n",
       "67    Teatime Chocolate Biscuits\n",
       "76                 Zaanse koeken\n",
       "Name: Nom, dtype: object"
      ]
     },
     "execution_count": 8,
     "metadata": {},
     "output_type": "execute_result"
    }
   ],
   "source": [
    "# Quels sont les 5 produits les moins chers vendus à Lyon?\n",
    "data[data[\"Ville\"]==\"Lyon\"].sort_values(\"Prix\").head(5)[\"Nom\"]"
   ]
  },
  {
   "cell_type": "markdown",
   "metadata": {},
   "source": [
    "## Exercice 2\n",
    "\n",
    "Importer le dataset euro12."
   ]
  },
  {
   "cell_type": "code",
   "execution_count": 9,
   "metadata": {},
   "outputs": [],
   "source": [
    "data = pd.read_csv('../Data/euro12.csv')"
   ]
  },
  {
   "cell_type": "markdown",
   "metadata": {},
   "source": [
    "### Question 1\n",
    "\n",
    "Combien de participants à cette compétition ? "
   ]
  },
  {
   "cell_type": "code",
   "execution_count": 15,
   "metadata": {},
   "outputs": [
    {
     "name": "stdout",
     "output_type": "stream",
     "text": [
      "Il y a 16 participants à cette compétition\n"
     ]
    }
   ],
   "source": [
    "print(\"Il y a\",data['Team'].count(),\"participants à cette compétition\")"
   ]
  },
  {
   "cell_type": "markdown",
   "metadata": {},
   "source": [
    "### Question 2\n",
    "\n",
    "Garder uniquement les colonnes Team, Yellow Cards and Red Cards que vous assignerez à un nouveau dataframe nommé discipline."
   ]
  },
  {
   "cell_type": "code",
   "execution_count": 18,
   "metadata": {},
   "outputs": [
    {
     "data": {
      "text/html": [
       "<div>\n",
       "<style scoped>\n",
       "    .dataframe tbody tr th:only-of-type {\n",
       "        vertical-align: middle;\n",
       "    }\n",
       "\n",
       "    .dataframe tbody tr th {\n",
       "        vertical-align: top;\n",
       "    }\n",
       "\n",
       "    .dataframe thead th {\n",
       "        text-align: right;\n",
       "    }\n",
       "</style>\n",
       "<table border=\"1\" class=\"dataframe\">\n",
       "  <thead>\n",
       "    <tr style=\"text-align: right;\">\n",
       "      <th></th>\n",
       "      <th>Team</th>\n",
       "      <th>Yellow Cards</th>\n",
       "      <th>Red Cards</th>\n",
       "    </tr>\n",
       "  </thead>\n",
       "  <tbody>\n",
       "    <tr>\n",
       "      <th>2</th>\n",
       "      <td>Denmark</td>\n",
       "      <td>4</td>\n",
       "      <td>0</td>\n",
       "    </tr>\n",
       "    <tr>\n",
       "      <th>3</th>\n",
       "      <td>England</td>\n",
       "      <td>5</td>\n",
       "      <td>0</td>\n",
       "    </tr>\n",
       "    <tr>\n",
       "      <th>12</th>\n",
       "      <td>Russia</td>\n",
       "      <td>6</td>\n",
       "      <td>0</td>\n",
       "    </tr>\n",
       "    <tr>\n",
       "      <th>6</th>\n",
       "      <td>Greece</td>\n",
       "      <td>9</td>\n",
       "      <td>1</td>\n",
       "    </tr>\n",
       "    <tr>\n",
       "      <th>11</th>\n",
       "      <td>Republic of Ireland</td>\n",
       "      <td>6</td>\n",
       "      <td>1</td>\n",
       "    </tr>\n",
       "  </tbody>\n",
       "</table>\n",
       "</div>"
      ],
      "text/plain": [
       "                   Team  Yellow Cards  Red Cards\n",
       "2               Denmark             4          0\n",
       "3               England             5          0\n",
       "12               Russia             6          0\n",
       "6                Greece             9          1\n",
       "11  Republic of Ireland             6          1"
      ]
     },
     "execution_count": 18,
     "metadata": {},
     "output_type": "execute_result"
    }
   ],
   "source": [
    "colonne = ['Team', 'Yellow Cards','Red Cards']\n",
    "discipline = data.loc[:,colonne]\n",
    "discipline.sample(5)"
   ]
  },
  {
   "cell_type": "markdown",
   "metadata": {},
   "source": [
    "### Question 3\n",
    "\n",
    "Triez les valeurs par nombre de cartons rouges puis de cartons jaunes. "
   ]
  },
  {
   "cell_type": "code",
   "execution_count": 20,
   "metadata": {},
   "outputs": [
    {
     "data": {
      "text/html": [
       "<div>\n",
       "<style scoped>\n",
       "    .dataframe tbody tr th:only-of-type {\n",
       "        vertical-align: middle;\n",
       "    }\n",
       "\n",
       "    .dataframe tbody tr th {\n",
       "        vertical-align: top;\n",
       "    }\n",
       "\n",
       "    .dataframe thead th {\n",
       "        text-align: right;\n",
       "    }\n",
       "</style>\n",
       "<table border=\"1\" class=\"dataframe\">\n",
       "  <thead>\n",
       "    <tr style=\"text-align: right;\">\n",
       "      <th></th>\n",
       "      <th>Team</th>\n",
       "      <th>Yellow Cards</th>\n",
       "      <th>Red Cards</th>\n",
       "    </tr>\n",
       "  </thead>\n",
       "  <tbody>\n",
       "    <tr>\n",
       "      <th>2</th>\n",
       "      <td>Denmark</td>\n",
       "      <td>4</td>\n",
       "      <td>0</td>\n",
       "    </tr>\n",
       "    <tr>\n",
       "      <th>5</th>\n",
       "      <td>Germany</td>\n",
       "      <td>4</td>\n",
       "      <td>0</td>\n",
       "    </tr>\n",
       "    <tr>\n",
       "      <th>3</th>\n",
       "      <td>England</td>\n",
       "      <td>5</td>\n",
       "      <td>0</td>\n",
       "    </tr>\n",
       "    <tr>\n",
       "      <th>8</th>\n",
       "      <td>Netherlands</td>\n",
       "      <td>5</td>\n",
       "      <td>0</td>\n",
       "    </tr>\n",
       "    <tr>\n",
       "      <th>15</th>\n",
       "      <td>Ukraine</td>\n",
       "      <td>5</td>\n",
       "      <td>0</td>\n",
       "    </tr>\n",
       "    <tr>\n",
       "      <th>4</th>\n",
       "      <td>France</td>\n",
       "      <td>6</td>\n",
       "      <td>0</td>\n",
       "    </tr>\n",
       "    <tr>\n",
       "      <th>12</th>\n",
       "      <td>Russia</td>\n",
       "      <td>6</td>\n",
       "      <td>0</td>\n",
       "    </tr>\n",
       "    <tr>\n",
       "      <th>1</th>\n",
       "      <td>Czech Republic</td>\n",
       "      <td>7</td>\n",
       "      <td>0</td>\n",
       "    </tr>\n",
       "    <tr>\n",
       "      <th>14</th>\n",
       "      <td>Sweden</td>\n",
       "      <td>7</td>\n",
       "      <td>0</td>\n",
       "    </tr>\n",
       "    <tr>\n",
       "      <th>0</th>\n",
       "      <td>Croatia</td>\n",
       "      <td>9</td>\n",
       "      <td>0</td>\n",
       "    </tr>\n",
       "    <tr>\n",
       "      <th>13</th>\n",
       "      <td>Spain</td>\n",
       "      <td>11</td>\n",
       "      <td>0</td>\n",
       "    </tr>\n",
       "    <tr>\n",
       "      <th>10</th>\n",
       "      <td>Portugal</td>\n",
       "      <td>12</td>\n",
       "      <td>0</td>\n",
       "    </tr>\n",
       "    <tr>\n",
       "      <th>7</th>\n",
       "      <td>Italy</td>\n",
       "      <td>16</td>\n",
       "      <td>0</td>\n",
       "    </tr>\n",
       "    <tr>\n",
       "      <th>11</th>\n",
       "      <td>Republic of Ireland</td>\n",
       "      <td>6</td>\n",
       "      <td>1</td>\n",
       "    </tr>\n",
       "    <tr>\n",
       "      <th>9</th>\n",
       "      <td>Poland</td>\n",
       "      <td>7</td>\n",
       "      <td>1</td>\n",
       "    </tr>\n",
       "    <tr>\n",
       "      <th>6</th>\n",
       "      <td>Greece</td>\n",
       "      <td>9</td>\n",
       "      <td>1</td>\n",
       "    </tr>\n",
       "  </tbody>\n",
       "</table>\n",
       "</div>"
      ],
      "text/plain": [
       "                   Team  Yellow Cards  Red Cards\n",
       "2               Denmark             4          0\n",
       "5               Germany             4          0\n",
       "3               England             5          0\n",
       "8           Netherlands             5          0\n",
       "15              Ukraine             5          0\n",
       "4                France             6          0\n",
       "12               Russia             6          0\n",
       "1        Czech Republic             7          0\n",
       "14               Sweden             7          0\n",
       "0               Croatia             9          0\n",
       "13                Spain            11          0\n",
       "10             Portugal            12          0\n",
       "7                 Italy            16          0\n",
       "11  Republic of Ireland             6          1\n",
       "9                Poland             7          1\n",
       "6                Greece             9          1"
      ]
     },
     "execution_count": 20,
     "metadata": {},
     "output_type": "execute_result"
    }
   ],
   "source": [
    "discipline.sort_values([\"Red Cards\",'Yellow Cards'])"
   ]
  },
  {
   "cell_type": "markdown",
   "metadata": {},
   "source": [
    "### Question 4\n",
    "\n",
    "Combien d'équipes ont marqué plus de 6 buts ? "
   ]
  },
  {
   "cell_type": "code",
   "execution_count": 27,
   "metadata": {},
   "outputs": [
    {
     "name": "stdout",
     "output_type": "stream",
     "text": [
      "Il y a 2 équipes qui ont marqué plus de 6 buts\n"
     ]
    }
   ],
   "source": [
    "print(\"Il y a\",data.loc[(data['Goals'] > 6), ['Team', 'Goals']]['Team'].count(),\"équipes qui ont marqué plus de 6 buts\")"
   ]
  },
  {
   "cell_type": "markdown",
   "metadata": {},
   "source": [
    "## Exercice 3\n",
    "\n",
    "Importer le dataset alcohol."
   ]
  },
  {
   "cell_type": "code",
   "execution_count": 29,
   "metadata": {},
   "outputs": [
    {
     "data": {
      "text/html": [
       "<div>\n",
       "<style scoped>\n",
       "    .dataframe tbody tr th:only-of-type {\n",
       "        vertical-align: middle;\n",
       "    }\n",
       "\n",
       "    .dataframe tbody tr th {\n",
       "        vertical-align: top;\n",
       "    }\n",
       "\n",
       "    .dataframe thead th {\n",
       "        text-align: right;\n",
       "    }\n",
       "</style>\n",
       "<table border=\"1\" class=\"dataframe\">\n",
       "  <thead>\n",
       "    <tr style=\"text-align: right;\">\n",
       "      <th></th>\n",
       "      <th>country</th>\n",
       "      <th>beer_servings</th>\n",
       "      <th>spirit_servings</th>\n",
       "      <th>wine_servings</th>\n",
       "      <th>total_litres_of_pure_alcohol</th>\n",
       "      <th>continent</th>\n",
       "    </tr>\n",
       "  </thead>\n",
       "  <tbody>\n",
       "    <tr>\n",
       "      <th>138</th>\n",
       "      <td>South Korea</td>\n",
       "      <td>140</td>\n",
       "      <td>16</td>\n",
       "      <td>9</td>\n",
       "      <td>9.8</td>\n",
       "      <td>AS</td>\n",
       "    </tr>\n",
       "    <tr>\n",
       "      <th>179</th>\n",
       "      <td>Uganda</td>\n",
       "      <td>45</td>\n",
       "      <td>9</td>\n",
       "      <td>0</td>\n",
       "      <td>8.3</td>\n",
       "      <td>AF</td>\n",
       "    </tr>\n",
       "    <tr>\n",
       "      <th>23</th>\n",
       "      <td>Brazil</td>\n",
       "      <td>245</td>\n",
       "      <td>145</td>\n",
       "      <td>16</td>\n",
       "      <td>7.2</td>\n",
       "      <td>SA</td>\n",
       "    </tr>\n",
       "    <tr>\n",
       "      <th>49</th>\n",
       "      <td>Djibouti</td>\n",
       "      <td>15</td>\n",
       "      <td>44</td>\n",
       "      <td>3</td>\n",
       "      <td>1.1</td>\n",
       "      <td>AF</td>\n",
       "    </tr>\n",
       "    <tr>\n",
       "      <th>24</th>\n",
       "      <td>Brunei</td>\n",
       "      <td>31</td>\n",
       "      <td>2</td>\n",
       "      <td>1</td>\n",
       "      <td>0.6</td>\n",
       "      <td>AS</td>\n",
       "    </tr>\n",
       "  </tbody>\n",
       "</table>\n",
       "</div>"
      ],
      "text/plain": [
       "         country  beer_servings  spirit_servings  wine_servings  \\\n",
       "138  South Korea            140               16              9   \n",
       "179       Uganda             45                9              0   \n",
       "23        Brazil            245              145             16   \n",
       "49      Djibouti             15               44              3   \n",
       "24        Brunei             31                2              1   \n",
       "\n",
       "     total_litres_of_pure_alcohol continent  \n",
       "138                           9.8        AS  \n",
       "179                           8.3        AF  \n",
       "23                            7.2        SA  \n",
       "49                            1.1        AF  \n",
       "24                            0.6        AS  "
      ]
     },
     "execution_count": 29,
     "metadata": {},
     "output_type": "execute_result"
    }
   ],
   "source": [
    "data = pd.read_csv('../Data/alcohol.csv')\n",
    "data.sample(5)"
   ]
  },
  {
   "cell_type": "markdown",
   "metadata": {},
   "source": [
    "### Question 1\n",
    "\n",
    "Quel continent boit le plus de bières en moyenne ?"
   ]
  },
  {
   "cell_type": "code",
   "execution_count": 31,
   "metadata": {},
   "outputs": [
    {
     "data": {
      "text/plain": [
       "continent\n",
       "AF     61.471698\n",
       "AS     37.045455\n",
       "EU    193.777778\n",
       "OC     89.687500\n",
       "SA    175.083333\n",
       "Name: beer_servings, dtype: float64"
      ]
     },
     "execution_count": 31,
     "metadata": {},
     "output_type": "execute_result"
    }
   ],
   "source": [
    "data.groupby('continent').beer_servings.mean()"
   ]
  },
  {
   "cell_type": "markdown",
   "metadata": {},
   "source": [
    "### Question 2\n",
    "\n",
    "Quelle est la consommation moyenne par continent de chaque type de boisson ?"
   ]
  },
  {
   "cell_type": "code",
   "execution_count": 33,
   "metadata": {},
   "outputs": [
    {
     "data": {
      "text/html": [
       "<div>\n",
       "<style scoped>\n",
       "    .dataframe tbody tr th:only-of-type {\n",
       "        vertical-align: middle;\n",
       "    }\n",
       "\n",
       "    .dataframe tbody tr th {\n",
       "        vertical-align: top;\n",
       "    }\n",
       "\n",
       "    .dataframe thead th {\n",
       "        text-align: right;\n",
       "    }\n",
       "</style>\n",
       "<table border=\"1\" class=\"dataframe\">\n",
       "  <thead>\n",
       "    <tr style=\"text-align: right;\">\n",
       "      <th></th>\n",
       "      <th>beer_servings</th>\n",
       "      <th>spirit_servings</th>\n",
       "      <th>wine_servings</th>\n",
       "      <th>total_litres_of_pure_alcohol</th>\n",
       "    </tr>\n",
       "    <tr>\n",
       "      <th>continent</th>\n",
       "      <th></th>\n",
       "      <th></th>\n",
       "      <th></th>\n",
       "      <th></th>\n",
       "    </tr>\n",
       "  </thead>\n",
       "  <tbody>\n",
       "    <tr>\n",
       "      <th>AF</th>\n",
       "      <td>61.471698</td>\n",
       "      <td>16.339623</td>\n",
       "      <td>16.264151</td>\n",
       "      <td>3.007547</td>\n",
       "    </tr>\n",
       "    <tr>\n",
       "      <th>AS</th>\n",
       "      <td>37.045455</td>\n",
       "      <td>60.840909</td>\n",
       "      <td>9.068182</td>\n",
       "      <td>2.170455</td>\n",
       "    </tr>\n",
       "    <tr>\n",
       "      <th>EU</th>\n",
       "      <td>193.777778</td>\n",
       "      <td>132.555556</td>\n",
       "      <td>142.222222</td>\n",
       "      <td>8.617778</td>\n",
       "    </tr>\n",
       "    <tr>\n",
       "      <th>OC</th>\n",
       "      <td>89.687500</td>\n",
       "      <td>58.437500</td>\n",
       "      <td>35.625000</td>\n",
       "      <td>3.381250</td>\n",
       "    </tr>\n",
       "    <tr>\n",
       "      <th>SA</th>\n",
       "      <td>175.083333</td>\n",
       "      <td>114.750000</td>\n",
       "      <td>62.416667</td>\n",
       "      <td>6.308333</td>\n",
       "    </tr>\n",
       "  </tbody>\n",
       "</table>\n",
       "</div>"
      ],
      "text/plain": [
       "           beer_servings  spirit_servings  wine_servings  \\\n",
       "continent                                                  \n",
       "AF             61.471698        16.339623      16.264151   \n",
       "AS             37.045455        60.840909       9.068182   \n",
       "EU            193.777778       132.555556     142.222222   \n",
       "OC             89.687500        58.437500      35.625000   \n",
       "SA            175.083333       114.750000      62.416667   \n",
       "\n",
       "           total_litres_of_pure_alcohol  \n",
       "continent                                \n",
       "AF                             3.007547  \n",
       "AS                             2.170455  \n",
       "EU                             8.617778  \n",
       "OC                             3.381250  \n",
       "SA                             6.308333  "
      ]
     },
     "execution_count": 33,
     "metadata": {},
     "output_type": "execute_result"
    }
   ],
   "source": [
    "data.groupby('continent').mean()"
   ]
  },
  {
   "cell_type": "markdown",
   "metadata": {},
   "source": [
    "### Question 3\n",
    "\n",
    "Afficher la médiane, le minimum et le maximum de la colonne \"spirit servings\"."
   ]
  },
  {
   "cell_type": "code",
   "execution_count": 35,
   "metadata": {},
   "outputs": [
    {
     "data": {
      "text/html": [
       "<div>\n",
       "<style scoped>\n",
       "    .dataframe tbody tr th:only-of-type {\n",
       "        vertical-align: middle;\n",
       "    }\n",
       "\n",
       "    .dataframe tbody tr th {\n",
       "        vertical-align: top;\n",
       "    }\n",
       "\n",
       "    .dataframe thead th {\n",
       "        text-align: right;\n",
       "    }\n",
       "</style>\n",
       "<table border=\"1\" class=\"dataframe\">\n",
       "  <thead>\n",
       "    <tr style=\"text-align: right;\">\n",
       "      <th></th>\n",
       "      <th>mean</th>\n",
       "      <th>min</th>\n",
       "      <th>max</th>\n",
       "    </tr>\n",
       "    <tr>\n",
       "      <th>continent</th>\n",
       "      <th></th>\n",
       "      <th></th>\n",
       "      <th></th>\n",
       "    </tr>\n",
       "  </thead>\n",
       "  <tbody>\n",
       "    <tr>\n",
       "      <th>AF</th>\n",
       "      <td>16.339623</td>\n",
       "      <td>0</td>\n",
       "      <td>152</td>\n",
       "    </tr>\n",
       "    <tr>\n",
       "      <th>AS</th>\n",
       "      <td>60.840909</td>\n",
       "      <td>0</td>\n",
       "      <td>326</td>\n",
       "    </tr>\n",
       "    <tr>\n",
       "      <th>EU</th>\n",
       "      <td>132.555556</td>\n",
       "      <td>0</td>\n",
       "      <td>373</td>\n",
       "    </tr>\n",
       "    <tr>\n",
       "      <th>OC</th>\n",
       "      <td>58.437500</td>\n",
       "      <td>0</td>\n",
       "      <td>254</td>\n",
       "    </tr>\n",
       "    <tr>\n",
       "      <th>SA</th>\n",
       "      <td>114.750000</td>\n",
       "      <td>25</td>\n",
       "      <td>302</td>\n",
       "    </tr>\n",
       "  </tbody>\n",
       "</table>\n",
       "</div>"
      ],
      "text/plain": [
       "                 mean  min  max\n",
       "continent                      \n",
       "AF          16.339623    0  152\n",
       "AS          60.840909    0  326\n",
       "EU         132.555556    0  373\n",
       "OC          58.437500    0  254\n",
       "SA         114.750000   25  302"
      ]
     },
     "execution_count": 35,
     "metadata": {},
     "output_type": "execute_result"
    }
   ],
   "source": [
    "data.groupby('continent').spirit_servings.agg(['mean', 'min', 'max'])"
   ]
  },
  {
   "cell_type": "markdown",
   "metadata": {},
   "source": [
    "## Exercice 4\n",
    "\n",
    "Importer le dataset us_crime_rates. "
   ]
  },
  {
   "cell_type": "code",
   "execution_count": 26,
   "metadata": {},
   "outputs": [],
   "source": [
    "data = pd.read_csv('../Data/us_crime_rates.csv')"
   ]
  },
  {
   "cell_type": "markdown",
   "metadata": {},
   "source": [
    "La décennie 60 comprend les années entre 1960 et 1969. Le dataset us_crime_rates donne les sommes cumulatives par années de différents indicateurs.  "
   ]
  },
  {
   "cell_type": "markdown",
   "metadata": {},
   "source": [
    "### Question 1\n",
    "\n",
    "Créer le dataframe qui donne chaque indicateur pour chaque décennie. Résultat ci-dessous."
   ]
  },
  {
   "cell_type": "code",
   "execution_count": 10,
   "metadata": {},
   "outputs": [
    {
     "data": {
      "image/png": "[encoded data removed]",
      "text/plain": [
       "<IPython.core.display.Image object>"
      ]
     },
     "execution_count": 10,
     "metadata": {},
     "output_type": "execute_result"
    }
   ],
   "source": [
    "from IPython.display import Image\n",
    "Image(\"img/tableau.png\")"
   ]
  },
  {
   "cell_type": "code",
   "execution_count": 27,
   "metadata": {},
   "outputs": [],
   "source": [
    "data.Year = pd.to_datetime(data.Year, format='%Y')\n",
    "\n",
    "data = data.set_index('Year', drop = True)\n",
    "\n",
    "del data['Total']\n",
    "\n",
    "data = data.resample('10AS').sum()\n",
    "\n",
    "population = data['Population'].resample('10AS').max()\n",
    "\n",
    "data['Population'] = population\n",
    "\n",
    "data"
   ]
  },
  {
   "cell_type": "markdown",
   "metadata": {},
   "source": [
    "### Question 2\n",
    "\n",
    "Quelle était la plus dangereuse décennie aux USA ? "
   ]
  },
  {
   "cell_type": "code",
   "execution_count": 39,
   "metadata": {},
   "outputs": [
    {
     "data": {
      "text/plain": [
       "Population           2000-01-01\n",
       "Violent              1990-01-01\n",
       "Property             1990-01-01\n",
       "Murder               1990-01-01\n",
       "Forcible_Rape        1990-01-01\n",
       "Robbery              1990-01-01\n",
       "Aggravated_assault   1990-01-01\n",
       "Burglary             1980-01-01\n",
       "Larceny_Theft        1990-01-01\n",
       "Vehicle_Theft        1990-01-01\n",
       "dtype: datetime64[ns]"
      ]
     },
     "execution_count": 39,
     "metadata": {},
     "output_type": "execute_result"
    }
   ],
   "source": [
    "data.idxmax(0)"
   ]
  },
  {
   "cell_type": "markdown",
   "metadata": {},
   "source": [
    "## Enseignant\n",
    "Patrice Mazel - patrice.mazel@protonmail.com - 3A MAM 2021/2022"
   ]
  }
 ],
 "metadata": {
  "kernelspec": {
   "display_name": "Python 3",
   "language": "python",
   "name": "python3"
  },
  "language_info": {
   "codemirror_mode": {
    "name": "ipython",
    "version": 3
   },
   "file_extension": ".py",
   "mimetype": "text/x-python",
   "name": "python",
   "nbconvert_exporter": "python",
   "pygments_lexer": "ipython3",
   "version": "3.9.7"
  }
 },
 "nbformat": 4,
 "nbformat_minor": 2
}
