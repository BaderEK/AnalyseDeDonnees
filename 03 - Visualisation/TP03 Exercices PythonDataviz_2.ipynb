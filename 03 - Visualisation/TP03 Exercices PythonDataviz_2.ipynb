{
 "cells": [
  {
   "cell_type": "markdown",
   "metadata": {},
   "source": [
    "<center><img src=\"https://polytech.univ-lyon1.fr/uas/polytech/LOGO/UDL_logo_blanc-01%20(2).png\" alt=\"drawing\" style=\"width:100px;\"/></center>\n",
    "\n",
    "# Introduction à Python pour la Data Science\n",
    "\n",
    "## Exercices de Data Manipulation & Visualisation"
   ]
  },
  {
   "cell_type": "markdown",
   "metadata": {},
   "source": [
    "On souhaite traiter le fichier «Census.xlsx».\n",
    "\n",
    "«classe»  joue  un  rôle  particulier,  la  variable  indique  le  niveau  de  revenu  c.-à-d.  les  personnes  qui ont un revenu annuel supérieur (more) ou inférieur (less) à un seuil quelconque."
   ]
  },
  {
   "cell_type": "code",
   "execution_count": 4,
   "metadata": {},
   "outputs": [],
   "source": [
    "# Importer la librairie Pandas "
   ]
  },
  {
   "cell_type": "markdown",
   "metadata": {},
   "source": [
    "### Question 1\n",
    "\n",
    "- Charger le fichier«Census.xlsx» (read_excel)\n",
    "- Combien y a-t-il de variables dans le fichier ? \n",
    "- Combien y a-t-il d’observations? (info)"
   ]
  },
  {
   "cell_type": "code",
   "execution_count": null,
   "metadata": {},
   "outputs": [],
   "source": []
  },
  {
   "cell_type": "markdown",
   "metadata": {},
   "source": [
    "### Question 2\n",
    "\n",
    "- Afficher le résumé des données (describe)"
   ]
  },
  {
   "cell_type": "code",
   "execution_count": null,
   "metadata": {},
   "outputs": [],
   "source": []
  },
  {
   "cell_type": "markdown",
   "metadata": {},
   "source": [
    "### Question 3\n",
    "\n",
    "- quelle  est  la proportion des  hommes ? \n",
    "- celle des «classe= more»?"
   ]
  },
  {
   "cell_type": "code",
   "execution_count": null,
   "metadata": {},
   "outputs": [],
   "source": []
  },
  {
   "cell_type": "markdown",
   "metadata": {},
   "source": [
    "### Question 4\n",
    "\n",
    "\n",
    "- Construire  le  diagramme  à  bandes  pour  les  variables  «marital_status»  et  «relationship» (http://pandas.pydata.org/pandas-docs/version/0.18.1/visualization.html; bar).\n",
    "\n",
    "- Pour les mêmes variables, construire les diagrammes à secteurs (http://pandas.pydata.org/pandas-docs/version/0.18.1/visualization.html; pie)."
   ]
  },
  {
   "cell_type": "code",
   "execution_count": null,
   "metadata": {},
   "outputs": [],
   "source": []
  },
  {
   "cell_type": "markdown",
   "metadata": {},
   "source": [
    "### Question 5\n",
    "\n",
    "- Croiser  les  variables  «classe»  et  « sex».  \n",
    "- Quelle  est  la  proportion  des  «more»  parmi  les hommes? \n",
    "- Parmi les femmes? Est-ce  que ce résultat nous permet  de conclure que  le niveau de revenu est différent selon que l’on est un homme ou une femme? (crosstab)"
   ]
  },
  {
   "cell_type": "code",
   "execution_count": null,
   "metadata": {},
   "outputs": [],
   "source": []
  },
  {
   "cell_type": "markdown",
   "metadata": {},
   "source": [
    "### Question 6\n",
    "\n",
    "Croiser maintenant «relationship» et «marital status». Pour chaque valeur de «relationship», quelle  est  la modalité  de  «marital  status»  qui  lui  est  le  plus  associé?  (crosstab+ idxmax).  Que peut-on en conclure?"
   ]
  },
  {
   "cell_type": "code",
   "execution_count": null,
   "metadata": {},
   "outputs": [],
   "source": []
  },
  {
   "cell_type": "markdown",
   "metadata": {},
   "source": [
    "### Question 7\n",
    "\n",
    "- Nous souhaitons quantifier l’intensité de la liaison entre ces deux variables. \n",
    "- Calculer le KHI-2 (https://docs.scipy.org/doc/scipy-0.16.1/reference/generated/scipy.stats.chi2_contingency.html)  du  test d’indépendance.     \n",
    "- Comment pourrait-on qualifier la relation entre ces deux variables?"
   ]
  },
  {
   "cell_type": "code",
   "execution_count": null,
   "metadata": {},
   "outputs": [],
   "source": []
  },
  {
   "cell_type": "markdown",
   "metadata": {},
   "source": [
    "### Question 8\n",
    "\n",
    "- Penchons-nous maintenant sur la variable «age». Calculer sa moyenne et son écart-type (mean, std) (http://pandas.pydata.org/pandas-docs/stable/generated/pandas.Series.html)\n",
    "\n",
    "- Calculer la médiane et les quartiles d’ordre 1 et 3 de l’âge (quantile)."
   ]
  },
  {
   "cell_type": "code",
   "execution_count": null,
   "metadata": {},
   "outputs": [],
   "source": []
  },
  {
   "cell_type": "markdown",
   "metadata": {},
   "source": [
    "### Question 9\n",
    "\n",
    "- Construire  le  graphique  BOXPLOT  (boîte  de  Tukey)  pour  la  variable  «âge»  (boxplot).  Que remarque-t-on?"
   ]
  },
  {
   "cell_type": "code",
   "execution_count": null,
   "metadata": {},
   "outputs": [],
   "source": []
  },
  {
   "cell_type": "markdown",
   "metadata": {},
   "source": [
    "### Question 10\n",
    "\n",
    "- Produire l’histogramme de la variable âge (hist)."
   ]
  },
  {
   "cell_type": "code",
   "execution_count": null,
   "metadata": {},
   "outputs": [],
   "source": []
  },
  {
   "cell_type": "markdown",
   "metadata": {},
   "source": [
    "### Question 11\n",
    "\n",
    "- Calculer  la  corrélation  entre  «age»  et  «hours  per  week»  (corr).  Peut-on  dire  que  ces  deux variables sont liées? Réaliser le graphique nuage de points entre ces deux variables pour affiner votre réponse (scatter). Que conclure?\n"
   ]
  },
  {
   "cell_type": "code",
   "execution_count": null,
   "metadata": {},
   "outputs": [],
   "source": []
  },
  {
   "cell_type": "markdown",
   "metadata": {},
   "source": [
    "### Question 12\n",
    "\n",
    "\n",
    "- Construire  le  boxplot  de  «âge»  selon  «relationship»  (boxplot).  Il  y  a  des choses  à  remarquer dans ce graphique? \n"
   ]
  },
  {
   "cell_type": "code",
   "execution_count": null,
   "metadata": {},
   "outputs": [],
   "source": []
  },
  {
   "cell_type": "markdown",
   "metadata": {},
   "source": [
    "### Question 13\n",
    "\n",
    "- Calculer la moyenne de l’âge pour chaque valeur de «relationship»  (pivot_table).  Le  calcul confirme l’impression laissée par le graphique précédent?"
   ]
  },
  {
   "cell_type": "code",
   "execution_count": null,
   "metadata": {},
   "outputs": [],
   "source": []
  },
  {
   "cell_type": "markdown",
   "metadata": {},
   "source": [
    "### Question 14\n",
    "\n",
    "\n",
    "- On s’intéresse à l’influence du niveau d’instruction (education)  sur le  revenu (classe). Créez une variable qui permet d’identifier les personnes ayant un des niveaux suivants: \"Bachelors\",\"Masters\", \"Prof-school\", \"Doctorate\".  Combien d’observations répondent à ce critère? (isin)\n"
   ]
  },
  {
   "cell_type": "code",
   "execution_count": null,
   "metadata": {},
   "outputs": [],
   "source": []
  },
  {
   "cell_type": "markdown",
   "metadata": {},
   "source": [
    "### Question 15\n",
    "\n",
    "\n",
    "- Quelle est la proportion de classe = more parmi ces individus, quelle est cette même proportion chez les autres (qui n’ont pas ce niveau d’études). Est-ce que le niveau d’instruction a un impact sur le revenu? (crosstab)"
   ]
  },
  {
   "cell_type": "code",
   "execution_count": null,
   "metadata": {},
   "outputs": [],
   "source": []
  },
  {
   "cell_type": "markdown",
   "metadata": {},
   "source": [
    "## Enseignant\n",
    "Patrice Mazel - patrice.mazel@protonmail.com - 3A MAM 2021/2022"
   ]
  }
 ],
 "metadata": {
  "kernelspec": {
   "display_name": "Python 3 (ipykernel)",
   "language": "python",
   "name": "python3"
  },
  "language_info": {
   "codemirror_mode": {
    "name": "ipython",
    "version": 3
   },
   "file_extension": ".py",
   "mimetype": "text/x-python",
   "name": "python",
   "nbconvert_exporter": "python",
   "pygments_lexer": "ipython3",
   "version": "3.9.10"
  }
 },
 "nbformat": 4,
 "nbformat_minor": 4
}
