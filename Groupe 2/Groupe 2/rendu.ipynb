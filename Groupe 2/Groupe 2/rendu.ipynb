{
 "cells": [
  {
   "cell_type": "code",
   "execution_count": null,
   "metadata": {},
   "outputs": [],
   "source": [
    "import pandas as pd\n",
    "import matplotlib.pyplot as plt\n",
    "import scipy as sc \n",
    "import numpy as np"
   ]
  },
  {
   "cell_type": "markdown",
   "metadata": {},
   "source": [
    "On va créer des datasets pour chaque candidats :"
   ]
  },
  {
   "cell_type": "code",
   "execution_count": null,
   "metadata": {},
   "outputs": [],
   "source": [
    "df = pd.read_csv(\"resultats-par-niveau-burvot-t1-france-entiere.txt\", header = 0, sep=';', encoding = 'latin-1')\n",
    "df0 = df[['Code du département', 'Libellé du département', 'Code de la circonscription', 'Libellé de la circonscription', 'Code de la commune', 'Libellé de la commune', 'Code du b.vote', 'Inscrits', 'Abstentions', '% Abs/Ins', 'Votants', '% Vot/Ins', 'Blancs', '% Blancs/Ins', '% Blancs/Vot', 'Nuls', '% Nuls/Ins', '% Nuls/Vot', 'Exprimés', '% Exp/Ins', '% Exp/Vot']]\n",
    "df_AN = df[['N°Panneau.AN', 'Sexe.AN', 'Nom.AN', 'Prénom.AN', 'Voix.AN', '% Voix/Ins.AN', '% Voix/Exp.AN']]\n",
    "df_RF = df[['N°Panneau.RF', 'Sexe.RF', 'Nom.RF', 'Prénom.RF', 'Voix.RF', '% Voix/Ins.RF', '% Voix/Exp.RF']]\n",
    "df_ME = df[['N°Panneau.ME', 'Sexe.ME', 'Nom.ME', 'Prénom.ME', 'Voix.ME', '% Voix/Ins.ME', '% Voix/Exp.ME']]\n",
    "df_LJ = df[['N°Panneau.LJ', 'Sexe.LJ', 'Nom.LJ', 'Prénom.LJ', 'Voix.LJ', '% Voix/Ins.LJ', '% Voix/Exp.LJ']]\n",
    "df_LPM = df[['N°Panneau.LPM', 'Sexe.LPM', 'Nom.LPM', 'Prénom.LPM', 'Voix.LPM', '% Voix/Ins.LPM', '% Voix/Exp.LPM']]\n",
    "df_ZE = df[['N°Panneau.ZE', 'Sexe.ZE', 'Nom.ZE', 'Prénom.ZE', 'Voix.ZE', '% Voix/Ins.ZE', '% Voix/Exp.ZE']]\n",
    "df_MJL = df[['N°Panneau.MJL', 'Sexe.MJL', 'Nom.MJL', 'Prénom.MJL', 'Voix.MJL', '% Voix/Ins.MJL', '% Voix/Exp.MJL']]\n",
    "df_HA = df[['N°Panneau.HA', 'Sexe.HA', 'Nom.HA', 'Prénom.HA', 'Voix.HA', '% Voix/Ins.HA', '% Voix/Exp.HA']]\n",
    "df_JY = df[['N°Panneau.JY', 'Sexe.JY', 'Nom.JY', 'Prénom.JY', 'Voix.JY', '% Voix/Ins.JY', '% Voix/Exp.JY']]\n",
    "df_PV = df[['N°Panneau.PV', 'Sexe.PV', 'Nom.PV', 'Prénom.PV', 'Voix.PV', '% Voix/Ins.PV', '% Voix/Exp.PV']]\n",
    "df_PP = df[['N°Panneau.PP', 'Sexe.PP', 'Nom.PP', 'Prénom.PP', 'Voix.PP', '% Voix/Ins.PP', '% Voix/Exp.PP']]\n",
    "df_DAN = df[['N°Panneau.DAN', 'Sexe.DAN', 'Nom.DAN', 'Prénom.DAN', 'Voix.DAN', '% Voix/Ins.DAN', '% Voix/Exp.DAN']]"
   ]
  },
  {
   "cell_type": "code",
   "execution_count": null,
   "metadata": {},
   "outputs": [],
   "source": [
    "print(\"Nombre de variables dans le dataset général : \", df.shape[1])\n",
    "print(\"Nombre d'observations dans le dataset général : \", df.shape[0])\n",
    "\n",
    "print(\"Nombre de variables dans le dataset 0 : \", df0.shape[1])\n",
    "print(\"Nombre d'observations dans le dataset 0 : \", df0.shape[0])\n",
    "\n",
    "print(\"Nombre de variables dans un dataset candidat : \", df_AN.shape[1])\n",
    "print(\"Nombre d'observations dans un dataset candidat : \", df_AN.shape[0])"
   ]
  },
  {
   "cell_type": "markdown",
   "metadata": {},
   "source": [
    "On calcule le nombre d'inscrits, de participants et de personnes s'étant abstenues :"
   ]
  },
  {
   "cell_type": "code",
   "execution_count": null,
   "metadata": {},
   "outputs": [],
   "source": [
    "#Stats générales : \n",
    "\n",
    "totalIns = np.sum(df['Inscrits'])\n",
    "totalVot = np.sum(df['Votants'])\n",
    "totalBlanc = np.sum(df['Blancs'])\n",
    "totalAbs = np.sum(df['Abstentions'])\n",
    "\n",
    "print(\"Nombre d'inscrits : \", totalIns)\n",
    "print(\"Nombre de votants : \", totalVot)\n",
    "print(\"Nombre d'abstentionnistes : \", totalAbs)\n",
    "print(\"Nombre de votes blancs : \", totalBlanc)"
   ]
  },
  {
   "cell_type": "code",
   "execution_count": null,
   "metadata": {},
   "outputs": [],
   "source": [
    "# Quels sont les différents taux ?\n",
    "\n",
    "rappVot = 100*totalVot/totalIns\n",
    "rappAbs = 100*totalAbs/totalIns\n",
    "rappBlanc = 100*totalBlanc/totalIns\n",
    "\n",
    "\n",
    "print(\"Absentention : \", round(rappAbs, 2), \"%\")\n",
    "print(\"Participation : \", round(rappVot, 2), \"%\")\n",
    "print(\"Dont\", round(rappBlanc, 2), \"% de votes blancs\")"
   ]
  },
  {
   "cell_type": "markdown",
   "metadata": {},
   "source": [
    "Une abstention de 26%, ce qui est assez remarquable.\n",
    "Plus que n'importe quel candidat.\n",
    "Traçons les diagrammes camemberts des résultats sans puis avec abstentions et votes blancs:"
   ]
  },
  {
   "cell_type": "code",
   "execution_count": null,
   "metadata": {},
   "outputs": [],
   "source": [
    "voixCandidat = np.array([np.sum(df['Voix.AN']), np.sum(df['Voix.RF']), np.sum(df['Voix.ME']), np.sum(df['Voix.LJ']), np.sum(df['Voix.LPM']), \n",
    "np.sum(df['Voix.ZE']), np.sum(df['Voix.MJL']), np.sum(df['Voix.HA']), np.sum(df['Voix.JY']), np.sum(df['Voix.PV']), np.sum(df['Voix.PP']), \n",
    "np.sum(df['Voix.DAN'])])\n",
    "\n",
    "\n",
    "label = [df['Nom.AN'][0], df['Nom.RF'][0], df['Nom.ME'][0], df['Nom.LJ'][0], df['Nom.LPM'][0], df['Nom.ZE'][0], df['Nom.MJL'][0], df['Nom.HA'][0], \n",
    "df['Nom.JY'][0], df['Nom.PV'][0], df['Nom.PP'][0], df['Nom.DAN'][0]]"
   ]
  },
  {
   "cell_type": "code",
   "execution_count": null,
   "metadata": {},
   "outputs": [],
   "source": [
    "camembert = plt.pie(voixCandidat, labels=label, normalize = True, autopct = lambda voixCandidat: str(round(voixCandidat, 2)) + '%', pctdistance=0.9)\n",
    "plt.rcParams[\"figure.figsize\"] = [13, 13]\n",
    "plt.show()"
   ]
  },
  {
   "cell_type": "markdown",
   "metadata": {},
   "source": [
    "Avec l'abstention et les votes blancs :"
   ]
  },
  {
   "cell_type": "code",
   "execution_count": null,
   "metadata": {},
   "outputs": [],
   "source": [
    "df_AN = df[['N°Panneau.AN', 'Sexe.AN', 'Nom.AN', 'Prénom.AN', 'Voix.AN', '% Voix/Ins.AN', '% Voix/Exp.AN']]\n",
    "df_RF = df[['N°Panneau.RF', 'Sexe.RF', 'Nom.RF', 'Prénom.RF', 'Voix.RF', '% Voix/Ins.RF', '% Voix/Exp.RF']]\n",
    "df_ME = df[['N°Panneau.ME', 'Sexe.ME', 'Nom.ME', 'Prénom.ME', 'Voix.ME', '% Voix/Ins.ME', '% Voix/Exp.ME']]\n",
    "df_LJ = df[['N°Panneau.LJ', 'Sexe.LJ', 'Nom.LJ', 'Prénom.LJ', 'Voix.LJ', '% Voix/Ins.LJ', '% Voix/Exp.LJ']]\n",
    "df_LPM = df[['N°Panneau.LPM', 'Sexe.LPM', 'Nom.LPM', 'Prénom.LPM', 'Voix.LPM', '% Voix/Ins.LPM', '% Voix/Exp.LPM']]\n",
    "df_ZE = df[['N°Panneau.ZE', 'Sexe.ZE', 'Nom.ZE', 'Prénom.ZE', 'Voix.ZE', '% Voix/Ins.ZE', '% Voix/Exp.ZE']]\n",
    "df_MJL = df[['N°Panneau.MJL', 'Sexe.MJL', 'Nom.MJL', 'Prénom.MJL', 'Voix.MJL', '% Voix/Ins.MJL', '% Voix/Exp.MJL']]\n",
    "df_HA = df[['N°Panneau.HA', 'Sexe.HA', 'Nom.HA', 'Prénom.HA', 'Voix.HA', '% Voix/Ins.HA', '% Voix/Exp.HA']]\n",
    "df_JY = df[['N°Panneau.JY', 'Sexe.JY', 'Nom.JY', 'Prénom.JY', 'Voix.JY', '% Voix/Ins.JY', '% Voix/Exp.JY']]\n",
    "df_PV = df[['N°Panneau.PV', 'Sexe.PV', 'Nom.PV', 'Prénom.PV', 'Voix.PV', '% Voix/Ins.PV', '% Voix/Exp.PV']]\n",
    "df_PP = df[['N°Panneau.PP', 'Sexe.PP', 'Nom.PP', 'Prénom.PP', 'Voix.PP', '% Voix/Ins.PP', '% Voix/Exp.PP']]\n",
    "df_DAN = df[['N°Panneau.DAN', 'Sexe.DAN', 'Nom.DAN', 'Prénom.DAN', 'Voix.DAN', '% Voix/Ins.DAN', '% Voix/Exp.DAN']]"
   ]
  },
  {
   "cell_type": "code",
   "execution_count": null,
   "metadata": {},
   "outputs": [],
   "source": [
    "voixCandidat1 = np.array([np.sum(df['Voix.AN']), np.sum(df['Voix.RF']), np.sum(df['Voix.ME']), np.sum(df['Voix.LJ']), np.sum(df['Voix.LPM']), \n",
    "np.sum(df['Voix.ZE']), np.sum(df['Voix.MJL']), np.sum(df['Voix.HA']), np.sum(df['Voix.JY']), np.sum(df['Voix.PV']), np.sum(df['Voix.PP']), np.sum(df['Voix.DAN']), np.sum(df['Blancs']), totalAbs])\n",
    "\n",
    "label1 = [df['Nom.AN'][0], df['Nom.RF'][0], df['Nom.ME'][0], df['Nom.LJ'][0], df['Nom.LPM'][0], df['Nom.ZE'][0], df['Nom.MJL'][0], df['Nom.HA'][0], \n",
    "df['Nom.JY'][0], df['Nom.PV'][0], df['Nom.PP'][0], df['Nom.DAN'][0], 'BLANCS', 'ABSTENTION']"
   ]
  },
  {
   "cell_type": "code",
   "execution_count": null,
   "metadata": {},
   "outputs": [],
   "source": [
    "camembert = plt.pie(voixCandidat1, labels=label1, normalize = True, autopct = lambda voixCandidat: str(round(voixCandidat, 2)) + '%', pctdistance = 0.9, labeldistance = 1.1)\n",
    "plt.rcParams[\"figure.figsize\"] = [13, 13]\n",
    "plt.show()"
   ]
  },
  {
   "cell_type": "markdown",
   "metadata": {},
   "source": [
    "On peut voir que l'abstention a joué un rôle très important dans ce 1er tour.\n",
    "En effet, n'importe quel candidat pourrait arriver 1er si il récupérait les voix de l'abstention"
   ]
  },
  {
   "cell_type": "code",
   "execution_count": null,
   "metadata": {},
   "outputs": [],
   "source": [
    "dftemp = pd.pivot_table(data = df, index = 'Libellé de la commune', values = 'Voix.ZE', aggfunc = 'sum')\n",
    "dftemp"
   ]
  },
  {
   "cell_type": "code",
   "execution_count": null,
   "metadata": {},
   "outputs": [],
   "source": [
    "df"
   ]
  },
  {
   "cell_type": "markdown",
   "metadata": {},
   "source": [
    "------------------------\n"
   ]
  },
  {
   "cell_type": "markdown",
   "metadata": {},
   "source": [
    "----------------------"
   ]
  },
  {
   "cell_type": "markdown",
   "metadata": {},
   "source": [
    "# Departements avec le plus d'abstention\n"
   ]
  },
  {
   "cell_type": "code",
   "execution_count": null,
   "metadata": {},
   "outputs": [],
   "source": [
    "def abs_dep(taille,asc):\n",
    "    dep_abs = df[['Code du département','Libellé du département','% Abs/Ins']]\n",
    "    frame = pd.DataFrame(dep_abs)\n",
    "    abs_dep = frame.groupby([\"Code du département\",\"Libellé du département\"]).mean()\n",
    "    plus = abs_dep.sort_values(by='% Abs/Ins',ascending=asc).reset_index()\n",
    "    return plus.head(taille)\n",
    "    "
   ]
  },
  {
   "cell_type": "code",
   "execution_count": null,
   "metadata": {},
   "outputs": [],
   "source": [
    "abs_dep(10,False)"
   ]
  },
  {
   "cell_type": "markdown",
   "metadata": {},
   "source": [
    "On voit que ce sont les département outre-mers qui ont les plus grands taux d'Abstention"
   ]
  },
  {
   "cell_type": "code",
   "execution_count": null,
   "metadata": {},
   "outputs": [],
   "source": [
    "abs_dep(10,True)"
   ]
  },
  {
   "cell_type": "markdown",
   "metadata": {},
   "source": [
    "# Voix et %voix par département et communes\n"
   ]
  },
  {
   "cell_type": "code",
   "execution_count": null,
   "metadata": {},
   "outputs": [],
   "source": [
    "#Fonctions pour voix et %voix par département individuelles\n",
    "def dep(x,y):\n",
    "      tab = df[['Code du département','Libellé du département', x]]\n",
    "      frame1 = pd.DataFrame(tab)\n",
    "      tab2 = frame1.groupby([\"Code du département\",\"Libellé du département\"]).sum()\n",
    "      res = tab2.sort_values(by=x,ascending=y)\n",
    "      \n",
    "      return res.head(20)\n",
    "\n",
    "\n",
    "def dep_prct(x,y):\n",
    "      tab = df[['Code du département','Libellé du département', x]]\n",
    "      frame1 = pd.DataFrame(tab)\n",
    "      tab2 = frame1.groupby([\"Code du département\",\"Libellé du département\"]).mean()\n",
    "      res = tab2.sort_values(by=x,ascending=y)\n",
    "      \n",
    "      return res.head(20)\n",
    "\n",
    "dep('Voix.ME', False)\n",
    "\n",
    "dep_prct('% Voix/Ins.MJL', False)"
   ]
  },
  {
   "cell_type": "code",
   "execution_count": null,
   "metadata": {},
   "outputs": [],
   "source": [
    "#Fonctions pour voix et %voix par département générique\n",
    "def dep_candidat(voix,prct,choix,asc):\n",
    "    tab = df[['Libellé du département', voix]]\n",
    "    tab1 = df[['Libellé du département', prct]]\n",
    "      \n",
    "    frame = pd.DataFrame(tab)\n",
    "    frame1 = pd.DataFrame(tab1)\n",
    "     \n",
    "    res = frame.groupby([\"Libellé du département\"]).sum()\n",
    "    a = res.reset_index()\n",
    "    res1 = frame1.groupby([\"Libellé du département\"]).mean()\n",
    "    b = res1.reset_index()\n",
    "\n",
    "        \n",
    "    total = a.merge(b)\n",
    "\n",
    "    if choix == 1 : \n",
    "            resultat = total.sort_values(by=voix,ascending=asc) \n",
    "    elif choix == 2 :\n",
    "            resultat = total.sort_values(by=prct,ascending=asc)\n",
    "\n",
    "    return resultat"
   ]
  },
  {
   "cell_type": "code",
   "execution_count": null,
   "metadata": {},
   "outputs": [],
   "source": [
    "dep_candidat('Voix.ME','% Voix/Ins.MJL',2,False)"
   ]
  },
  {
   "cell_type": "markdown",
   "metadata": {},
   "source": [
    "----------------------------------------------"
   ]
  },
  {
   "cell_type": "code",
   "execution_count": null,
   "metadata": {},
   "outputs": [],
   "source": [
    "#Fonctions pour voix et %voix par commune générique\n",
    "def comm_candidat(voix,prct,choix,asc):\n",
    "    tab = df[['Libellé de la commune', voix]]\n",
    "    tab1 = df[['Libellé de la commune', prct]]\n",
    "      \n",
    "    frame = pd.DataFrame(tab)\n",
    "    frame1 = pd.DataFrame(tab1)\n",
    "     \n",
    "    res = frame.groupby([\"Libellé de la commune\"]).sum()\n",
    "    a = res.reset_index()\n",
    "    res1 = frame1.groupby([\"Libellé de la commune\"]).mean()\n",
    "    b = res1.reset_index()\n",
    "\n",
    "        \n",
    "    total = a.merge(b)\n",
    "\n",
    "    if choix == 1 : \n",
    "            resultat = total.sort_values(by=voix,ascending=asc) \n",
    "    elif choix == 2 :\n",
    "            resultat = total.sort_values(by=prct,ascending=asc)\n",
    "\n",
    "    return resultat"
   ]
  },
  {
   "cell_type": "code",
   "execution_count": null,
   "metadata": {},
   "outputs": [],
   "source": [
    "comm_candidat('Voix.MJL','% Voix/Ins.MJL',2, False)"
   ]
  }
 ],
 "metadata": {
  "interpreter": {
   "hash": "ad2bdc8ecc057115af97d19610ffacc2b4e99fae6737bb82f5d7fb13d2f2c186"
  },
  "kernelspec": {
   "display_name": "Python 3.9.12 ('base')",
   "language": "python",
   "name": "python3"
  },
  "language_info": {
   "codemirror_mode": {
    "name": "ipython",
    "version": 3
   },
   "file_extension": ".py",
   "mimetype": "text/x-python",
   "name": "python",
   "nbconvert_exporter": "python",
   "pygments_lexer": "ipython3",
   "version": "3.9.12"
  },
  "orig_nbformat": 4
 },
 "nbformat": 4,
 "nbformat_minor": 2
}
