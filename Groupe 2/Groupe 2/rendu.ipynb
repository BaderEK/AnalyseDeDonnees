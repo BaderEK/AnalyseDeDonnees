{
 "cells": [
  {
   "cell_type": "code",
   "execution_count": 63,
   "metadata": {},
   "outputs": [],
   "source": [
    "import pandas as pd\n",
    "import matplotlib.pyplot as plt\n",
    "import scipy as sc \n",
    "import numpy as np"
   ]
  },
  {
   "cell_type": "markdown",
   "metadata": {},
   "source": [
    "On va créer des datasets pour chaque candidats :"
   ]
  },
  {
   "cell_type": "code",
   "execution_count": 62,
   "metadata": {},
   "outputs": [
    {
     "name": "stderr",
     "output_type": "stream",
     "text": [
      "c:\\Users\\hedil\\anaconda3\\lib\\site-packages\\IPython\\core\\interactiveshell.py:3444: DtypeWarning: Columns (0,6) have mixed types.Specify dtype option on import or set low_memory=False.\n",
      "  exec(code_obj, self.user_global_ns, self.user_ns)\n"
     ]
    }
   ],
   "source": [
    "df = pd.read_csv(\"resultats-par-niveau-burvot-t1-france-entiere.txt\", header = 0, sep=';', encoding = 'latin-1')\n",
    "df0 = df[['Code du département', 'Libellé du département', 'Code de la commune', 'Libellé de la commune', 'Inscrits', 'Abstentions', '% Abs/Ins', 'Votants', '% Vot/Ins', 'Blancs', '% Blancs/Ins', '% Blancs/Vot', 'Nuls', '% Nuls/Ins', '% Nuls/Vot', 'Exprimés', '% Exp/Ins', '% Exp/Vot']]\n",
    "df_AN = df[['Sexe.AN', 'Nom.AN', 'Prénom.AN', 'Voix.AN', '% Voix/Ins.AN', '% Voix/Exp.AN']]\n",
    "df_RF = df[['Sexe.RF', 'Nom.RF', 'Prénom.RF', 'Voix.RF', '% Voix/Ins.RF', '% Voix/Exp.RF']]\n",
    "df_ME = df[['Sexe.ME', 'Nom.ME', 'Prénom.ME', 'Voix.ME', '% Voix/Ins.ME', '% Voix/Exp.ME']]\n",
    "df_LJ = df[['Sexe.LJ', 'Nom.LJ', 'Prénom.LJ', 'Voix.LJ', '% Voix/Ins.LJ', '% Voix/Exp.LJ']]\n",
    "df_LPM = df[['Sexe.LPM', 'Nom.LPM', 'Prénom.LPM', 'Voix.LPM', '% Voix/Ins.LPM', '% Voix/Exp.LPM']]\n",
    "df_ZE = df[['Sexe.ZE', 'Nom.ZE', 'Prénom.ZE', 'Voix.ZE', '% Voix/Ins.ZE', '% Voix/Exp.ZE']]\n",
    "df_MJL = df[['Sexe.MJL', 'Nom.MJL', 'Prénom.MJL', 'Voix.MJL', '% Voix/Ins.MJL', '% Voix/Exp.MJL']]\n",
    "df_HA = df[['Sexe.HA', 'Nom.HA', 'Prénom.HA', 'Voix.HA', '% Voix/Ins.HA', '% Voix/Exp.HA']]\n",
    "df_JY = df[['Sexe.JY', 'Nom.JY', 'Prénom.JY', 'Voix.JY', '% Voix/Ins.JY', '% Voix/Exp.JY']]\n",
    "df_PV = df[['Sexe.PV', 'Nom.PV', 'Prénom.PV', 'Voix.PV', '% Voix/Ins.PV', '% Voix/Exp.PV']]\n",
    "df_PP = df[['Sexe.PP', 'Nom.PP', 'Prénom.PP', 'Voix.PP', '% Voix/Ins.PP', '% Voix/Exp.PP']]\n",
    "df_DAN = df[['Sexe.DAN', 'Nom.DAN', 'Prénom.DAN', 'Voix.DAN', '% Voix/Ins.DAN', '% Voix/Exp.DAN']]"
   ]
  },
  {
   "cell_type": "code",
   "execution_count": 64,
   "metadata": {},
   "outputs": [
    {
     "name": "stdout",
     "output_type": "stream",
     "text": [
      "Nombre de variables dans le dataset général :  105\n",
      "Nombre d'observations dans le dataset général :  69681\n",
      "Nombre de variables dans le dataset 0 :  18\n",
      "Nombre d'observations dans le dataset 0 :  69681\n",
      "Nombre de variables dans un dataset candidat :  6\n",
      "Nombre d'observations dans un dataset candidat :  69681\n"
     ]
    }
   ],
   "source": [
    "print(\"Nombre de variables dans le dataset général : \", df.shape[1])\n",
    "print(\"Nombre d'observations dans le dataset général : \", df.shape[0])\n",
    "\n",
    "print(\"Nombre de variables dans le dataset 0 : \", df0.shape[1])\n",
    "print(\"Nombre d'observations dans le dataset 0 : \", df0.shape[0])\n",
    "\n",
    "print(\"Nombre de variables dans un dataset candidat : \", df_AN.shape[1])\n",
    "print(\"Nombre d'observations dans un dataset candidat : \", df_AN.shape[0])"
   ]
  },
  {
   "cell_type": "markdown",
   "metadata": {},
   "source": [
    "On calcule le nombre d'inscrits, de participants et de personnes s'étant abstenues :"
   ]
  },
  {
   "cell_type": "code",
   "execution_count": 65,
   "metadata": {},
   "outputs": [
    {
     "name": "stdout",
     "output_type": "stream",
     "text": [
      "Nombre d'inscrits :  48747231\n",
      "Nombre de votes exprimés :  35132427\n",
      "Nombre d'abstentionnistes :  12824061\n",
      "Nombre de votes blancs :  543593\n",
      "Nombre de votes nuls :  247150\n"
     ]
    },
    {
     "data": {
      "image/png": "[encoded data removed]",
      "text/plain": [
       "<Figure size 576x576 with 1 Axes>"
      ]
     },
     "metadata": {},
     "output_type": "display_data"
    }
   ],
   "source": [
    "#Stats générales : \n",
    "\n",
    "totalIns = np.sum(df['Inscrits'])\n",
    "totalExp = np.sum(df['Exprimés'])\n",
    "totalBlanc = np.sum(df['Blancs'])\n",
    "totalAbs = np.sum(df['Abstentions'])\n",
    "TotalNuls = np.sum(df['Nuls'])\n",
    "\n",
    "print(\"Nombre d'inscrits : \", totalIns)\n",
    "print(\"Nombre de votes exprimés : \", totalExp)\n",
    "print(\"Nombre d'abstentionnistes : \", totalAbs)\n",
    "print(\"Nombre de votes blancs : \", totalBlanc)\n",
    "print(\"Nombre de votes nuls : \", TotalNuls)\n",
    "\n",
    "statParticipation = np.array([totalExp, totalBlanc, totalAbs, TotalNuls])\n",
    "\n",
    "labelParticipation = ['Exprimés', 'Blancs', 'Abstentions', 'Nuls']\n",
    "\n",
    "camembertDepObs = plt.pie(statParticipation, labels=labelParticipation, normalize = True, autopct = lambda statParticipation: str(round(statParticipation, 2)) + '%', pctdistance=0.9)\n",
    "plt.rcParams[\"figure.figsize\"] = [8, 8]\n",
    "plt.show()"
   ]
  },
  {
   "cell_type": "code",
   "execution_count": 66,
   "metadata": {},
   "outputs": [
    {
     "name": "stdout",
     "output_type": "stream",
     "text": [
      "Abstention :  26.31 %\n",
      "Participation :  72.07 %\n",
      "Dont 1.12 % de votes blancs\n",
      "Votes nuls :  0.51 %\n"
     ]
    }
   ],
   "source": [
    "# Quels sont les différents taux ?\n",
    "\n",
    "rappExp = 100*totalExp/totalIns\n",
    "rappAbs = 100*totalAbs/totalIns\n",
    "rappBlanc = 100*totalBlanc/totalIns\n",
    "rappNul = 100*TotalNuls/totalIns\n",
    "\n",
    "\n",
    "\n",
    "print(\"Abstention : \", round(rappAbs, 2), \"%\")\n",
    "print(\"Participation : \", round(rappExp, 2), \"%\")\n",
    "print(\"Dont\", round(rappBlanc, 2), \"% de votes blancs\")\n",
    "print(\"Votes nuls : \", round(rappNul, 2), \"%\")"
   ]
  },
  {
   "cell_type": "markdown",
   "metadata": {},
   "source": [
    "Une abstention de 26.31%, ce qui est assez remarquable.\n",
    "Plus que n'importe quel candidat.\n",
    "Traçons les diagrammes camemberts des résultats sans puis avec abstentions et votes blancs:"
   ]
  },
  {
   "cell_type": "markdown",
   "metadata": {},
   "source": [
    "Voyons les résultats des candidats par départements"
   ]
  },
  {
   "cell_type": "code",
   "execution_count": 67,
   "metadata": {},
   "outputs": [],
   "source": [
    "df_ZE_dep = pd.pivot_table(data = df, index = 'Libellé du département', values = 'Voix.ZE', aggfunc = 'sum')\n",
    "df_DAN_dep = pd.pivot_table(data = df, index = 'Libellé du département', values = 'Voix.DAN', aggfunc = 'sum')\n",
    "df_AN_dep = pd.pivot_table(data = df, index = 'Libellé du département', values = 'Voix.AN', aggfunc = 'sum')\n",
    "df_HA_dep = pd.pivot_table(data = df, index = 'Libellé du département', values = 'Voix.HA', aggfunc = 'sum')\n",
    "df_JY_dep = pd.pivot_table(data = df, index = 'Libellé du département', values = 'Voix.JY', aggfunc = 'sum')\n",
    "df_LJ_dep = pd.pivot_table(data = df, index = 'Libellé du département', values = 'Voix.LJ', aggfunc = 'sum')\n",
    "df_LPM_dep = pd.pivot_table(data = df, index = 'Libellé du département', values = 'Voix.LPM', aggfunc = 'sum')\n",
    "df_ME_dep = pd.pivot_table(data = df, index = 'Libellé du département', values = 'Voix.ME', aggfunc = 'sum')\n",
    "df_MJL_dep = pd.pivot_table(data = df, index = 'Libellé du département', values = 'Voix.MJL', aggfunc = 'sum')\n",
    "df_PV_dep = pd.pivot_table(data = df, index = 'Libellé du département', values = 'Voix.PV', aggfunc = 'sum')\n",
    "df_PP_dep = pd.pivot_table(data = df, index = 'Libellé du département', values = 'Voix.PP', aggfunc = 'sum')\n",
    "df_RF_dep = pd.pivot_table(data = df, index = 'Libellé du département', values = 'Voix.RF', aggfunc = 'sum')\n",
    "df_BLANC_dep = pd.pivot_table(data = df, index = 'Libellé du département', values = 'Blancs', aggfunc = 'sum')\n",
    "df_ABS_dep = pd.pivot_table(data = df, index = 'Libellé du département', values = 'Abstentions', aggfunc = 'sum')\n",
    "df_NUL_dep = pd.pivot_table(data = df, index = 'Libellé du département', values = 'Nuls', aggfunc = 'sum')"
   ]
  },
  {
   "cell_type": "markdown",
   "metadata": {},
   "source": [
    "On va créer la fonction qui donne un camembert des résultats en fonction du département :"
   ]
  },
  {
   "cell_type": "code",
   "execution_count": 68,
   "metadata": {},
   "outputs": [],
   "source": [
    "def camembertDepObs(depObs):\n",
    "    voixCandidatDepObs = np.array([np.sum(df_AN_dep['Voix.AN'][depObs]), np.sum(df_RF_dep['Voix.RF'][depObs]), \n",
    "    np.sum(df_ME_dep['Voix.ME'][depObs]), np.sum(df_LJ_dep['Voix.LJ'][depObs]), \n",
    "    np.sum(df_LPM_dep['Voix.LPM'][depObs]), np.sum(df_ZE_dep['Voix.ZE'][depObs]), \n",
    "    np.sum(df_MJL_dep['Voix.MJL'][depObs]), np.sum(df_HA_dep['Voix.HA'][depObs]), \n",
    "    np.sum(df_JY_dep['Voix.JY'][depObs]), np.sum(df_PV_dep['Voix.PV'][depObs]), \n",
    "    np.sum(df_PP_dep['Voix.PP'][depObs]), np.sum(df_DAN_dep['Voix.DAN'][depObs]),\n",
    "    np.sum(df_BLANC_dep['Blancs'][depObs]), np.sum(df_ABS_dep['Abstentions'][depObs]), np.sum(df_NUL_dep['Nuls'][depObs])])\n",
    "\n",
    "    labelDepObs = [df['Nom.AN'][0], df['Nom.RF'][0], df['Nom.ME'][0], df['Nom.LJ'][0], df['Nom.LPM'][0], df['Nom.ZE'][0], df['Nom.MJL'][0], df['Nom.HA'][0], \n",
    "    df['Nom.JY'][0], df['Nom.PV'][0], df['Nom.PP'][0], df['Nom.DAN'][0], 'BLANCS', 'ABSTENTIONS', 'NULS']\n",
    "\n",
    "    camembertDepObs = plt.pie(voixCandidatDepObs, labels=labelDepObs, normalize = True, autopct = lambda voixCandidatDepObs: str(round(voixCandidatDepObs, 2)) + '%', pctdistance=0.9)\n",
    "    plt.rcParams[\"figure.figsize\"] = [13, 13]\n",
    "    plt.show()"
   ]
  },
  {
   "cell_type": "code",
   "execution_count": 79,
   "metadata": {},
   "outputs": [
    {
     "data": {
      "image/png": "[encoded data removed]",
      "text/plain": [
       "<Figure size 936x936 with 1 Axes>"
      ]
     },
     "metadata": {},
     "output_type": "display_data"
    }
   ],
   "source": [
    "depObs = 'Ain'\n",
    "\n",
    "camembertDepObs(depObs)"
   ]
  },
  {
   "cell_type": "code",
   "execution_count": 90,
   "metadata": {},
   "outputs": [],
   "source": [
    "def dep_prct(tableau, booleen):\n",
    "      tab = df[['Code du département','Libellé du département', tableau]]\n",
    "      frame1 = pd.DataFrame(tab)\n",
    "      tab2 = frame1.groupby([\"Code du département\",\"Libellé du département\"]).mean()\n",
    "      res = tab2.sort_values(by=tableau,ascending=booleen)\n",
    "\n",
    "      return res.head(20)"
   ]
  },
  {
   "cell_type": "code",
   "execution_count": 89,
   "metadata": {},
   "outputs": [],
   "source": [
    "def dep(tableau, booleen):\n",
    "      tab = df[['Code du département','Libellé du département', tableau]]\n",
    "      frame1 = pd.DataFrame(tab)\n",
    "      tab2 = frame1.groupby([\"Code du département\",\"Libellé du département\"]).sum()\n",
    "      res = tab2.sort_values(by = tableau, ascending = booleen)\n",
    "\n",
    "      return res.head(20)"
   ]
  },
  {
   "cell_type": "code",
   "execution_count": 94,
   "metadata": {},
   "outputs": [
    {
     "data": {
      "text/html": [
       "<div>\n",
       "<style scoped>\n",
       "    .dataframe tbody tr th:only-of-type {\n",
       "        vertical-align: middle;\n",
       "    }\n",
       "\n",
       "    .dataframe tbody tr th {\n",
       "        vertical-align: top;\n",
       "    }\n",
       "\n",
       "    .dataframe thead th {\n",
       "        text-align: right;\n",
       "    }\n",
       "</style>\n",
       "<table border=\"1\" class=\"dataframe\">\n",
       "  <thead>\n",
       "    <tr style=\"text-align: right;\">\n",
       "      <th></th>\n",
       "      <th></th>\n",
       "      <th>Voix.ZE</th>\n",
       "    </tr>\n",
       "    <tr>\n",
       "      <th>Code du département</th>\n",
       "      <th>Libellé du département</th>\n",
       "      <th></th>\n",
       "    </tr>\n",
       "  </thead>\n",
       "  <tbody>\n",
       "    <tr>\n",
       "      <th>13</th>\n",
       "      <th>Bouches-du-Rhône</th>\n",
       "      <td>108617</td>\n",
       "    </tr>\n",
       "    <tr>\n",
       "      <th>75</th>\n",
       "      <th>Paris</th>\n",
       "      <td>86088</td>\n",
       "    </tr>\n",
       "    <tr>\n",
       "      <th>83</th>\n",
       "      <th>Var</th>\n",
       "      <td>79329</td>\n",
       "    </tr>\n",
       "    <tr>\n",
       "      <th>6</th>\n",
       "      <th>Alpes-Maritimes</th>\n",
       "      <td>78208</td>\n",
       "    </tr>\n",
       "    <tr>\n",
       "      <th>69</th>\n",
       "      <th>Rhône</th>\n",
       "      <td>74168</td>\n",
       "    </tr>\n",
       "    <tr>\n",
       "      <th>...</th>\n",
       "      <th>...</th>\n",
       "      <td>...</td>\n",
       "    </tr>\n",
       "    <tr>\n",
       "      <th>ZX</th>\n",
       "      <th>Saint-Martin/Saint-Barthélemy</th>\n",
       "      <td>1107</td>\n",
       "    </tr>\n",
       "    <tr>\n",
       "      <th>28</th>\n",
       "      <th>Eure-et-Loir</th>\n",
       "      <td>779</td>\n",
       "    </tr>\n",
       "    <tr>\n",
       "      <th>ZM</th>\n",
       "      <th>Mayotte</th>\n",
       "      <td>482</td>\n",
       "    </tr>\n",
       "    <tr>\n",
       "      <th>ZW</th>\n",
       "      <th>Wallis et Futuna</th>\n",
       "      <td>118</td>\n",
       "    </tr>\n",
       "    <tr>\n",
       "      <th>ZS</th>\n",
       "      <th>Saint-Pierre-et-Miquelon</th>\n",
       "      <td>80</td>\n",
       "    </tr>\n",
       "  </tbody>\n",
       "</table>\n",
       "<p>110 rows × 1 columns</p>\n",
       "</div>"
      ],
      "text/plain": [
       "                                                   Voix.ZE\n",
       "Code du département Libellé du département                \n",
       "13                  Bouches-du-Rhône                108617\n",
       "75                  Paris                            86088\n",
       "83                  Var                              79329\n",
       "6                   Alpes-Maritimes                  78208\n",
       "69                  Rhône                            74168\n",
       "...                                                    ...\n",
       "ZX                  Saint-Martin/Saint-Barthélemy     1107\n",
       "28                  Eure-et-Loir                       779\n",
       "ZM                  Mayotte                            482\n",
       "ZW                  Wallis et Futuna                   118\n",
       "ZS                  Saint-Pierre-et-Miquelon            80\n",
       "\n",
       "[110 rows x 1 columns]"
      ]
     },
     "execution_count": 94,
     "metadata": {},
     "output_type": "execute_result"
    }
   ],
   "source": [
    "dep('Voix.ZE', False)"
   ]
  },
  {
   "cell_type": "code",
   "execution_count": 73,
   "metadata": {},
   "outputs": [],
   "source": [
    "def comm_prct(voix,prct,asc):\n",
    "    tab = df[['Libellé de la commune', voix]]\n",
    "    tab1 = df[['Libellé de la commune', prct]]\n",
    "\n",
    "    frame = pd.DataFrame(tab)\n",
    "    frame1 = pd.DataFrame(tab1)\n",
    "    frame2 = frame.merge(frame1)\n",
    "\n",
    "    #res1 = frame.groupby([\"Libellé de la commune\"]).sum()\n",
    "    #res2 = frame1.groupby([\"Libellé de la commune\"]).mean()\n",
    "    #res3 = res2.iloc[:, 0]\n",
    "    #sort1 = res1.sort_values(by=voix,ascending=asc)\n",
    "    #sort2 = res2.sort_values(by=prct,ascending=asc)\n",
    "\n",
    "    #total = pd.concat([res1,res3],copy=False)\n",
    "    #print(res1)\n",
    "    #print(res2)\n",
    "    #print(res3)\n",
    "    return frame2"
   ]
  },
  {
   "cell_type": "code",
   "execution_count": 77,
   "metadata": {},
   "outputs": [
    {
     "data": {
      "text/html": [
       "<div>\n",
       "<style scoped>\n",
       "    .dataframe tbody tr th:only-of-type {\n",
       "        vertical-align: middle;\n",
       "    }\n",
       "\n",
       "    .dataframe tbody tr th {\n",
       "        vertical-align: top;\n",
       "    }\n",
       "\n",
       "    .dataframe thead th {\n",
       "        text-align: right;\n",
       "    }\n",
       "</style>\n",
       "<table border=\"1\" class=\"dataframe\">\n",
       "  <thead>\n",
       "    <tr style=\"text-align: right;\">\n",
       "      <th></th>\n",
       "      <th>Libellé de la commune</th>\n",
       "      <th>Voix.MJL</th>\n",
       "      <th>% Voix/Ins.MJL</th>\n",
       "    </tr>\n",
       "  </thead>\n",
       "  <tbody>\n",
       "    <tr>\n",
       "      <th>0</th>\n",
       "      <td>L'Abergement-de-Varey</td>\n",
       "      <td>41</td>\n",
       "      <td>19.25</td>\n",
       "    </tr>\n",
       "    <tr>\n",
       "      <th>1</th>\n",
       "      <td>Ambérieu-en-Bugey</td>\n",
       "      <td>216</td>\n",
       "      <td>19.13</td>\n",
       "    </tr>\n",
       "    <tr>\n",
       "      <th>2</th>\n",
       "      <td>Ambérieu-en-Bugey</td>\n",
       "      <td>216</td>\n",
       "      <td>17.20</td>\n",
       "    </tr>\n",
       "    <tr>\n",
       "      <th>3</th>\n",
       "      <td>Ambérieu-en-Bugey</td>\n",
       "      <td>216</td>\n",
       "      <td>18.71</td>\n",
       "    </tr>\n",
       "    <tr>\n",
       "      <th>4</th>\n",
       "      <td>Ambérieu-en-Bugey</td>\n",
       "      <td>216</td>\n",
       "      <td>21.65</td>\n",
       "    </tr>\n",
       "    <tr>\n",
       "      <th>...</th>\n",
       "      <td>...</td>\n",
       "      <td>...</td>\n",
       "      <td>...</td>\n",
       "    </tr>\n",
       "    <tr>\n",
       "      <th>2195470</th>\n",
       "      <td>Zurich</td>\n",
       "      <td>1475</td>\n",
       "      <td>5.93</td>\n",
       "    </tr>\n",
       "    <tr>\n",
       "      <th>2195471</th>\n",
       "      <td>Taipei</td>\n",
       "      <td>176</td>\n",
       "      <td>10.30</td>\n",
       "    </tr>\n",
       "    <tr>\n",
       "      <th>2195472</th>\n",
       "      <td>Nour-Soultan</td>\n",
       "      <td>9</td>\n",
       "      <td>7.69</td>\n",
       "    </tr>\n",
       "    <tr>\n",
       "      <th>2195473</th>\n",
       "      <td>Monterrey</td>\n",
       "      <td>19</td>\n",
       "      <td>2.66</td>\n",
       "    </tr>\n",
       "    <tr>\n",
       "      <th>2195474</th>\n",
       "      <td>Bahamas (Nassau)</td>\n",
       "      <td>2</td>\n",
       "      <td>1.47</td>\n",
       "    </tr>\n",
       "  </tbody>\n",
       "</table>\n",
       "<p>2195475 rows × 3 columns</p>\n",
       "</div>"
      ],
      "text/plain": [
       "         Libellé de la commune  Voix.MJL  % Voix/Ins.MJL\n",
       "0        L'Abergement-de-Varey        41           19.25\n",
       "1            Ambérieu-en-Bugey       216           19.13\n",
       "2            Ambérieu-en-Bugey       216           17.20\n",
       "3            Ambérieu-en-Bugey       216           18.71\n",
       "4            Ambérieu-en-Bugey       216           21.65\n",
       "...                        ...       ...             ...\n",
       "2195470                 Zurich      1475            5.93\n",
       "2195471                 Taipei       176           10.30\n",
       "2195472           Nour-Soultan         9            7.69\n",
       "2195473              Monterrey        19            2.66\n",
       "2195474       Bahamas (Nassau)         2            1.47\n",
       "\n",
       "[2195475 rows x 3 columns]"
      ]
     },
     "execution_count": 77,
     "metadata": {},
     "output_type": "execute_result"
    }
   ],
   "source": [
    "comm_prct('Voix.MJL', '% Voix/Ins.MJL', False)"
   ]
  }
 ],
 "metadata": {
  "interpreter": {
   "hash": "d06d277c40914d92602f791bea4645308df552f791d50592a9c0a758accc172c"
  },
  "kernelspec": {
   "display_name": "Python 3.9.7 ('base')",
   "language": "python",
   "name": "python3"
  },
  "language_info": {
   "codemirror_mode": {
    "name": "ipython",
    "version": 3
   },
   "file_extension": ".py",
   "mimetype": "text/x-python",
   "name": "python",
   "nbconvert_exporter": "python",
   "pygments_lexer": "ipython3",
   "version": "3.9.7"
  },
  "orig_nbformat": 4
 },
 "nbformat": 4,
 "nbformat_minor": 2
}
