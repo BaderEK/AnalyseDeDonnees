{
 "cells": [
  {
   "cell_type": "markdown",
   "metadata": {},
   "source": [
    "<center><img src=\"https://file.diplomeo-static.com/file/00/00/01/34/13431.svg\" alt=\"drawing\" style=\"width:100px;\"/></center>\n",
    "\n",
    "# Introduction à Python pour la Data Science\n",
    "\n",
    "## Exercices de découverte de Python"
   ]
  },
  {
   "cell_type": "markdown",
   "metadata": {},
   "source": [
    "## Exercice 1\n",
    "Soit les vecteurs :"
   ]
  },
  {
   "cell_type": "code",
   "execution_count": null,
   "metadata": {},
   "outputs": [],
   "source": [
    "v1 = [3, 2, 7,55]\n",
    "v2 = [6,8,5,6]"
   ]
  },
  {
   "cell_type": "markdown",
   "metadata": {},
   "source": [
    "- Faire la somme de v1 et v2 et conserver le résultat dans une variable v3. \n",
    "- Réaliser le produit des éléments de v2\n",
    "- Rajouter 4 dans v1 à toutes les valeurs inférieur à 30"
   ]
  },
  {
   "cell_type": "markdown",
   "metadata": {},
   "source": [
    "## Exercice 2\n",
    "- Créer deux listes list1 et list2 contenant chacune le nom, prenom, age d’une personne fictive.\n",
    "- Les regrouper dans une même liste \"couple\".\n",
    "- Afficher indépendamment leur nom et prénom."
   ]
  },
  {
   "cell_type": "markdown",
   "metadata": {},
   "source": [
    "## Exercice 3\n",
    "Soit la liste : "
   ]
  },
  {
   "cell_type": "code",
   "execution_count": null,
   "metadata": {},
   "outputs": [],
   "source": [
    "liste = [17, 38, 10, 25, 72]"
   ]
  },
  {
   "cell_type": "markdown",
   "metadata": {},
   "source": [
    "- trier et afficher la liste ;\n",
    "- ajouter l’élément 12 à la liste et afficher la liste ;\n",
    "- renverser et afficher la liste ;\n",
    "- afficher l’indice de l’élément 17 ;\n",
    "- enlever l’élément 38 et afficher la liste ;\n",
    "- afficher la sous-liste du 2eau 3eélément ;\n",
    "- afficher la sous-liste du début au 2eélément ;\n",
    "- afficher la sous-liste du 3eélément à la fin de la liste ;\n",
    "- afficher la sous-liste complète de la liste ;\n",
    "- afficher le dernier élément en utilisant un indiçage négatif."
   ]
  },
  {
   "cell_type": "markdown",
   "metadata": {},
   "source": [
    "## Exercice 4\n",
    "\n",
    "Créer un tableau « Donnee» de 3 colonnes et 6 lignes telles que :\n",
    "- la première colonne contienne la variable taille en cm,\n",
    "- la deuxième colonne contienne la variable poids,\n",
    "- la troisième colonne soit un facteur indiquant le sexe de l'individu."
   ]
  },
  {
   "cell_type": "markdown",
   "metadata": {},
   "source": [
    "- Nommer les colonnes de ce tableau de manière adéquate.\n",
    "- Calculer une variable IMC tel que IMC = poids / taille^2 et l’intégrer dans le tableau donnee\n",
    "- Quel est l’IMC moyen ?\n",
    "- Combien-y-a-t-il de femme et d’homme ? "
   ]
  },
  {
   "cell_type": "markdown",
   "metadata": {},
   "source": [
    "## Exercice 5\n",
    "Initialisez deux entiers : a = 0 et b = 10.\n",
    "Écrire une boucle affichant et incrémentant la valeur de a tant qu’elle reste inférieure\n",
    "à celle de b.\n",
    "Écrire une autre boucle décrémentant la valeur de b et affichant sa valeur si elle est\n",
    "impaire. Boucler tant que b n’est pas nul."
   ]
  },
  {
   "cell_type": "markdown",
   "metadata": {},
   "source": [
    "## Exercice 6\n",
    "\n",
    "Ecrire une fonction « CalculTarif » qui prend pour argument une valeur d’âge et qui affiche : « demi-‐tarif » si l’âge est inférieur à 12 ans, « tarif sénior » si l’âge est supérieur à 60 ans et « plein tarif » sinon. \n",
    "\n",
    "- Tester votre fonction pour des personnes de 5, 65, 85, 41, 23, 47 ans.\n"
   ]
  },
  {
   "cell_type": "markdown",
   "metadata": {},
   "source": [
    "## Exercice 7\n",
    "\n",
    "Créer une fonction « formule » qui prend en argument une valeur de X et qui donne en sortie la valeur de Y associée.  \n",
    "Calculer la liste « Youtput » des valeurs de Y associées aux valeurs de X = 15, 89, 56, 78, 152, 66, 48, 77, 2, 96.\n",
    "\n",
    "PV = nRT avec les unités suivantes (généralement utilisées):\n",
    "- P = pression du gaz en Pa\n",
    "- V = volume en m3\n",
    "- n = quantité de matière en mol\n",
    "- T = température absolue en K (Kelvins)\n",
    "- R = 8.314 SI (si les unités utilisées sont celles ci-dessus)"
   ]
  },
  {
   "cell_type": "markdown",
   "metadata": {},
   "source": [
    "## Exercice  8\n",
    "\n",
    "Créer une fonction qui identifie les mots ou phrases palindromiques (mots ou phrases qui se lisent dans les deux sens, par exemple RADAR). \n",
    "\n",
    "Cette fonction prendra comme argument le mot « mot » et retournera les phrases : « mot est un palindrome » si le mot = palindrome et « mot n’est pas un palindrome », sinon. \n",
    "- Appliquer votre fonction sur les mots « radar », « hannah », « sept », « kayak », « la mariée ira mal », « capitaine », « engage le jeu que je le gagne »."
   ]
  },
  {
   "cell_type": "markdown",
   "metadata": {},
   "source": [
    "## Exercice 9\n",
    "\n",
    "Écrire une fonction volumeSphere qui calcule le volume d’une sphère de rayon r fourni\n",
    "en argument et qui utilise la fonction cube.\n",
    "- Tester la fonction volumeSphere par un appel dans le programme principal."
   ]
  },
  {
   "cell_type": "markdown",
   "metadata": {},
   "source": [
    "## Enseignant\n",
    "\n",
    "Patrice Mazel - patrice.mazel@protonmail.com - 3A MAM 2021/2022"
   ]
  }
 ],
 "metadata": {
  "kernelspec": {
   "display_name": "Python 3 (ipykernel)",
   "language": "python",
   "name": "python3"
  },
  "language_info": {
   "codemirror_mode": {
    "name": "ipython",
    "version": 3
   },
   "file_extension": ".py",
   "mimetype": "text/x-python",
   "name": "python",
   "nbconvert_exporter": "python",
   "pygments_lexer": "ipython3",
   "version": "3.9.10"
  }
 },
 "nbformat": 4,
 "nbformat_minor": 4
}
